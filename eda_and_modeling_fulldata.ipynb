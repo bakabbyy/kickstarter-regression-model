{
 "cells": [
  {
   "cell_type": "code",
   "execution_count": 147,
   "metadata": {
    "pycharm": {
     "is_executing": false
    }
   },
   "outputs": [],
   "source": [
    "import pandas as pd\n",
    "import numpy as np\n",
    "import pickle\n",
    "import seaborn as sns\n",
    "import matplotlib.pyplot as plt\n",
    "%matplotlib inline\n",
    "\n",
    "import statsmodels.api as sm\n",
    "import statsmodels.formula.api as smf\n",
    "from statsmodels.stats.outliers_influence import variance_inflation_factor\n",
    "import scipy.stats as stats\n",
    "import patsy\n",
    "\n",
    "from sklearn.linear_model import LinearRegression, Lasso, LassoCV, Ridge, RidgeCV\n",
    "from sklearn.metrics import r2_score\n",
    "from sklearn.model_selection import train_test_split, KFold\n",
    "from sklearn.preprocessing import StandardScaler, PolynomialFeatures, power_transform\n",
    "from sklearn.pipeline import Pipeline"
   ]
  },
  {
   "cell_type": "code",
   "execution_count": 148,
   "metadata": {
    "pycharm": {
     "is_executing": false
    }
   },
   "outputs": [
    {
     "name": "stdout",
     "output_type": "stream",
     "text": [
      "(0.6313725490196078, 0.788235294117647, 0.9568627450980393)\n"
     ]
    },
    {
     "data": {
      "image/png": "[encoded data removed]",
      "text/plain": [
       "<Figure size 720x72 with 1 Axes>"
      ]
     },
     "metadata": {},
     "output_type": "display_data"
    }
   ],
   "source": [
    "# Set styles for plots \n",
    "sns.set('notebook')\n",
    "sns.set_style('ticks')\n",
    "sns.set_palette('pastel')\n",
    "\n",
    "# Extract RGB codes from color_palette to style plots\n",
    "color_list = sns.color_palette('pastel')\n",
    "print(color_list[0])\n",
    "\n",
    "sns.palplot(sns.color_palette('pastel'))"
   ]
  },
  {
   "cell_type": "code",
   "execution_count": 149,
   "metadata": {
    "pycharm": {
     "is_executing": false
    }
   },
   "outputs": [],
   "source": [
    "with open('kickstarter_datafull.pickle', 'rb') as f:\n",
    "    df = pickle.load(f)"
   ]
  },
  {
   "cell_type": "code",
   "execution_count": 150,
   "metadata": {
    "pycharm": {
     "is_executing": false
    }
   },
   "outputs": [
    {
     "name": "stdout",
     "output_type": "stream",
     "text": [
      "(194318, 21)\n"
     ]
    },
    {
     "data": {
      "text/html": [
       "<div>\n",
       "<style scoped>\n",
       "    .dataframe tbody tr th:only-of-type {\n",
       "        vertical-align: middle;\n",
       "    }\n",
       "\n",
       "    .dataframe tbody tr th {\n",
       "        vertical-align: top;\n",
       "    }\n",
       "\n",
       "    .dataframe thead th {\n",
       "        text-align: right;\n",
       "    }\n",
       "</style>\n",
       "<table border=\"1\" class=\"dataframe\">\n",
       "  <thead>\n",
       "    <tr style=\"text-align: right;\">\n",
       "      <th></th>\n",
       "      <th>backers_count</th>\n",
       "      <th>country</th>\n",
       "      <th>created_at</th>\n",
       "      <th>deadline</th>\n",
       "      <th>goal</th>\n",
       "      <th>launched_at</th>\n",
       "      <th>name</th>\n",
       "      <th>spotlight</th>\n",
       "      <th>staff_pick</th>\n",
       "      <th>state</th>\n",
       "      <th>...</th>\n",
       "      <th>usd_pledged</th>\n",
       "      <th>category</th>\n",
       "      <th>subcategory</th>\n",
       "      <th>project_url</th>\n",
       "      <th>project_life</th>\n",
       "      <th>campaign_length</th>\n",
       "      <th>launch_month</th>\n",
       "      <th>deadline_month</th>\n",
       "      <th>daily_amount_pledged</th>\n",
       "      <th>daily_backers</th>\n",
       "    </tr>\n",
       "  </thead>\n",
       "  <tbody>\n",
       "    <tr>\n",
       "      <th>0</th>\n",
       "      <td>1</td>\n",
       "      <td>US</td>\n",
       "      <td>2016-09-11 22:05:51</td>\n",
       "      <td>2016-12-05 19:42:23</td>\n",
       "      <td>5000.0</td>\n",
       "      <td>2016-11-05 18:42:23</td>\n",
       "      <td>Industrial Bamboo Table</td>\n",
       "      <td>False</td>\n",
       "      <td>False</td>\n",
       "      <td>failed</td>\n",
       "      <td>...</td>\n",
       "      <td>240.000000</td>\n",
       "      <td>crafts</td>\n",
       "      <td>woodworking</td>\n",
       "      <td>https://www.kickstarter.com/projects/983022919...</td>\n",
       "      <td>84</td>\n",
       "      <td>30</td>\n",
       "      <td>2016-11</td>\n",
       "      <td>2016-12</td>\n",
       "      <td>8.0</td>\n",
       "      <td>0.0333</td>\n",
       "    </tr>\n",
       "    <tr>\n",
       "      <th>1</th>\n",
       "      <td>3</td>\n",
       "      <td>CA</td>\n",
       "      <td>2015-07-10 14:59:32</td>\n",
       "      <td>2015-08-24 12:00:34</td>\n",
       "      <td>1000.0</td>\n",
       "      <td>2015-07-21 12:00:34</td>\n",
       "      <td>Custom Pet Portraits on Canvas- \"From Pixels t...</td>\n",
       "      <td>False</td>\n",
       "      <td>False</td>\n",
       "      <td>failed</td>\n",
       "      <td>...</td>\n",
       "      <td>247.950175</td>\n",
       "      <td>art</td>\n",
       "      <td>painting</td>\n",
       "      <td>https://www.kickstarter.com/projects/101531536...</td>\n",
       "      <td>44</td>\n",
       "      <td>34</td>\n",
       "      <td>2015-07</td>\n",
       "      <td>2015-08</td>\n",
       "      <td>7.0</td>\n",
       "      <td>0.0882</td>\n",
       "    </tr>\n",
       "    <tr>\n",
       "      <th>2</th>\n",
       "      <td>243</td>\n",
       "      <td>US</td>\n",
       "      <td>2015-03-24 17:41:14</td>\n",
       "      <td>2015-05-15 16:22:34</td>\n",
       "      <td>35000.0</td>\n",
       "      <td>2015-04-15 16:22:34</td>\n",
       "      <td>The Barmobile: Boston's Mobile Cocktail Cateri...</td>\n",
       "      <td>True</td>\n",
       "      <td>True</td>\n",
       "      <td>successful</td>\n",
       "      <td>...</td>\n",
       "      <td>41738.000000</td>\n",
       "      <td>food</td>\n",
       "      <td>food trucks</td>\n",
       "      <td>https://www.kickstarter.com/projects/372111659...</td>\n",
       "      <td>51</td>\n",
       "      <td>30</td>\n",
       "      <td>2015-04</td>\n",
       "      <td>2015-05</td>\n",
       "      <td>1391.0</td>\n",
       "      <td>8.1000</td>\n",
       "    </tr>\n",
       "    <tr>\n",
       "      <th>3</th>\n",
       "      <td>27</td>\n",
       "      <td>US</td>\n",
       "      <td>2017-05-18 12:30:32</td>\n",
       "      <td>2017-07-16 15:03:03</td>\n",
       "      <td>3000.0</td>\n",
       "      <td>2017-06-01 15:03:03</td>\n",
       "      <td>Grandfather Thunder &amp; The Night Horses</td>\n",
       "      <td>True</td>\n",
       "      <td>False</td>\n",
       "      <td>successful</td>\n",
       "      <td>...</td>\n",
       "      <td>3115.000000</td>\n",
       "      <td>publishing</td>\n",
       "      <td>children's books</td>\n",
       "      <td>https://www.kickstarter.com/projects/133655246...</td>\n",
       "      <td>59</td>\n",
       "      <td>45</td>\n",
       "      <td>2017-06</td>\n",
       "      <td>2017-07</td>\n",
       "      <td>69.0</td>\n",
       "      <td>0.6000</td>\n",
       "    </tr>\n",
       "    <tr>\n",
       "      <th>4</th>\n",
       "      <td>3</td>\n",
       "      <td>US</td>\n",
       "      <td>2017-06-11 02:02:05</td>\n",
       "      <td>2017-09-09 19:17:10</td>\n",
       "      <td>250000.0</td>\n",
       "      <td>2017-08-10 19:17:10</td>\n",
       "      <td>Parker's Cup Coffee &amp; Tea</td>\n",
       "      <td>False</td>\n",
       "      <td>False</td>\n",
       "      <td>failed</td>\n",
       "      <td>...</td>\n",
       "      <td>61.000000</td>\n",
       "      <td>food</td>\n",
       "      <td>drinks</td>\n",
       "      <td>https://www.kickstarter.com/projects/107038669...</td>\n",
       "      <td>90</td>\n",
       "      <td>30</td>\n",
       "      <td>2017-08</td>\n",
       "      <td>2017-09</td>\n",
       "      <td>2.0</td>\n",
       "      <td>0.1000</td>\n",
       "    </tr>\n",
       "  </tbody>\n",
       "</table>\n",
       "<p>5 rows × 21 columns</p>\n",
       "</div>"
      ],
      "text/plain": [
       "   backers_count country          created_at            deadline      goal  \\\n",
       "0              1      US 2016-09-11 22:05:51 2016-12-05 19:42:23    5000.0   \n",
       "1              3      CA 2015-07-10 14:59:32 2015-08-24 12:00:34    1000.0   \n",
       "2            243      US 2015-03-24 17:41:14 2015-05-15 16:22:34   35000.0   \n",
       "3             27      US 2017-05-18 12:30:32 2017-07-16 15:03:03    3000.0   \n",
       "4              3      US 2017-06-11 02:02:05 2017-09-09 19:17:10  250000.0   \n",
       "\n",
       "          launched_at                                               name  \\\n",
       "0 2016-11-05 18:42:23                            Industrial Bamboo Table   \n",
       "1 2015-07-21 12:00:34  Custom Pet Portraits on Canvas- \"From Pixels t...   \n",
       "2 2015-04-15 16:22:34  The Barmobile: Boston's Mobile Cocktail Cateri...   \n",
       "3 2017-06-01 15:03:03             Grandfather Thunder & The Night Horses   \n",
       "4 2017-08-10 19:17:10                          Parker's Cup Coffee & Tea   \n",
       "\n",
       "   spotlight  staff_pick       state  ...   usd_pledged    category  \\\n",
       "0      False       False      failed  ...    240.000000      crafts   \n",
       "1      False       False      failed  ...    247.950175         art   \n",
       "2       True        True  successful  ...  41738.000000        food   \n",
       "3       True       False  successful  ...   3115.000000  publishing   \n",
       "4      False       False      failed  ...     61.000000        food   \n",
       "\n",
       "        subcategory                                        project_url  \\\n",
       "0       woodworking  https://www.kickstarter.com/projects/983022919...   \n",
       "1          painting  https://www.kickstarter.com/projects/101531536...   \n",
       "2       food trucks  https://www.kickstarter.com/projects/372111659...   \n",
       "3  children's books  https://www.kickstarter.com/projects/133655246...   \n",
       "4            drinks  https://www.kickstarter.com/projects/107038669...   \n",
       "\n",
       "  project_life  campaign_length  launch_month deadline_month  \\\n",
       "0           84               30       2016-11        2016-12   \n",
       "1           44               34       2015-07        2015-08   \n",
       "2           51               30       2015-04        2015-05   \n",
       "3           59               45       2017-06        2017-07   \n",
       "4           90               30       2017-08        2017-09   \n",
       "\n",
       "  daily_amount_pledged  daily_backers  \n",
       "0                  8.0         0.0333  \n",
       "1                  7.0         0.0882  \n",
       "2               1391.0         8.1000  \n",
       "3                 69.0         0.6000  \n",
       "4                  2.0         0.1000  \n",
       "\n",
       "[5 rows x 21 columns]"
      ]
     },
     "execution_count": 150,
     "metadata": {},
     "output_type": "execute_result"
    }
   ],
   "source": [
    "print(df.shape)\n",
    "df.head()"
   ]
  },
  {
   "cell_type": "code",
   "execution_count": 151,
   "metadata": {},
   "outputs": [],
   "source": [
    "# Additional filter --> only US projects\n",
    "df = df.loc[df['country'] == 'US']"
   ]
  },
  {
   "cell_type": "markdown",
   "metadata": {},
   "source": [
    "<font color=\"red\">RANDOM IDEA FOR OTHER TARGET</font> --> Predict how much over/under the goal a project will be. Can use daily backers and daily pledge amounts as \"velocity\" terms, the goal itself would come into play here, as well as the time marketed and campaign length..."
   ]
  },
  {
   "cell_type": "markdown",
   "metadata": {
    "toc-hr-collapsed": false
   },
   "source": [
    "# Data preprocesing and dummy variables"
   ]
  },
  {
   "cell_type": "code",
   "execution_count": 152,
   "metadata": {},
   "outputs": [],
   "source": [
    "# Goal differential\n",
    "df['goal_diff'] = df['usd_pledged'] - df['goal']"
   ]
  },
  {
   "cell_type": "code",
   "execution_count": 153,
   "metadata": {},
   "outputs": [],
   "source": [
    "# Goal differential (as a percentage)\n",
    "df['goal_diff_perc'] = (df['usd_pledged'] - df['goal']) / df['goal']"
   ]
  },
  {
   "cell_type": "code",
   "execution_count": 154,
   "metadata": {},
   "outputs": [
    {
     "data": {
      "text/html": [
       "<div>\n",
       "<style scoped>\n",
       "    .dataframe tbody tr th:only-of-type {\n",
       "        vertical-align: middle;\n",
       "    }\n",
       "\n",
       "    .dataframe tbody tr th {\n",
       "        vertical-align: top;\n",
       "    }\n",
       "\n",
       "    .dataframe thead th {\n",
       "        text-align: right;\n",
       "    }\n",
       "</style>\n",
       "<table border=\"1\" class=\"dataframe\">\n",
       "  <thead>\n",
       "    <tr style=\"text-align: right;\">\n",
       "      <th></th>\n",
       "      <th>goal</th>\n",
       "      <th>usd_pledged</th>\n",
       "      <th>goal_diff</th>\n",
       "      <th>goal_diff_perc</th>\n",
       "    </tr>\n",
       "  </thead>\n",
       "  <tbody>\n",
       "    <tr>\n",
       "      <th>100572</th>\n",
       "      <td>112.0</td>\n",
       "      <td>124.00</td>\n",
       "      <td>12.00</td>\n",
       "      <td>0.107143</td>\n",
       "    </tr>\n",
       "    <tr>\n",
       "      <th>44294</th>\n",
       "      <td>6000.0</td>\n",
       "      <td>7640.00</td>\n",
       "      <td>1640.00</td>\n",
       "      <td>0.273333</td>\n",
       "    </tr>\n",
       "    <tr>\n",
       "      <th>66550</th>\n",
       "      <td>21040.0</td>\n",
       "      <td>210.00</td>\n",
       "      <td>-20830.00</td>\n",
       "      <td>-0.990019</td>\n",
       "    </tr>\n",
       "    <tr>\n",
       "      <th>179221</th>\n",
       "      <td>7500.0</td>\n",
       "      <td>229.00</td>\n",
       "      <td>-7271.00</td>\n",
       "      <td>-0.969467</td>\n",
       "    </tr>\n",
       "    <tr>\n",
       "      <th>160880</th>\n",
       "      <td>2013.0</td>\n",
       "      <td>3083.77</td>\n",
       "      <td>1070.77</td>\n",
       "      <td>0.531927</td>\n",
       "    </tr>\n",
       "    <tr>\n",
       "      <th>91751</th>\n",
       "      <td>20000.0</td>\n",
       "      <td>21410.00</td>\n",
       "      <td>1410.00</td>\n",
       "      <td>0.070500</td>\n",
       "    </tr>\n",
       "    <tr>\n",
       "      <th>168074</th>\n",
       "      <td>5000.0</td>\n",
       "      <td>5107.00</td>\n",
       "      <td>107.00</td>\n",
       "      <td>0.021400</td>\n",
       "    </tr>\n",
       "    <tr>\n",
       "      <th>147213</th>\n",
       "      <td>15000.0</td>\n",
       "      <td>15165.00</td>\n",
       "      <td>165.00</td>\n",
       "      <td>0.011000</td>\n",
       "    </tr>\n",
       "    <tr>\n",
       "      <th>44661</th>\n",
       "      <td>2500.0</td>\n",
       "      <td>10472.00</td>\n",
       "      <td>7972.00</td>\n",
       "      <td>3.188800</td>\n",
       "    </tr>\n",
       "    <tr>\n",
       "      <th>55081</th>\n",
       "      <td>1000.0</td>\n",
       "      <td>13.00</td>\n",
       "      <td>-987.00</td>\n",
       "      <td>-0.987000</td>\n",
       "    </tr>\n",
       "    <tr>\n",
       "      <th>132260</th>\n",
       "      <td>5000.0</td>\n",
       "      <td>5036.00</td>\n",
       "      <td>36.00</td>\n",
       "      <td>0.007200</td>\n",
       "    </tr>\n",
       "    <tr>\n",
       "      <th>147455</th>\n",
       "      <td>100000.0</td>\n",
       "      <td>110.00</td>\n",
       "      <td>-99890.00</td>\n",
       "      <td>-0.998900</td>\n",
       "    </tr>\n",
       "    <tr>\n",
       "      <th>178223</th>\n",
       "      <td>3000.0</td>\n",
       "      <td>24452.00</td>\n",
       "      <td>21452.00</td>\n",
       "      <td>7.150667</td>\n",
       "    </tr>\n",
       "    <tr>\n",
       "      <th>170662</th>\n",
       "      <td>300.0</td>\n",
       "      <td>4416.00</td>\n",
       "      <td>4116.00</td>\n",
       "      <td>13.720000</td>\n",
       "    </tr>\n",
       "    <tr>\n",
       "      <th>18281</th>\n",
       "      <td>1.0</td>\n",
       "      <td>2405.00</td>\n",
       "      <td>2404.00</td>\n",
       "      <td>2404.000000</td>\n",
       "    </tr>\n",
       "    <tr>\n",
       "      <th>66610</th>\n",
       "      <td>10000.0</td>\n",
       "      <td>105.00</td>\n",
       "      <td>-9895.00</td>\n",
       "      <td>-0.989500</td>\n",
       "    </tr>\n",
       "    <tr>\n",
       "      <th>11859</th>\n",
       "      <td>6000.0</td>\n",
       "      <td>14804.71</td>\n",
       "      <td>8804.71</td>\n",
       "      <td>1.467452</td>\n",
       "    </tr>\n",
       "    <tr>\n",
       "      <th>117131</th>\n",
       "      <td>3000.0</td>\n",
       "      <td>170.00</td>\n",
       "      <td>-2830.00</td>\n",
       "      <td>-0.943333</td>\n",
       "    </tr>\n",
       "    <tr>\n",
       "      <th>121801</th>\n",
       "      <td>7500.0</td>\n",
       "      <td>1076.00</td>\n",
       "      <td>-6424.00</td>\n",
       "      <td>-0.856533</td>\n",
       "    </tr>\n",
       "    <tr>\n",
       "      <th>154410</th>\n",
       "      <td>100000.0</td>\n",
       "      <td>25.00</td>\n",
       "      <td>-99975.00</td>\n",
       "      <td>-0.999750</td>\n",
       "    </tr>\n",
       "  </tbody>\n",
       "</table>\n",
       "</div>"
      ],
      "text/plain": [
       "            goal  usd_pledged  goal_diff  goal_diff_perc\n",
       "100572     112.0       124.00      12.00        0.107143\n",
       "44294     6000.0      7640.00    1640.00        0.273333\n",
       "66550    21040.0       210.00  -20830.00       -0.990019\n",
       "179221    7500.0       229.00   -7271.00       -0.969467\n",
       "160880    2013.0      3083.77    1070.77        0.531927\n",
       "91751    20000.0     21410.00    1410.00        0.070500\n",
       "168074    5000.0      5107.00     107.00        0.021400\n",
       "147213   15000.0     15165.00     165.00        0.011000\n",
       "44661     2500.0     10472.00    7972.00        3.188800\n",
       "55081     1000.0        13.00    -987.00       -0.987000\n",
       "132260    5000.0      5036.00      36.00        0.007200\n",
       "147455  100000.0       110.00  -99890.00       -0.998900\n",
       "178223    3000.0     24452.00   21452.00        7.150667\n",
       "170662     300.0      4416.00    4116.00       13.720000\n",
       "18281        1.0      2405.00    2404.00     2404.000000\n",
       "66610    10000.0       105.00   -9895.00       -0.989500\n",
       "11859     6000.0     14804.71    8804.71        1.467452\n",
       "117131    3000.0       170.00   -2830.00       -0.943333\n",
       "121801    7500.0      1076.00   -6424.00       -0.856533\n",
       "154410  100000.0        25.00  -99975.00       -0.999750"
      ]
     },
     "execution_count": 154,
     "metadata": {},
     "output_type": "execute_result"
    }
   ],
   "source": [
    "# Spot check for calculation accuracy\n",
    "df.loc[:, ['goal', 'usd_pledged', 'goal_diff', 'goal_diff_perc']].sample(20)"
   ]
  },
  {
   "cell_type": "markdown",
   "metadata": {},
   "source": [
    "Stick to pledge amount rather than % difference...maybe in the other model when I factor in social I can find something more interesting. For now, keep it simple. There's too much variability in the differential with different funding goals to really predict that...? Unless there's an external factor involved."
   ]
  },
  {
   "cell_type": "markdown",
   "metadata": {},
   "source": [
    "Foregoing `project_life` since it is redundant with `campaign_length`. Going to calculate the time from creation to launch instead, so that they are separated."
   ]
  },
  {
   "cell_type": "code",
   "execution_count": 155,
   "metadata": {},
   "outputs": [],
   "source": [
    "# Time between project creation and launch\n",
    "df['creation_to_launch'] = (df['launched_at'] - df['created_at']).dt.days"
   ]
  },
  {
   "cell_type": "code",
   "execution_count": 156,
   "metadata": {},
   "outputs": [],
   "source": [
    "# Seasonal component\n",
    "# Create bins for months to fall under each season\n",
    "winter = [12, 1, 2]\n",
    "spring = [3, 4, 5]\n",
    "summer = [6, 7, 8]\n",
    "fall = [9, 10, 11]"
   ]
  },
  {
   "cell_type": "code",
   "execution_count": 157,
   "metadata": {},
   "outputs": [],
   "source": [
    "# Create a function to evaluate the month from the launch date\n",
    "def season(row):\n",
    "    if row['launched_at'].month in winter:\n",
    "        season = 'winter'\n",
    "    elif row['launched_at'].month in spring:\n",
    "        season = 'spring'\n",
    "    elif row['launched_at'].month in summer:\n",
    "        season = 'summer'\n",
    "    else:\n",
    "        season = 'fall'\n",
    "    return season"
   ]
  },
  {
   "cell_type": "code",
   "execution_count": 158,
   "metadata": {},
   "outputs": [
    {
     "data": {
      "text/html": [
       "<div>\n",
       "<style scoped>\n",
       "    .dataframe tbody tr th:only-of-type {\n",
       "        vertical-align: middle;\n",
       "    }\n",
       "\n",
       "    .dataframe tbody tr th {\n",
       "        vertical-align: top;\n",
       "    }\n",
       "\n",
       "    .dataframe thead th {\n",
       "        text-align: right;\n",
       "    }\n",
       "</style>\n",
       "<table border=\"1\" class=\"dataframe\">\n",
       "  <thead>\n",
       "    <tr style=\"text-align: right;\">\n",
       "      <th></th>\n",
       "      <th>backers_count</th>\n",
       "      <th>country</th>\n",
       "      <th>created_at</th>\n",
       "      <th>deadline</th>\n",
       "      <th>goal</th>\n",
       "      <th>launched_at</th>\n",
       "      <th>name</th>\n",
       "      <th>spotlight</th>\n",
       "      <th>staff_pick</th>\n",
       "      <th>state</th>\n",
       "      <th>...</th>\n",
       "      <th>project_life</th>\n",
       "      <th>campaign_length</th>\n",
       "      <th>launch_month</th>\n",
       "      <th>deadline_month</th>\n",
       "      <th>daily_amount_pledged</th>\n",
       "      <th>daily_backers</th>\n",
       "      <th>goal_diff</th>\n",
       "      <th>goal_diff_perc</th>\n",
       "      <th>creation_to_launch</th>\n",
       "      <th>season_launched</th>\n",
       "    </tr>\n",
       "  </thead>\n",
       "  <tbody>\n",
       "    <tr>\n",
       "      <th>0</th>\n",
       "      <td>1</td>\n",
       "      <td>US</td>\n",
       "      <td>2016-09-11 22:05:51</td>\n",
       "      <td>2016-12-05 19:42:23</td>\n",
       "      <td>5000.0</td>\n",
       "      <td>2016-11-05 18:42:23</td>\n",
       "      <td>Industrial Bamboo Table</td>\n",
       "      <td>False</td>\n",
       "      <td>False</td>\n",
       "      <td>failed</td>\n",
       "      <td>...</td>\n",
       "      <td>84</td>\n",
       "      <td>30</td>\n",
       "      <td>2016-11</td>\n",
       "      <td>2016-12</td>\n",
       "      <td>8.0</td>\n",
       "      <td>0.0333</td>\n",
       "      <td>-4760.0</td>\n",
       "      <td>-0.952000</td>\n",
       "      <td>54</td>\n",
       "      <td>fall</td>\n",
       "    </tr>\n",
       "    <tr>\n",
       "      <th>2</th>\n",
       "      <td>243</td>\n",
       "      <td>US</td>\n",
       "      <td>2015-03-24 17:41:14</td>\n",
       "      <td>2015-05-15 16:22:34</td>\n",
       "      <td>35000.0</td>\n",
       "      <td>2015-04-15 16:22:34</td>\n",
       "      <td>The Barmobile: Boston's Mobile Cocktail Cateri...</td>\n",
       "      <td>True</td>\n",
       "      <td>True</td>\n",
       "      <td>successful</td>\n",
       "      <td>...</td>\n",
       "      <td>51</td>\n",
       "      <td>30</td>\n",
       "      <td>2015-04</td>\n",
       "      <td>2015-05</td>\n",
       "      <td>1391.0</td>\n",
       "      <td>8.1000</td>\n",
       "      <td>6738.0</td>\n",
       "      <td>0.192514</td>\n",
       "      <td>21</td>\n",
       "      <td>spring</td>\n",
       "    </tr>\n",
       "    <tr>\n",
       "      <th>3</th>\n",
       "      <td>27</td>\n",
       "      <td>US</td>\n",
       "      <td>2017-05-18 12:30:32</td>\n",
       "      <td>2017-07-16 15:03:03</td>\n",
       "      <td>3000.0</td>\n",
       "      <td>2017-06-01 15:03:03</td>\n",
       "      <td>Grandfather Thunder &amp; The Night Horses</td>\n",
       "      <td>True</td>\n",
       "      <td>False</td>\n",
       "      <td>successful</td>\n",
       "      <td>...</td>\n",
       "      <td>59</td>\n",
       "      <td>45</td>\n",
       "      <td>2017-06</td>\n",
       "      <td>2017-07</td>\n",
       "      <td>69.0</td>\n",
       "      <td>0.6000</td>\n",
       "      <td>115.0</td>\n",
       "      <td>0.038333</td>\n",
       "      <td>14</td>\n",
       "      <td>summer</td>\n",
       "    </tr>\n",
       "    <tr>\n",
       "      <th>4</th>\n",
       "      <td>3</td>\n",
       "      <td>US</td>\n",
       "      <td>2017-06-11 02:02:05</td>\n",
       "      <td>2017-09-09 19:17:10</td>\n",
       "      <td>250000.0</td>\n",
       "      <td>2017-08-10 19:17:10</td>\n",
       "      <td>Parker's Cup Coffee &amp; Tea</td>\n",
       "      <td>False</td>\n",
       "      <td>False</td>\n",
       "      <td>failed</td>\n",
       "      <td>...</td>\n",
       "      <td>90</td>\n",
       "      <td>30</td>\n",
       "      <td>2017-08</td>\n",
       "      <td>2017-09</td>\n",
       "      <td>2.0</td>\n",
       "      <td>0.1000</td>\n",
       "      <td>-249939.0</td>\n",
       "      <td>-0.999756</td>\n",
       "      <td>60</td>\n",
       "      <td>summer</td>\n",
       "    </tr>\n",
       "    <tr>\n",
       "      <th>5</th>\n",
       "      <td>1</td>\n",
       "      <td>US</td>\n",
       "      <td>2015-08-18 02:36:53</td>\n",
       "      <td>2015-10-18 21:17:17</td>\n",
       "      <td>125.0</td>\n",
       "      <td>2015-08-19 21:17:17</td>\n",
       "      <td>Disorderly Conduct's First Album</td>\n",
       "      <td>False</td>\n",
       "      <td>False</td>\n",
       "      <td>failed</td>\n",
       "      <td>...</td>\n",
       "      <td>61</td>\n",
       "      <td>60</td>\n",
       "      <td>2015-08</td>\n",
       "      <td>2015-10</td>\n",
       "      <td>0.0</td>\n",
       "      <td>0.0167</td>\n",
       "      <td>-120.0</td>\n",
       "      <td>-0.960000</td>\n",
       "      <td>1</td>\n",
       "      <td>summer</td>\n",
       "    </tr>\n",
       "  </tbody>\n",
       "</table>\n",
       "<p>5 rows × 25 columns</p>\n",
       "</div>"
      ],
      "text/plain": [
       "   backers_count country          created_at            deadline      goal  \\\n",
       "0              1      US 2016-09-11 22:05:51 2016-12-05 19:42:23    5000.0   \n",
       "2            243      US 2015-03-24 17:41:14 2015-05-15 16:22:34   35000.0   \n",
       "3             27      US 2017-05-18 12:30:32 2017-07-16 15:03:03    3000.0   \n",
       "4              3      US 2017-06-11 02:02:05 2017-09-09 19:17:10  250000.0   \n",
       "5              1      US 2015-08-18 02:36:53 2015-10-18 21:17:17     125.0   \n",
       "\n",
       "          launched_at                                               name  \\\n",
       "0 2016-11-05 18:42:23                            Industrial Bamboo Table   \n",
       "2 2015-04-15 16:22:34  The Barmobile: Boston's Mobile Cocktail Cateri...   \n",
       "3 2017-06-01 15:03:03             Grandfather Thunder & The Night Horses   \n",
       "4 2017-08-10 19:17:10                          Parker's Cup Coffee & Tea   \n",
       "5 2015-08-19 21:17:17                   Disorderly Conduct's First Album   \n",
       "\n",
       "   spotlight  staff_pick       state  ... project_life  campaign_length  \\\n",
       "0      False       False      failed  ...           84               30   \n",
       "2       True        True  successful  ...           51               30   \n",
       "3       True       False  successful  ...           59               45   \n",
       "4      False       False      failed  ...           90               30   \n",
       "5      False       False      failed  ...           61               60   \n",
       "\n",
       "  launch_month deadline_month daily_amount_pledged  daily_backers  goal_diff  \\\n",
       "0      2016-11        2016-12                  8.0         0.0333    -4760.0   \n",
       "2      2015-04        2015-05               1391.0         8.1000     6738.0   \n",
       "3      2017-06        2017-07                 69.0         0.6000      115.0   \n",
       "4      2017-08        2017-09                  2.0         0.1000  -249939.0   \n",
       "5      2015-08        2015-10                  0.0         0.0167     -120.0   \n",
       "\n",
       "  goal_diff_perc creation_to_launch  season_launched  \n",
       "0      -0.952000                 54             fall  \n",
       "2       0.192514                 21           spring  \n",
       "3       0.038333                 14           summer  \n",
       "4      -0.999756                 60           summer  \n",
       "5      -0.960000                  1           summer  \n",
       "\n",
       "[5 rows x 25 columns]"
      ]
     },
     "execution_count": 158,
     "metadata": {},
     "output_type": "execute_result"
    }
   ],
   "source": [
    "# Create new column classifying what season the project was launched\n",
    "df['season_launched'] = df.apply(season, axis=1)\n",
    "df.head()"
   ]
  },
  {
   "cell_type": "markdown",
   "metadata": {},
   "source": [
    "#### Exploratory Data Analysis"
   ]
  },
  {
   "cell_type": "code",
   "execution_count": 13,
   "metadata": {
    "pycharm": {
     "is_executing": false
    }
   },
   "outputs": [
    {
     "name": "stdout",
     "output_type": "stream",
     "text": [
      "<class 'pandas.core.frame.DataFrame'>\n",
      "Int64Index: 137800 entries, 0 to 194315\n",
      "Data columns (total 25 columns):\n",
      "backers_count           137800 non-null int64\n",
      "country                 137800 non-null object\n",
      "created_at              137800 non-null datetime64[ns]\n",
      "deadline                137800 non-null datetime64[ns]\n",
      "goal                    137800 non-null float64\n",
      "launched_at             137800 non-null datetime64[ns]\n",
      "name                    137800 non-null object\n",
      "spotlight               137800 non-null bool\n",
      "staff_pick              137800 non-null bool\n",
      "state                   137800 non-null object\n",
      "state_changed_at        137800 non-null datetime64[ns]\n",
      "usd_pledged             137800 non-null float64\n",
      "category                137800 non-null object\n",
      "subcategory             137800 non-null object\n",
      "project_url             137800 non-null object\n",
      "project_life            137800 non-null int64\n",
      "campaign_length         137800 non-null int64\n",
      "launch_month            137800 non-null period[M]\n",
      "deadline_month          137800 non-null period[M]\n",
      "daily_amount_pledged    137800 non-null float64\n",
      "daily_backers           137800 non-null float64\n",
      "goal_diff               137800 non-null float64\n",
      "goal_diff_perc          137800 non-null float64\n",
      "creation_to_launch      137800 non-null int64\n",
      "season_launched         137800 non-null object\n",
      "dtypes: bool(2), datetime64[ns](4), float64(6), int64(4), object(7), period[M](2)\n",
      "memory usage: 25.5+ MB\n"
     ]
    }
   ],
   "source": [
    "df.info()"
   ]
  },
  {
   "cell_type": "code",
   "execution_count": 14,
   "metadata": {},
   "outputs": [
    {
     "data": {
      "text/html": [
       "<div>\n",
       "<style scoped>\n",
       "    .dataframe tbody tr th:only-of-type {\n",
       "        vertical-align: middle;\n",
       "    }\n",
       "\n",
       "    .dataframe tbody tr th {\n",
       "        vertical-align: top;\n",
       "    }\n",
       "\n",
       "    .dataframe thead th {\n",
       "        text-align: right;\n",
       "    }\n",
       "</style>\n",
       "<table border=\"1\" class=\"dataframe\">\n",
       "  <thead>\n",
       "    <tr style=\"text-align: right;\">\n",
       "      <th></th>\n",
       "      <th>backers_count</th>\n",
       "      <th>goal</th>\n",
       "      <th>usd_pledged</th>\n",
       "      <th>project_life</th>\n",
       "      <th>campaign_length</th>\n",
       "      <th>daily_amount_pledged</th>\n",
       "      <th>daily_backers</th>\n",
       "      <th>goal_diff</th>\n",
       "      <th>goal_diff_perc</th>\n",
       "      <th>creation_to_launch</th>\n",
       "    </tr>\n",
       "  </thead>\n",
       "  <tbody>\n",
       "    <tr>\n",
       "      <th>count</th>\n",
       "      <td>137800.000000</td>\n",
       "      <td>1.378000e+05</td>\n",
       "      <td>1.378000e+05</td>\n",
       "      <td>137800.000000</td>\n",
       "      <td>137800.000000</td>\n",
       "      <td>137800.000000</td>\n",
       "      <td>137800.000000</td>\n",
       "      <td>1.378000e+05</td>\n",
       "      <td>137800.000000</td>\n",
       "      <td>137800.000000</td>\n",
       "    </tr>\n",
       "    <tr>\n",
       "      <th>mean</th>\n",
       "      <td>166.906858</td>\n",
       "      <td>3.715569e+04</td>\n",
       "      <td>1.488516e+04</td>\n",
       "      <td>83.621422</td>\n",
       "      <td>32.421168</td>\n",
       "      <td>486.992779</td>\n",
       "      <td>5.760245</td>\n",
       "      <td>-2.227052e+04</td>\n",
       "      <td>4.676394</td>\n",
       "      <td>50.971212</td>\n",
       "    </tr>\n",
       "    <tr>\n",
       "      <th>std</th>\n",
       "      <td>1053.476215</td>\n",
       "      <td>9.735099e+05</td>\n",
       "      <td>1.112854e+05</td>\n",
       "      <td>145.493592</td>\n",
       "      <td>11.848415</td>\n",
       "      <td>3656.237130</td>\n",
       "      <td>38.407022</td>\n",
       "      <td>9.786928e+05</td>\n",
       "      <td>288.889725</td>\n",
       "      <td>144.715928</td>\n",
       "    </tr>\n",
       "    <tr>\n",
       "      <th>min</th>\n",
       "      <td>0.000000</td>\n",
       "      <td>1.000000e-02</td>\n",
       "      <td>0.000000e+00</td>\n",
       "      <td>1.000000</td>\n",
       "      <td>1.000000</td>\n",
       "      <td>0.000000</td>\n",
       "      <td>0.000000</td>\n",
       "      <td>-1.000000e+08</td>\n",
       "      <td>-1.000000</td>\n",
       "      <td>0.000000</td>\n",
       "    </tr>\n",
       "    <tr>\n",
       "      <th>25%</th>\n",
       "      <td>4.000000</td>\n",
       "      <td>1.500000e+03</td>\n",
       "      <td>1.370000e+02</td>\n",
       "      <td>33.000000</td>\n",
       "      <td>29.000000</td>\n",
       "      <td>4.000000</td>\n",
       "      <td>0.133300</td>\n",
       "      <td>-4.539000e+03</td>\n",
       "      <td>-0.968262</td>\n",
       "      <td>3.000000</td>\n",
       "    </tr>\n",
       "    <tr>\n",
       "      <th>50%</th>\n",
       "      <td>30.000000</td>\n",
       "      <td>5.000000e+03</td>\n",
       "      <td>1.825000e+03</td>\n",
       "      <td>47.000000</td>\n",
       "      <td>30.000000</td>\n",
       "      <td>64.000000</td>\n",
       "      <td>1.033300</td>\n",
       "      <td>7.000000e+01</td>\n",
       "      <td>0.024100</td>\n",
       "      <td>11.000000</td>\n",
       "    </tr>\n",
       "    <tr>\n",
       "      <th>75%</th>\n",
       "      <td>96.000000</td>\n",
       "      <td>1.375550e+04</td>\n",
       "      <td>7.226500e+03</td>\n",
       "      <td>74.000000</td>\n",
       "      <td>34.000000</td>\n",
       "      <td>247.000000</td>\n",
       "      <td>3.344800</td>\n",
       "      <td>8.730000e+02</td>\n",
       "      <td>0.260000</td>\n",
       "      <td>38.000000</td>\n",
       "    </tr>\n",
       "    <tr>\n",
       "      <th>max</th>\n",
       "      <td>105857.000000</td>\n",
       "      <td>1.000000e+08</td>\n",
       "      <td>1.214344e+07</td>\n",
       "      <td>3333.000000</td>\n",
       "      <td>97.000000</td>\n",
       "      <td>332646.000000</td>\n",
       "      <td>3052.833300</td>\n",
       "      <td>1.164344e+07</td>\n",
       "      <td>68763.100000</td>\n",
       "      <td>3303.000000</td>\n",
       "    </tr>\n",
       "  </tbody>\n",
       "</table>\n",
       "</div>"
      ],
      "text/plain": [
       "       backers_count          goal   usd_pledged   project_life  \\\n",
       "count  137800.000000  1.378000e+05  1.378000e+05  137800.000000   \n",
       "mean      166.906858  3.715569e+04  1.488516e+04      83.621422   \n",
       "std      1053.476215  9.735099e+05  1.112854e+05     145.493592   \n",
       "min         0.000000  1.000000e-02  0.000000e+00       1.000000   \n",
       "25%         4.000000  1.500000e+03  1.370000e+02      33.000000   \n",
       "50%        30.000000  5.000000e+03  1.825000e+03      47.000000   \n",
       "75%        96.000000  1.375550e+04  7.226500e+03      74.000000   \n",
       "max    105857.000000  1.000000e+08  1.214344e+07    3333.000000   \n",
       "\n",
       "       campaign_length  daily_amount_pledged  daily_backers     goal_diff  \\\n",
       "count    137800.000000         137800.000000  137800.000000  1.378000e+05   \n",
       "mean         32.421168            486.992779       5.760245 -2.227052e+04   \n",
       "std          11.848415           3656.237130      38.407022  9.786928e+05   \n",
       "min           1.000000              0.000000       0.000000 -1.000000e+08   \n",
       "25%          29.000000              4.000000       0.133300 -4.539000e+03   \n",
       "50%          30.000000             64.000000       1.033300  7.000000e+01   \n",
       "75%          34.000000            247.000000       3.344800  8.730000e+02   \n",
       "max          97.000000         332646.000000    3052.833300  1.164344e+07   \n",
       "\n",
       "       goal_diff_perc  creation_to_launch  \n",
       "count   137800.000000       137800.000000  \n",
       "mean         4.676394           50.971212  \n",
       "std        288.889725          144.715928  \n",
       "min         -1.000000            0.000000  \n",
       "25%         -0.968262            3.000000  \n",
       "50%          0.024100           11.000000  \n",
       "75%          0.260000           38.000000  \n",
       "max      68763.100000         3303.000000  "
      ]
     },
     "execution_count": 14,
     "metadata": {},
     "output_type": "execute_result"
    }
   ],
   "source": [
    "df.describe()"
   ]
  },
  {
   "cell_type": "markdown",
   "metadata": {},
   "source": [
    "Filter dataframe to remove unused columns for regression"
   ]
  },
  {
   "cell_type": "code",
   "execution_count": 15,
   "metadata": {},
   "outputs": [],
   "source": [
    "# Select columns used for regression\n",
    "columns = ['usd_pledged', 'backers_count', 'goal', 'spotlight', 'staff_pick', 'category', 'campaign_length',\n",
    "          'creation_to_launch', 'season_launched']"
   ]
  },
  {
   "cell_type": "code",
   "execution_count": 16,
   "metadata": {},
   "outputs": [
    {
     "data": {
      "text/html": [
       "<div>\n",
       "<style scoped>\n",
       "    .dataframe tbody tr th:only-of-type {\n",
       "        vertical-align: middle;\n",
       "    }\n",
       "\n",
       "    .dataframe tbody tr th {\n",
       "        vertical-align: top;\n",
       "    }\n",
       "\n",
       "    .dataframe thead th {\n",
       "        text-align: right;\n",
       "    }\n",
       "</style>\n",
       "<table border=\"1\" class=\"dataframe\">\n",
       "  <thead>\n",
       "    <tr style=\"text-align: right;\">\n",
       "      <th></th>\n",
       "      <th>usd_pledged</th>\n",
       "      <th>backers_count</th>\n",
       "      <th>goal</th>\n",
       "      <th>spotlight</th>\n",
       "      <th>staff_pick</th>\n",
       "      <th>category</th>\n",
       "      <th>campaign_length</th>\n",
       "      <th>creation_to_launch</th>\n",
       "      <th>season_launched</th>\n",
       "    </tr>\n",
       "  </thead>\n",
       "  <tbody>\n",
       "    <tr>\n",
       "      <th>0</th>\n",
       "      <td>240.0</td>\n",
       "      <td>1</td>\n",
       "      <td>5000.0</td>\n",
       "      <td>False</td>\n",
       "      <td>False</td>\n",
       "      <td>crafts</td>\n",
       "      <td>30</td>\n",
       "      <td>54</td>\n",
       "      <td>fall</td>\n",
       "    </tr>\n",
       "    <tr>\n",
       "      <th>2</th>\n",
       "      <td>41738.0</td>\n",
       "      <td>243</td>\n",
       "      <td>35000.0</td>\n",
       "      <td>True</td>\n",
       "      <td>True</td>\n",
       "      <td>food</td>\n",
       "      <td>30</td>\n",
       "      <td>21</td>\n",
       "      <td>spring</td>\n",
       "    </tr>\n",
       "    <tr>\n",
       "      <th>3</th>\n",
       "      <td>3115.0</td>\n",
       "      <td>27</td>\n",
       "      <td>3000.0</td>\n",
       "      <td>True</td>\n",
       "      <td>False</td>\n",
       "      <td>publishing</td>\n",
       "      <td>45</td>\n",
       "      <td>14</td>\n",
       "      <td>summer</td>\n",
       "    </tr>\n",
       "    <tr>\n",
       "      <th>4</th>\n",
       "      <td>61.0</td>\n",
       "      <td>3</td>\n",
       "      <td>250000.0</td>\n",
       "      <td>False</td>\n",
       "      <td>False</td>\n",
       "      <td>food</td>\n",
       "      <td>30</td>\n",
       "      <td>60</td>\n",
       "      <td>summer</td>\n",
       "    </tr>\n",
       "    <tr>\n",
       "      <th>5</th>\n",
       "      <td>5.0</td>\n",
       "      <td>1</td>\n",
       "      <td>125.0</td>\n",
       "      <td>False</td>\n",
       "      <td>False</td>\n",
       "      <td>music</td>\n",
       "      <td>60</td>\n",
       "      <td>1</td>\n",
       "      <td>summer</td>\n",
       "    </tr>\n",
       "    <tr>\n",
       "      <th>...</th>\n",
       "      <td>...</td>\n",
       "      <td>...</td>\n",
       "      <td>...</td>\n",
       "      <td>...</td>\n",
       "      <td>...</td>\n",
       "      <td>...</td>\n",
       "      <td>...</td>\n",
       "      <td>...</td>\n",
       "      <td>...</td>\n",
       "    </tr>\n",
       "    <tr>\n",
       "      <th>194308</th>\n",
       "      <td>1.0</td>\n",
       "      <td>1</td>\n",
       "      <td>30000.0</td>\n",
       "      <td>False</td>\n",
       "      <td>False</td>\n",
       "      <td>film &amp; video</td>\n",
       "      <td>60</td>\n",
       "      <td>0</td>\n",
       "      <td>fall</td>\n",
       "    </tr>\n",
       "    <tr>\n",
       "      <th>194311</th>\n",
       "      <td>304.0</td>\n",
       "      <td>11</td>\n",
       "      <td>300.0</td>\n",
       "      <td>True</td>\n",
       "      <td>False</td>\n",
       "      <td>art</td>\n",
       "      <td>30</td>\n",
       "      <td>54</td>\n",
       "      <td>fall</td>\n",
       "    </tr>\n",
       "    <tr>\n",
       "      <th>194312</th>\n",
       "      <td>564.0</td>\n",
       "      <td>23</td>\n",
       "      <td>200.0</td>\n",
       "      <td>True</td>\n",
       "      <td>False</td>\n",
       "      <td>art</td>\n",
       "      <td>9</td>\n",
       "      <td>5</td>\n",
       "      <td>fall</td>\n",
       "    </tr>\n",
       "    <tr>\n",
       "      <th>194313</th>\n",
       "      <td>657.0</td>\n",
       "      <td>33</td>\n",
       "      <td>200.0</td>\n",
       "      <td>True</td>\n",
       "      <td>False</td>\n",
       "      <td>art</td>\n",
       "      <td>30</td>\n",
       "      <td>0</td>\n",
       "      <td>fall</td>\n",
       "    </tr>\n",
       "    <tr>\n",
       "      <th>194315</th>\n",
       "      <td>23401.0</td>\n",
       "      <td>95</td>\n",
       "      <td>50000.0</td>\n",
       "      <td>False</td>\n",
       "      <td>False</td>\n",
       "      <td>technology</td>\n",
       "      <td>30</td>\n",
       "      <td>22</td>\n",
       "      <td>fall</td>\n",
       "    </tr>\n",
       "  </tbody>\n",
       "</table>\n",
       "<p>137800 rows × 9 columns</p>\n",
       "</div>"
      ],
      "text/plain": [
       "        usd_pledged  backers_count      goal  spotlight  staff_pick  \\\n",
       "0             240.0              1    5000.0      False       False   \n",
       "2           41738.0            243   35000.0       True        True   \n",
       "3            3115.0             27    3000.0       True       False   \n",
       "4              61.0              3  250000.0      False       False   \n",
       "5               5.0              1     125.0      False       False   \n",
       "...             ...            ...       ...        ...         ...   \n",
       "194308          1.0              1   30000.0      False       False   \n",
       "194311        304.0             11     300.0       True       False   \n",
       "194312        564.0             23     200.0       True       False   \n",
       "194313        657.0             33     200.0       True       False   \n",
       "194315      23401.0             95   50000.0      False       False   \n",
       "\n",
       "            category  campaign_length  creation_to_launch season_launched  \n",
       "0             crafts               30                  54            fall  \n",
       "2               food               30                  21          spring  \n",
       "3         publishing               45                  14          summer  \n",
       "4               food               30                  60          summer  \n",
       "5              music               60                   1          summer  \n",
       "...              ...              ...                 ...             ...  \n",
       "194308  film & video               60                   0            fall  \n",
       "194311           art               30                  54            fall  \n",
       "194312           art                9                   5            fall  \n",
       "194313           art               30                   0            fall  \n",
       "194315    technology               30                  22            fall  \n",
       "\n",
       "[137800 rows x 9 columns]"
      ]
     },
     "execution_count": 16,
     "metadata": {},
     "output_type": "execute_result"
    }
   ],
   "source": [
    "kickstarter_df = df.loc[:, columns]\n",
    "kickstarter_df"
   ]
  },
  {
   "cell_type": "code",
   "execution_count": 17,
   "metadata": {
    "collapsed": false,
    "jupyter": {
     "outputs_hidden": false
    },
    "pycharm": {
     "is_executing": false,
     "name": "#%%\n"
    }
   },
   "outputs": [
    {
     "data": {
      "image/png": "[encoded data removed]",
      "text/plain": [
       "<Figure size 720x720 with 2 Axes>"
      ]
     },
     "metadata": {},
     "output_type": "display_data"
    }
   ],
   "source": [
    "# Create heatmap displaying visualization of feature correlation\n",
    "plt.figure(figsize=[10,10])\n",
    "sns.heatmap(kickstarter_df.corr(), cmap=\"seismic\", annot=True, vmin=-1, vmax=1);"
   ]
  },
  {
   "cell_type": "markdown",
   "metadata": {
    "pycharm": {
     "name": "#%% md\n"
    }
   },
   "source": [
    "- There seems to be high correlation between the amount pledged, the number of backers, and the average backers/funding per day.\n",
    "- It's interesting that the campaign length and funding goal don't have more of an effect on the pledge amount."
   ]
  },
  {
   "cell_type": "code",
   "execution_count": 18,
   "metadata": {
    "collapsed": false,
    "jupyter": {
     "outputs_hidden": false
    },
    "pycharm": {
     "is_executing": false,
     "name": "#%%\n"
    }
   },
   "outputs": [
    {
     "data": {
      "text/html": [
       "<div>\n",
       "<style scoped>\n",
       "    .dataframe tbody tr th:only-of-type {\n",
       "        vertical-align: middle;\n",
       "    }\n",
       "\n",
       "    .dataframe tbody tr th {\n",
       "        vertical-align: top;\n",
       "    }\n",
       "\n",
       "    .dataframe thead th {\n",
       "        text-align: right;\n",
       "    }\n",
       "</style>\n",
       "<table border=\"1\" class=\"dataframe\">\n",
       "  <thead>\n",
       "    <tr style=\"text-align: right;\">\n",
       "      <th></th>\n",
       "      <th>usd_pledged</th>\n",
       "      <th>backers_count</th>\n",
       "      <th>goal</th>\n",
       "      <th>spotlight</th>\n",
       "      <th>staff_pick</th>\n",
       "      <th>category</th>\n",
       "      <th>campaign_length</th>\n",
       "      <th>creation_to_launch</th>\n",
       "      <th>season_launched</th>\n",
       "    </tr>\n",
       "  </thead>\n",
       "  <tbody>\n",
       "    <tr>\n",
       "      <th>0</th>\n",
       "      <td>240.0</td>\n",
       "      <td>1</td>\n",
       "      <td>5000.0</td>\n",
       "      <td>0</td>\n",
       "      <td>0</td>\n",
       "      <td>crafts</td>\n",
       "      <td>30</td>\n",
       "      <td>54</td>\n",
       "      <td>fall</td>\n",
       "    </tr>\n",
       "    <tr>\n",
       "      <th>2</th>\n",
       "      <td>41738.0</td>\n",
       "      <td>243</td>\n",
       "      <td>35000.0</td>\n",
       "      <td>1</td>\n",
       "      <td>1</td>\n",
       "      <td>food</td>\n",
       "      <td>30</td>\n",
       "      <td>21</td>\n",
       "      <td>spring</td>\n",
       "    </tr>\n",
       "    <tr>\n",
       "      <th>3</th>\n",
       "      <td>3115.0</td>\n",
       "      <td>27</td>\n",
       "      <td>3000.0</td>\n",
       "      <td>1</td>\n",
       "      <td>0</td>\n",
       "      <td>publishing</td>\n",
       "      <td>45</td>\n",
       "      <td>14</td>\n",
       "      <td>summer</td>\n",
       "    </tr>\n",
       "    <tr>\n",
       "      <th>4</th>\n",
       "      <td>61.0</td>\n",
       "      <td>3</td>\n",
       "      <td>250000.0</td>\n",
       "      <td>0</td>\n",
       "      <td>0</td>\n",
       "      <td>food</td>\n",
       "      <td>30</td>\n",
       "      <td>60</td>\n",
       "      <td>summer</td>\n",
       "    </tr>\n",
       "    <tr>\n",
       "      <th>5</th>\n",
       "      <td>5.0</td>\n",
       "      <td>1</td>\n",
       "      <td>125.0</td>\n",
       "      <td>0</td>\n",
       "      <td>0</td>\n",
       "      <td>music</td>\n",
       "      <td>60</td>\n",
       "      <td>1</td>\n",
       "      <td>summer</td>\n",
       "    </tr>\n",
       "  </tbody>\n",
       "</table>\n",
       "</div>"
      ],
      "text/plain": [
       "   usd_pledged  backers_count      goal  spotlight  staff_pick    category  \\\n",
       "0        240.0              1    5000.0          0           0      crafts   \n",
       "2      41738.0            243   35000.0          1           1        food   \n",
       "3       3115.0             27    3000.0          1           0  publishing   \n",
       "4         61.0              3  250000.0          0           0        food   \n",
       "5          5.0              1     125.0          0           0       music   \n",
       "\n",
       "   campaign_length  creation_to_launch season_launched  \n",
       "0               30                  54            fall  \n",
       "2               30                  21          spring  \n",
       "3               45                  14          summer  \n",
       "4               30                  60          summer  \n",
       "5               60                   1          summer  "
      ]
     },
     "execution_count": 18,
     "metadata": {},
     "output_type": "execute_result"
    }
   ],
   "source": [
    "# Convert boolean columns to zeroes and ones\n",
    "kickstarter_df['spotlight'] = kickstarter_df['spotlight'].astype(int)\n",
    "kickstarter_df['staff_pick'] = kickstarter_df['staff_pick'].astype(int)\n",
    "kickstarter_df.head()"
   ]
  },
  {
   "cell_type": "code",
   "execution_count": 19,
   "metadata": {},
   "outputs": [
    {
     "data": {
      "text/html": [
       "<div>\n",
       "<style scoped>\n",
       "    .dataframe tbody tr th:only-of-type {\n",
       "        vertical-align: middle;\n",
       "    }\n",
       "\n",
       "    .dataframe tbody tr th {\n",
       "        vertical-align: top;\n",
       "    }\n",
       "\n",
       "    .dataframe thead th {\n",
       "        text-align: right;\n",
       "    }\n",
       "</style>\n",
       "<table border=\"1\" class=\"dataframe\">\n",
       "  <thead>\n",
       "    <tr style=\"text-align: right;\">\n",
       "      <th></th>\n",
       "      <th>usd_pledged</th>\n",
       "      <th>backers_count</th>\n",
       "      <th>goal</th>\n",
       "      <th>spotlight</th>\n",
       "      <th>staff_pick</th>\n",
       "      <th>campaign_length</th>\n",
       "      <th>creation_to_launch</th>\n",
       "      <th>category_art</th>\n",
       "      <th>category_comics</th>\n",
       "      <th>category_crafts</th>\n",
       "      <th>...</th>\n",
       "      <th>category_journalism</th>\n",
       "      <th>category_music</th>\n",
       "      <th>category_photography</th>\n",
       "      <th>category_publishing</th>\n",
       "      <th>category_technology</th>\n",
       "      <th>category_theater</th>\n",
       "      <th>season_launched_fall</th>\n",
       "      <th>season_launched_spring</th>\n",
       "      <th>season_launched_summer</th>\n",
       "      <th>season_launched_winter</th>\n",
       "    </tr>\n",
       "  </thead>\n",
       "  <tbody>\n",
       "    <tr>\n",
       "      <th>0</th>\n",
       "      <td>240.0</td>\n",
       "      <td>1</td>\n",
       "      <td>5000.0</td>\n",
       "      <td>0</td>\n",
       "      <td>0</td>\n",
       "      <td>30</td>\n",
       "      <td>54</td>\n",
       "      <td>0</td>\n",
       "      <td>0</td>\n",
       "      <td>1</td>\n",
       "      <td>...</td>\n",
       "      <td>0</td>\n",
       "      <td>0</td>\n",
       "      <td>0</td>\n",
       "      <td>0</td>\n",
       "      <td>0</td>\n",
       "      <td>0</td>\n",
       "      <td>1</td>\n",
       "      <td>0</td>\n",
       "      <td>0</td>\n",
       "      <td>0</td>\n",
       "    </tr>\n",
       "    <tr>\n",
       "      <th>2</th>\n",
       "      <td>41738.0</td>\n",
       "      <td>243</td>\n",
       "      <td>35000.0</td>\n",
       "      <td>1</td>\n",
       "      <td>1</td>\n",
       "      <td>30</td>\n",
       "      <td>21</td>\n",
       "      <td>0</td>\n",
       "      <td>0</td>\n",
       "      <td>0</td>\n",
       "      <td>...</td>\n",
       "      <td>0</td>\n",
       "      <td>0</td>\n",
       "      <td>0</td>\n",
       "      <td>0</td>\n",
       "      <td>0</td>\n",
       "      <td>0</td>\n",
       "      <td>0</td>\n",
       "      <td>1</td>\n",
       "      <td>0</td>\n",
       "      <td>0</td>\n",
       "    </tr>\n",
       "    <tr>\n",
       "      <th>3</th>\n",
       "      <td>3115.0</td>\n",
       "      <td>27</td>\n",
       "      <td>3000.0</td>\n",
       "      <td>1</td>\n",
       "      <td>0</td>\n",
       "      <td>45</td>\n",
       "      <td>14</td>\n",
       "      <td>0</td>\n",
       "      <td>0</td>\n",
       "      <td>0</td>\n",
       "      <td>...</td>\n",
       "      <td>0</td>\n",
       "      <td>0</td>\n",
       "      <td>0</td>\n",
       "      <td>1</td>\n",
       "      <td>0</td>\n",
       "      <td>0</td>\n",
       "      <td>0</td>\n",
       "      <td>0</td>\n",
       "      <td>1</td>\n",
       "      <td>0</td>\n",
       "    </tr>\n",
       "    <tr>\n",
       "      <th>4</th>\n",
       "      <td>61.0</td>\n",
       "      <td>3</td>\n",
       "      <td>250000.0</td>\n",
       "      <td>0</td>\n",
       "      <td>0</td>\n",
       "      <td>30</td>\n",
       "      <td>60</td>\n",
       "      <td>0</td>\n",
       "      <td>0</td>\n",
       "      <td>0</td>\n",
       "      <td>...</td>\n",
       "      <td>0</td>\n",
       "      <td>0</td>\n",
       "      <td>0</td>\n",
       "      <td>0</td>\n",
       "      <td>0</td>\n",
       "      <td>0</td>\n",
       "      <td>0</td>\n",
       "      <td>0</td>\n",
       "      <td>1</td>\n",
       "      <td>0</td>\n",
       "    </tr>\n",
       "    <tr>\n",
       "      <th>5</th>\n",
       "      <td>5.0</td>\n",
       "      <td>1</td>\n",
       "      <td>125.0</td>\n",
       "      <td>0</td>\n",
       "      <td>0</td>\n",
       "      <td>60</td>\n",
       "      <td>1</td>\n",
       "      <td>0</td>\n",
       "      <td>0</td>\n",
       "      <td>0</td>\n",
       "      <td>...</td>\n",
       "      <td>0</td>\n",
       "      <td>1</td>\n",
       "      <td>0</td>\n",
       "      <td>0</td>\n",
       "      <td>0</td>\n",
       "      <td>0</td>\n",
       "      <td>0</td>\n",
       "      <td>0</td>\n",
       "      <td>1</td>\n",
       "      <td>0</td>\n",
       "    </tr>\n",
       "  </tbody>\n",
       "</table>\n",
       "<p>5 rows × 26 columns</p>\n",
       "</div>"
      ],
      "text/plain": [
       "   usd_pledged  backers_count      goal  spotlight  staff_pick  \\\n",
       "0        240.0              1    5000.0          0           0   \n",
       "2      41738.0            243   35000.0          1           1   \n",
       "3       3115.0             27    3000.0          1           0   \n",
       "4         61.0              3  250000.0          0           0   \n",
       "5          5.0              1     125.0          0           0   \n",
       "\n",
       "   campaign_length  creation_to_launch  category_art  category_comics  \\\n",
       "0               30                  54             0                0   \n",
       "2               30                  21             0                0   \n",
       "3               45                  14             0                0   \n",
       "4               30                  60             0                0   \n",
       "5               60                   1             0                0   \n",
       "\n",
       "   category_crafts  ...  category_journalism  category_music  \\\n",
       "0                1  ...                    0               0   \n",
       "2                0  ...                    0               0   \n",
       "3                0  ...                    0               0   \n",
       "4                0  ...                    0               0   \n",
       "5                0  ...                    0               1   \n",
       "\n",
       "   category_photography  category_publishing  category_technology  \\\n",
       "0                     0                    0                    0   \n",
       "2                     0                    0                    0   \n",
       "3                     0                    1                    0   \n",
       "4                     0                    0                    0   \n",
       "5                     0                    0                    0   \n",
       "\n",
       "   category_theater  season_launched_fall  season_launched_spring  \\\n",
       "0                 0                     1                       0   \n",
       "2                 0                     0                       1   \n",
       "3                 0                     0                       0   \n",
       "4                 0                     0                       0   \n",
       "5                 0                     0                       0   \n",
       "\n",
       "   season_launched_summer  season_launched_winter  \n",
       "0                       0                       0  \n",
       "2                       0                       0  \n",
       "3                       1                       0  \n",
       "4                       1                       0  \n",
       "5                       1                       0  \n",
       "\n",
       "[5 rows x 26 columns]"
      ]
     },
     "execution_count": 19,
     "metadata": {},
     "output_type": "execute_result"
    }
   ],
   "source": [
    "# Get dummy variables for categories\n",
    "kickstarter_df = pd.get_dummies(kickstarter_df)\n",
    "kickstarter_df.head()"
   ]
  },
  {
   "cell_type": "code",
   "execution_count": 20,
   "metadata": {},
   "outputs": [
    {
     "data": {
      "image/png": "[encoded data removed]",
      "text/plain": [
       "<Figure size 900x900 with 30 Axes>"
      ]
     },
     "metadata": {},
     "output_type": "display_data"
    }
   ],
   "source": [
    "sns.pairplot(kickstarter_df.loc[:, ['usd_pledged', 'backers_count', 'goal', 'campaign_length', 'creation_to_launch']]);"
   ]
  },
  {
   "cell_type": "markdown",
   "metadata": {},
   "source": [
    "- Target does not follow a normal distribution"
   ]
  },
  {
   "cell_type": "markdown",
   "metadata": {},
   "source": [
    "<font color='red'><h2>Log Transform</h2></font>"
   ]
  },
  {
   "cell_type": "code",
   "execution_count": 21,
   "metadata": {},
   "outputs": [
    {
     "name": "stderr",
     "output_type": "stream",
     "text": [
      "/Users/baka_brooks/anaconda3/envs/metis/lib/python3.7/site-packages/pandas/core/series.py:856: RuntimeWarning: divide by zero encountered in log\n",
      "  result = getattr(ufunc, method)(*inputs, **kwargs)\n"
     ]
    }
   ],
   "source": [
    "kickstarter_df['usd_pledged'] = np.log(kickstarter_df['usd_pledged'])"
   ]
  },
  {
   "cell_type": "markdown",
   "metadata": {},
   "source": [
    "- Error when plotting the log due to \"infinite\" values"
   ]
  },
  {
   "cell_type": "code",
   "execution_count": 22,
   "metadata": {},
   "outputs": [
    {
     "data": {
      "text/html": [
       "<div>\n",
       "<style scoped>\n",
       "    .dataframe tbody tr th:only-of-type {\n",
       "        vertical-align: middle;\n",
       "    }\n",
       "\n",
       "    .dataframe tbody tr th {\n",
       "        vertical-align: top;\n",
       "    }\n",
       "\n",
       "    .dataframe thead th {\n",
       "        text-align: right;\n",
       "    }\n",
       "</style>\n",
       "<table border=\"1\" class=\"dataframe\">\n",
       "  <thead>\n",
       "    <tr style=\"text-align: right;\">\n",
       "      <th></th>\n",
       "      <th>usd_pledged</th>\n",
       "      <th>backers_count</th>\n",
       "      <th>goal</th>\n",
       "      <th>spotlight</th>\n",
       "      <th>staff_pick</th>\n",
       "      <th>campaign_length</th>\n",
       "      <th>creation_to_launch</th>\n",
       "      <th>category_art</th>\n",
       "      <th>category_comics</th>\n",
       "      <th>category_crafts</th>\n",
       "      <th>...</th>\n",
       "      <th>category_journalism</th>\n",
       "      <th>category_music</th>\n",
       "      <th>category_photography</th>\n",
       "      <th>category_publishing</th>\n",
       "      <th>category_technology</th>\n",
       "      <th>category_theater</th>\n",
       "      <th>season_launched_fall</th>\n",
       "      <th>season_launched_spring</th>\n",
       "      <th>season_launched_summer</th>\n",
       "      <th>season_launched_winter</th>\n",
       "    </tr>\n",
       "  </thead>\n",
       "  <tbody>\n",
       "    <tr>\n",
       "      <th>45</th>\n",
       "      <td>-inf</td>\n",
       "      <td>0</td>\n",
       "      <td>5000.0</td>\n",
       "      <td>0</td>\n",
       "      <td>0</td>\n",
       "      <td>33</td>\n",
       "      <td>8</td>\n",
       "      <td>0</td>\n",
       "      <td>0</td>\n",
       "      <td>0</td>\n",
       "      <td>...</td>\n",
       "      <td>0</td>\n",
       "      <td>1</td>\n",
       "      <td>0</td>\n",
       "      <td>0</td>\n",
       "      <td>0</td>\n",
       "      <td>0</td>\n",
       "      <td>0</td>\n",
       "      <td>0</td>\n",
       "      <td>1</td>\n",
       "      <td>0</td>\n",
       "    </tr>\n",
       "    <tr>\n",
       "      <th>51</th>\n",
       "      <td>-inf</td>\n",
       "      <td>0</td>\n",
       "      <td>100.0</td>\n",
       "      <td>0</td>\n",
       "      <td>0</td>\n",
       "      <td>29</td>\n",
       "      <td>1</td>\n",
       "      <td>1</td>\n",
       "      <td>0</td>\n",
       "      <td>0</td>\n",
       "      <td>...</td>\n",
       "      <td>0</td>\n",
       "      <td>0</td>\n",
       "      <td>0</td>\n",
       "      <td>0</td>\n",
       "      <td>0</td>\n",
       "      <td>0</td>\n",
       "      <td>0</td>\n",
       "      <td>1</td>\n",
       "      <td>0</td>\n",
       "      <td>0</td>\n",
       "    </tr>\n",
       "    <tr>\n",
       "      <th>73</th>\n",
       "      <td>-inf</td>\n",
       "      <td>0</td>\n",
       "      <td>10000.0</td>\n",
       "      <td>0</td>\n",
       "      <td>0</td>\n",
       "      <td>30</td>\n",
       "      <td>6</td>\n",
       "      <td>0</td>\n",
       "      <td>0</td>\n",
       "      <td>0</td>\n",
       "      <td>...</td>\n",
       "      <td>0</td>\n",
       "      <td>0</td>\n",
       "      <td>0</td>\n",
       "      <td>0</td>\n",
       "      <td>0</td>\n",
       "      <td>0</td>\n",
       "      <td>0</td>\n",
       "      <td>0</td>\n",
       "      <td>1</td>\n",
       "      <td>0</td>\n",
       "    </tr>\n",
       "    <tr>\n",
       "      <th>110</th>\n",
       "      <td>-inf</td>\n",
       "      <td>0</td>\n",
       "      <td>50.0</td>\n",
       "      <td>0</td>\n",
       "      <td>0</td>\n",
       "      <td>15</td>\n",
       "      <td>6</td>\n",
       "      <td>1</td>\n",
       "      <td>0</td>\n",
       "      <td>0</td>\n",
       "      <td>...</td>\n",
       "      <td>0</td>\n",
       "      <td>0</td>\n",
       "      <td>0</td>\n",
       "      <td>0</td>\n",
       "      <td>0</td>\n",
       "      <td>0</td>\n",
       "      <td>0</td>\n",
       "      <td>0</td>\n",
       "      <td>1</td>\n",
       "      <td>0</td>\n",
       "    </tr>\n",
       "    <tr>\n",
       "      <th>127</th>\n",
       "      <td>-inf</td>\n",
       "      <td>0</td>\n",
       "      <td>500.0</td>\n",
       "      <td>0</td>\n",
       "      <td>0</td>\n",
       "      <td>21</td>\n",
       "      <td>1</td>\n",
       "      <td>1</td>\n",
       "      <td>0</td>\n",
       "      <td>0</td>\n",
       "      <td>...</td>\n",
       "      <td>0</td>\n",
       "      <td>0</td>\n",
       "      <td>0</td>\n",
       "      <td>0</td>\n",
       "      <td>0</td>\n",
       "      <td>0</td>\n",
       "      <td>1</td>\n",
       "      <td>0</td>\n",
       "      <td>0</td>\n",
       "      <td>0</td>\n",
       "    </tr>\n",
       "    <tr>\n",
       "      <th>...</th>\n",
       "      <td>...</td>\n",
       "      <td>...</td>\n",
       "      <td>...</td>\n",
       "      <td>...</td>\n",
       "      <td>...</td>\n",
       "      <td>...</td>\n",
       "      <td>...</td>\n",
       "      <td>...</td>\n",
       "      <td>...</td>\n",
       "      <td>...</td>\n",
       "      <td>...</td>\n",
       "      <td>...</td>\n",
       "      <td>...</td>\n",
       "      <td>...</td>\n",
       "      <td>...</td>\n",
       "      <td>...</td>\n",
       "      <td>...</td>\n",
       "      <td>...</td>\n",
       "      <td>...</td>\n",
       "      <td>...</td>\n",
       "      <td>...</td>\n",
       "    </tr>\n",
       "    <tr>\n",
       "      <th>186085</th>\n",
       "      <td>-inf</td>\n",
       "      <td>0</td>\n",
       "      <td>15000.0</td>\n",
       "      <td>0</td>\n",
       "      <td>0</td>\n",
       "      <td>19</td>\n",
       "      <td>895</td>\n",
       "      <td>0</td>\n",
       "      <td>0</td>\n",
       "      <td>0</td>\n",
       "      <td>...</td>\n",
       "      <td>0</td>\n",
       "      <td>0</td>\n",
       "      <td>0</td>\n",
       "      <td>0</td>\n",
       "      <td>0</td>\n",
       "      <td>0</td>\n",
       "      <td>0</td>\n",
       "      <td>0</td>\n",
       "      <td>0</td>\n",
       "      <td>1</td>\n",
       "    </tr>\n",
       "    <tr>\n",
       "      <th>186385</th>\n",
       "      <td>-inf</td>\n",
       "      <td>0</td>\n",
       "      <td>2000.0</td>\n",
       "      <td>0</td>\n",
       "      <td>0</td>\n",
       "      <td>29</td>\n",
       "      <td>1</td>\n",
       "      <td>0</td>\n",
       "      <td>0</td>\n",
       "      <td>0</td>\n",
       "      <td>...</td>\n",
       "      <td>0</td>\n",
       "      <td>0</td>\n",
       "      <td>0</td>\n",
       "      <td>0</td>\n",
       "      <td>0</td>\n",
       "      <td>0</td>\n",
       "      <td>0</td>\n",
       "      <td>0</td>\n",
       "      <td>0</td>\n",
       "      <td>1</td>\n",
       "    </tr>\n",
       "    <tr>\n",
       "      <th>186486</th>\n",
       "      <td>-inf</td>\n",
       "      <td>0</td>\n",
       "      <td>10000.0</td>\n",
       "      <td>0</td>\n",
       "      <td>0</td>\n",
       "      <td>30</td>\n",
       "      <td>1</td>\n",
       "      <td>0</td>\n",
       "      <td>0</td>\n",
       "      <td>0</td>\n",
       "      <td>...</td>\n",
       "      <td>0</td>\n",
       "      <td>0</td>\n",
       "      <td>0</td>\n",
       "      <td>0</td>\n",
       "      <td>0</td>\n",
       "      <td>0</td>\n",
       "      <td>0</td>\n",
       "      <td>1</td>\n",
       "      <td>0</td>\n",
       "      <td>0</td>\n",
       "    </tr>\n",
       "    <tr>\n",
       "      <th>186631</th>\n",
       "      <td>-inf</td>\n",
       "      <td>0</td>\n",
       "      <td>1000.0</td>\n",
       "      <td>0</td>\n",
       "      <td>0</td>\n",
       "      <td>30</td>\n",
       "      <td>1</td>\n",
       "      <td>0</td>\n",
       "      <td>0</td>\n",
       "      <td>0</td>\n",
       "      <td>...</td>\n",
       "      <td>0</td>\n",
       "      <td>0</td>\n",
       "      <td>0</td>\n",
       "      <td>0</td>\n",
       "      <td>0</td>\n",
       "      <td>0</td>\n",
       "      <td>1</td>\n",
       "      <td>0</td>\n",
       "      <td>0</td>\n",
       "      <td>0</td>\n",
       "    </tr>\n",
       "    <tr>\n",
       "      <th>186838</th>\n",
       "      <td>-inf</td>\n",
       "      <td>0</td>\n",
       "      <td>50000.0</td>\n",
       "      <td>0</td>\n",
       "      <td>0</td>\n",
       "      <td>45</td>\n",
       "      <td>4</td>\n",
       "      <td>0</td>\n",
       "      <td>0</td>\n",
       "      <td>0</td>\n",
       "      <td>...</td>\n",
       "      <td>0</td>\n",
       "      <td>0</td>\n",
       "      <td>0</td>\n",
       "      <td>0</td>\n",
       "      <td>0</td>\n",
       "      <td>0</td>\n",
       "      <td>0</td>\n",
       "      <td>0</td>\n",
       "      <td>0</td>\n",
       "      <td>1</td>\n",
       "    </tr>\n",
       "  </tbody>\n",
       "</table>\n",
       "<p>10282 rows × 26 columns</p>\n",
       "</div>"
      ],
      "text/plain": [
       "        usd_pledged  backers_count     goal  spotlight  staff_pick  \\\n",
       "45             -inf              0   5000.0          0           0   \n",
       "51             -inf              0    100.0          0           0   \n",
       "73             -inf              0  10000.0          0           0   \n",
       "110            -inf              0     50.0          0           0   \n",
       "127            -inf              0    500.0          0           0   \n",
       "...             ...            ...      ...        ...         ...   \n",
       "186085         -inf              0  15000.0          0           0   \n",
       "186385         -inf              0   2000.0          0           0   \n",
       "186486         -inf              0  10000.0          0           0   \n",
       "186631         -inf              0   1000.0          0           0   \n",
       "186838         -inf              0  50000.0          0           0   \n",
       "\n",
       "        campaign_length  creation_to_launch  category_art  category_comics  \\\n",
       "45                   33                   8             0                0   \n",
       "51                   29                   1             1                0   \n",
       "73                   30                   6             0                0   \n",
       "110                  15                   6             1                0   \n",
       "127                  21                   1             1                0   \n",
       "...                 ...                 ...           ...              ...   \n",
       "186085               19                 895             0                0   \n",
       "186385               29                   1             0                0   \n",
       "186486               30                   1             0                0   \n",
       "186631               30                   1             0                0   \n",
       "186838               45                   4             0                0   \n",
       "\n",
       "        category_crafts  ...  category_journalism  category_music  \\\n",
       "45                    0  ...                    0               1   \n",
       "51                    0  ...                    0               0   \n",
       "73                    0  ...                    0               0   \n",
       "110                   0  ...                    0               0   \n",
       "127                   0  ...                    0               0   \n",
       "...                 ...  ...                  ...             ...   \n",
       "186085                0  ...                    0               0   \n",
       "186385                0  ...                    0               0   \n",
       "186486                0  ...                    0               0   \n",
       "186631                0  ...                    0               0   \n",
       "186838                0  ...                    0               0   \n",
       "\n",
       "        category_photography  category_publishing  category_technology  \\\n",
       "45                         0                    0                    0   \n",
       "51                         0                    0                    0   \n",
       "73                         0                    0                    0   \n",
       "110                        0                    0                    0   \n",
       "127                        0                    0                    0   \n",
       "...                      ...                  ...                  ...   \n",
       "186085                     0                    0                    0   \n",
       "186385                     0                    0                    0   \n",
       "186486                     0                    0                    0   \n",
       "186631                     0                    0                    0   \n",
       "186838                     0                    0                    0   \n",
       "\n",
       "        category_theater  season_launched_fall  season_launched_spring  \\\n",
       "45                     0                     0                       0   \n",
       "51                     0                     0                       1   \n",
       "73                     0                     0                       0   \n",
       "110                    0                     0                       0   \n",
       "127                    0                     1                       0   \n",
       "...                  ...                   ...                     ...   \n",
       "186085                 0                     0                       0   \n",
       "186385                 0                     0                       0   \n",
       "186486                 0                     0                       1   \n",
       "186631                 0                     1                       0   \n",
       "186838                 0                     0                       0   \n",
       "\n",
       "        season_launched_summer  season_launched_winter  \n",
       "45                           1                       0  \n",
       "51                           0                       0  \n",
       "73                           1                       0  \n",
       "110                          1                       0  \n",
       "127                          0                       0  \n",
       "...                        ...                     ...  \n",
       "186085                       0                       1  \n",
       "186385                       0                       1  \n",
       "186486                       0                       0  \n",
       "186631                       0                       0  \n",
       "186838                       0                       1  \n",
       "\n",
       "[10282 rows x 26 columns]"
      ]
     },
     "execution_count": 22,
     "metadata": {},
     "output_type": "execute_result"
    }
   ],
   "source": [
    "kickstarter_df[(kickstarter_df['usd_pledged'] == float(\"-inf\")) & (kickstarter_df['backers_count'] == 0)]"
   ]
  },
  {
   "cell_type": "markdown",
   "metadata": {},
   "source": [
    "- 10K rows where there were no backers, showing \"infinite\" values for pledge amounts. These rows need to be dropped"
   ]
  },
  {
   "cell_type": "code",
   "execution_count": 24,
   "metadata": {},
   "outputs": [],
   "source": [
    "kickstarter_df = kickstarter_df[(kickstarter_df['usd_pledged'] != float(\"-inf\")) & (kickstarter_df['backers_count'] != 0)]"
   ]
  },
  {
   "cell_type": "code",
   "execution_count": 25,
   "metadata": {},
   "outputs": [
    {
     "data": {
      "image/png": "[encoded data removed]",
      "text/plain": [
       "<Figure size 432x288 with 1 Axes>"
      ]
     },
     "metadata": {},
     "output_type": "display_data"
    }
   ],
   "source": [
    "sns.distplot(kickstarter_df['usd_pledged']);"
   ]
  },
  {
   "cell_type": "markdown",
   "metadata": {
    "pycharm": {
     "name": "#%% md\n"
    }
   },
   "source": [
    "# Split training and test sets"
   ]
  },
  {
   "cell_type": "code",
   "execution_count": 78,
   "metadata": {
    "collapsed": false,
    "jupyter": {
     "outputs_hidden": false
    },
    "pycharm": {
     "is_executing": false,
     "name": "#%%\n"
    }
   },
   "outputs": [],
   "source": [
    "# Segment the training and test sets\n",
    "X, y = kickstarter_df.drop(['usd_pledged', 'season_launched_fall', 'category_art'], axis=1), kickstarter_df['usd_pledged']\n",
    "X, X_test, y, y_test = train_test_split(X, y, test_size=0.2, random_state=42)"
   ]
  },
  {
   "cell_type": "markdown",
   "metadata": {
    "toc-hr-collapsed": false
   },
   "source": [
    "# Simple Validation"
   ]
  },
  {
   "cell_type": "code",
   "execution_count": 79,
   "metadata": {},
   "outputs": [],
   "source": [
    "# Split the training and validations sets\n",
    "X_train, X_val, y_train, y_val = train_test_split(X, y, test_size=0.2, random_state=42)"
   ]
  },
  {
   "cell_type": "markdown",
   "metadata": {},
   "source": [
    "#### Ordinary least squares (OLS)"
   ]
  },
  {
   "cell_type": "code",
   "execution_count": 80,
   "metadata": {},
   "outputs": [
    {
     "name": "stderr",
     "output_type": "stream",
     "text": [
      "/Users/baka_brooks/anaconda3/envs/metis/lib/python3.7/site-packages/numpy/core/fromnumeric.py:2495: FutureWarning: Method .ptp is deprecated and will be removed in a future version. Use numpy.ptp instead.\n",
      "  return ptp(axis=axis, out=out, **kwargs)\n"
     ]
    },
    {
     "data": {
      "text/html": [
       "<table class=\"simpletable\">\n",
       "<caption>OLS Regression Results</caption>\n",
       "<tr>\n",
       "  <th>Dep. Variable:</th>       <td>usd_pledged</td>   <th>  R-squared:         </th>  <td>   0.545</td>  \n",
       "</tr>\n",
       "<tr>\n",
       "  <th>Model:</th>                   <td>OLS</td>       <th>  Adj. R-squared:    </th>  <td>   0.545</td>  \n",
       "</tr>\n",
       "<tr>\n",
       "  <th>Method:</th>             <td>Least Squares</td>  <th>  F-statistic:       </th>  <td>   4251.</td>  \n",
       "</tr>\n",
       "<tr>\n",
       "  <th>Date:</th>             <td>Thu, 23 Jan 2020</td> <th>  Prob (F-statistic):</th>   <td>  0.00</td>   \n",
       "</tr>\n",
       "<tr>\n",
       "  <th>Time:</th>                 <td>20:55:26</td>     <th>  Log-Likelihood:    </th> <td>-1.6456e+05</td>\n",
       "</tr>\n",
       "<tr>\n",
       "  <th>No. Observations:</th>      <td> 81611</td>      <th>  AIC:               </th>  <td>3.292e+05</td> \n",
       "</tr>\n",
       "<tr>\n",
       "  <th>Df Residuals:</th>          <td> 81587</td>      <th>  BIC:               </th>  <td>3.294e+05</td> \n",
       "</tr>\n",
       "<tr>\n",
       "  <th>Df Model:</th>              <td>    23</td>      <th>                     </th>      <td> </td>     \n",
       "</tr>\n",
       "<tr>\n",
       "  <th>Covariance Type:</th>      <td>nonrobust</td>    <th>                     </th>      <td> </td>     \n",
       "</tr>\n",
       "</table>\n",
       "<table class=\"simpletable\">\n",
       "<tr>\n",
       "             <td></td>               <th>coef</th>     <th>std err</th>      <th>t</th>      <th>P>|t|</th>  <th>[0.025</th>    <th>0.975]</th>  \n",
       "</tr>\n",
       "<tr>\n",
       "  <th>const</th>                  <td>    4.0159</td> <td>    0.030</td> <td>  132.446</td> <td> 0.000</td> <td>    3.956</td> <td>    4.075</td>\n",
       "</tr>\n",
       "<tr>\n",
       "  <th>backers_count</th>          <td>    0.0003</td> <td> 5.83e-06</td> <td>   55.739</td> <td> 0.000</td> <td>    0.000</td> <td>    0.000</td>\n",
       "</tr>\n",
       "<tr>\n",
       "  <th>goal</th>                   <td>-5.074e-09</td> <td> 8.79e-09</td> <td>   -0.577</td> <td> 0.564</td> <td>-2.23e-08</td> <td> 1.22e-08</td>\n",
       "</tr>\n",
       "<tr>\n",
       "  <th>spotlight</th>              <td>    3.6134</td> <td>    0.014</td> <td>  249.894</td> <td> 0.000</td> <td>    3.585</td> <td>    3.642</td>\n",
       "</tr>\n",
       "<tr>\n",
       "  <th>staff_pick</th>             <td>    1.2616</td> <td>    0.019</td> <td>   66.595</td> <td> 0.000</td> <td>    1.225</td> <td>    1.299</td>\n",
       "</tr>\n",
       "<tr>\n",
       "  <th>campaign_length</th>        <td>    0.0075</td> <td>    0.001</td> <td>   13.541</td> <td> 0.000</td> <td>    0.006</td> <td>    0.009</td>\n",
       "</tr>\n",
       "<tr>\n",
       "  <th>creation_to_launch</th>     <td>    0.0011</td> <td> 4.35e-05</td> <td>   24.228</td> <td> 0.000</td> <td>    0.001</td> <td>    0.001</td>\n",
       "</tr>\n",
       "<tr>\n",
       "  <th>category_comics</th>        <td>    0.2935</td> <td>    0.035</td> <td>    8.329</td> <td> 0.000</td> <td>    0.224</td> <td>    0.363</td>\n",
       "</tr>\n",
       "<tr>\n",
       "  <th>category_crafts</th>        <td>   -0.2802</td> <td>    0.041</td> <td>   -6.803</td> <td> 0.000</td> <td>   -0.361</td> <td>   -0.200</td>\n",
       "</tr>\n",
       "<tr>\n",
       "  <th>category_dance</th>         <td>    0.1189</td> <td>    0.048</td> <td>    2.460</td> <td> 0.014</td> <td>    0.024</td> <td>    0.214</td>\n",
       "</tr>\n",
       "<tr>\n",
       "  <th>category_design</th>        <td>    1.0065</td> <td>    0.039</td> <td>   26.021</td> <td> 0.000</td> <td>    0.931</td> <td>    1.082</td>\n",
       "</tr>\n",
       "<tr>\n",
       "  <th>category_fashion</th>       <td>    0.3703</td> <td>    0.034</td> <td>   10.860</td> <td> 0.000</td> <td>    0.303</td> <td>    0.437</td>\n",
       "</tr>\n",
       "<tr>\n",
       "  <th>category_film & video</th>  <td>    0.5867</td> <td>    0.026</td> <td>   22.744</td> <td> 0.000</td> <td>    0.536</td> <td>    0.637</td>\n",
       "</tr>\n",
       "<tr>\n",
       "  <th>category_food</th>          <td>    0.6487</td> <td>    0.030</td> <td>   21.516</td> <td> 0.000</td> <td>    0.590</td> <td>    0.708</td>\n",
       "</tr>\n",
       "<tr>\n",
       "  <th>category_games</th>         <td>    0.8735</td> <td>    0.031</td> <td>   28.307</td> <td> 0.000</td> <td>    0.813</td> <td>    0.934</td>\n",
       "</tr>\n",
       "<tr>\n",
       "  <th>category_journalism</th>    <td>   -0.1987</td> <td>    0.051</td> <td>   -3.898</td> <td> 0.000</td> <td>   -0.299</td> <td>   -0.099</td>\n",
       "</tr>\n",
       "<tr>\n",
       "  <th>category_music</th>         <td>    0.2730</td> <td>    0.025</td> <td>   10.953</td> <td> 0.000</td> <td>    0.224</td> <td>    0.322</td>\n",
       "</tr>\n",
       "<tr>\n",
       "  <th>category_photography</th>   <td>    0.1244</td> <td>    0.044</td> <td>    2.839</td> <td> 0.005</td> <td>    0.039</td> <td>    0.210</td>\n",
       "</tr>\n",
       "<tr>\n",
       "  <th>category_publishing</th>    <td>    0.2021</td> <td>    0.027</td> <td>    7.358</td> <td> 0.000</td> <td>    0.148</td> <td>    0.256</td>\n",
       "</tr>\n",
       "<tr>\n",
       "  <th>category_technology</th>    <td>    1.2095</td> <td>    0.029</td> <td>   42.006</td> <td> 0.000</td> <td>    1.153</td> <td>    1.266</td>\n",
       "</tr>\n",
       "<tr>\n",
       "  <th>category_theater</th>       <td>    0.3403</td> <td>    0.046</td> <td>    7.444</td> <td> 0.000</td> <td>    0.251</td> <td>    0.430</td>\n",
       "</tr>\n",
       "<tr>\n",
       "  <th>season_launched_spring</th> <td>   -0.0635</td> <td>    0.018</td> <td>   -3.618</td> <td> 0.000</td> <td>   -0.098</td> <td>   -0.029</td>\n",
       "</tr>\n",
       "<tr>\n",
       "  <th>season_launched_summer</th> <td>   -0.1303</td> <td>    0.018</td> <td>   -7.411</td> <td> 0.000</td> <td>   -0.165</td> <td>   -0.096</td>\n",
       "</tr>\n",
       "<tr>\n",
       "  <th>season_launched_winter</th> <td>   -0.2455</td> <td>    0.019</td> <td>  -13.028</td> <td> 0.000</td> <td>   -0.282</td> <td>   -0.209</td>\n",
       "</tr>\n",
       "</table>\n",
       "<table class=\"simpletable\">\n",
       "<tr>\n",
       "  <th>Omnibus:</th>       <td>7807.133</td> <th>  Durbin-Watson:     </th> <td>   1.997</td> \n",
       "</tr>\n",
       "<tr>\n",
       "  <th>Prob(Omnibus):</th>  <td> 0.000</td>  <th>  Jarque-Bera (JB):  </th> <td>22980.896</td>\n",
       "</tr>\n",
       "<tr>\n",
       "  <th>Skew:</th>           <td>-0.518</td>  <th>  Prob(JB):          </th> <td>    0.00</td> \n",
       "</tr>\n",
       "<tr>\n",
       "  <th>Kurtosis:</th>       <td> 5.384</td>  <th>  Cond. No.          </th> <td>9.20e+06</td> \n",
       "</tr>\n",
       "</table><br/><br/>Warnings:<br/>[1] Standard Errors assume that the covariance matrix of the errors is correctly specified.<br/>[2] The condition number is large, 9.2e+06. This might indicate that there are<br/>strong multicollinearity or other numerical problems."
      ],
      "text/plain": [
       "<class 'statsmodels.iolib.summary.Summary'>\n",
       "\"\"\"\n",
       "                            OLS Regression Results                            \n",
       "==============================================================================\n",
       "Dep. Variable:            usd_pledged   R-squared:                       0.545\n",
       "Model:                            OLS   Adj. R-squared:                  0.545\n",
       "Method:                 Least Squares   F-statistic:                     4251.\n",
       "Date:                Thu, 23 Jan 2020   Prob (F-statistic):               0.00\n",
       "Time:                        20:55:26   Log-Likelihood:            -1.6456e+05\n",
       "No. Observations:               81611   AIC:                         3.292e+05\n",
       "Df Residuals:                   81587   BIC:                         3.294e+05\n",
       "Df Model:                          23                                         \n",
       "Covariance Type:            nonrobust                                         \n",
       "==========================================================================================\n",
       "                             coef    std err          t      P>|t|      [0.025      0.975]\n",
       "------------------------------------------------------------------------------------------\n",
       "const                      4.0159      0.030    132.446      0.000       3.956       4.075\n",
       "backers_count              0.0003   5.83e-06     55.739      0.000       0.000       0.000\n",
       "goal                   -5.074e-09   8.79e-09     -0.577      0.564   -2.23e-08    1.22e-08\n",
       "spotlight                  3.6134      0.014    249.894      0.000       3.585       3.642\n",
       "staff_pick                 1.2616      0.019     66.595      0.000       1.225       1.299\n",
       "campaign_length            0.0075      0.001     13.541      0.000       0.006       0.009\n",
       "creation_to_launch         0.0011   4.35e-05     24.228      0.000       0.001       0.001\n",
       "category_comics            0.2935      0.035      8.329      0.000       0.224       0.363\n",
       "category_crafts           -0.2802      0.041     -6.803      0.000      -0.361      -0.200\n",
       "category_dance             0.1189      0.048      2.460      0.014       0.024       0.214\n",
       "category_design            1.0065      0.039     26.021      0.000       0.931       1.082\n",
       "category_fashion           0.3703      0.034     10.860      0.000       0.303       0.437\n",
       "category_film & video      0.5867      0.026     22.744      0.000       0.536       0.637\n",
       "category_food              0.6487      0.030     21.516      0.000       0.590       0.708\n",
       "category_games             0.8735      0.031     28.307      0.000       0.813       0.934\n",
       "category_journalism       -0.1987      0.051     -3.898      0.000      -0.299      -0.099\n",
       "category_music             0.2730      0.025     10.953      0.000       0.224       0.322\n",
       "category_photography       0.1244      0.044      2.839      0.005       0.039       0.210\n",
       "category_publishing        0.2021      0.027      7.358      0.000       0.148       0.256\n",
       "category_technology        1.2095      0.029     42.006      0.000       1.153       1.266\n",
       "category_theater           0.3403      0.046      7.444      0.000       0.251       0.430\n",
       "season_launched_spring    -0.0635      0.018     -3.618      0.000      -0.098      -0.029\n",
       "season_launched_summer    -0.1303      0.018     -7.411      0.000      -0.165      -0.096\n",
       "season_launched_winter    -0.2455      0.019    -13.028      0.000      -0.282      -0.209\n",
       "==============================================================================\n",
       "Omnibus:                     7807.133   Durbin-Watson:                   1.997\n",
       "Prob(Omnibus):                  0.000   Jarque-Bera (JB):            22980.896\n",
       "Skew:                          -0.518   Prob(JB):                         0.00\n",
       "Kurtosis:                       5.384   Cond. No.                     9.20e+06\n",
       "==============================================================================\n",
       "\n",
       "Warnings:\n",
       "[1] Standard Errors assume that the covariance matrix of the errors is correctly specified.\n",
       "[2] The condition number is large, 9.2e+06. This might indicate that there are\n",
       "strong multicollinearity or other numerical problems.\n",
       "\"\"\""
      ]
     },
     "execution_count": 80,
     "metadata": {},
     "output_type": "execute_result"
    }
   ],
   "source": [
    "# Create model and display model statistics\n",
    "model = sm.OLS(y_train, sm.add_constant(X_train))\n",
    "fit = model.fit()\n",
    "fit.summary()"
   ]
  },
  {
   "cell_type": "markdown",
   "metadata": {},
   "source": [
    "#### LR, Lasso, Ridge, and Polynomial regression"
   ]
  },
  {
   "cell_type": "code",
   "execution_count": 81,
   "metadata": {},
   "outputs": [],
   "source": [
    "# Create list of non-categorical columns to scale\n",
    "columns_to_scale = ['backers_count', 'goal', 'campaign_length', 'creation_to_launch']"
   ]
  },
  {
   "cell_type": "code",
   "execution_count": 82,
   "metadata": {},
   "outputs": [],
   "source": [
    "# Set up the models\n",
    "lm = LinearRegression()\n",
    "# Ridge and Lasso model alphas assessed in the MAE calcs in the section below\n",
    "lm_ridge = Ridge(alpha=0.01)\n",
    "lm_lasso = Lasso(alpha=0.01)\n",
    "lm_poly = LinearRegression()\n",
    "\n",
    "# Feature scaling for train, val, and test for ridge and lasso models\n",
    "scaler = StandardScaler()\n",
    "\n",
    "X_train_scaled = X_train.copy()\n",
    "X_train_scaled[columns_to_scale] = scaler.fit_transform(X_train_scaled[columns_to_scale])\n",
    "X_train_scaled = np.array(X_train_scaled)\n",
    "\n",
    "X_val_scaled = X_val.copy()\n",
    "X_val_scaled[columns_to_scale] = scaler.fit_transform(X_val_scaled[columns_to_scale])\n",
    "X_val_scaled = np.array(X_val_scaled)\n",
    "\n",
    "X_test_scaled = X_test.copy()\n",
    "X_test_scaled[columns_to_scale] = scaler.fit_transform(X_test_scaled[columns_to_scale])\n",
    "X_test_scaled = np.array(X_test_scaled)\n",
    "\n",
    "# Feature transforms for train, val, and test\n",
    "poly = PolynomialFeatures(degree=2)\n",
    "\n",
    "X_train_poly = poly.fit_transform(X_train.values)\n",
    "X_val_poly = poly.transform(X_val.values)\n",
    "X_test_poly = poly.transform(X_test.values)"
   ]
  },
  {
   "cell_type": "code",
   "execution_count": 83,
   "metadata": {},
   "outputs": [
    {
     "name": "stdout",
     "output_type": "stream",
     "text": [
      "Linear Regression val R^2: 0.54848\n",
      "Ridge Regression val R^2: 0.54980\n",
      "Lasso Regression val R^2: 0.54566\n",
      "Degree 2 Polynomial regression val R^2: 0.55999\n"
     ]
    }
   ],
   "source": [
    "# Validate all models and display the results\n",
    "lm.fit(X_train, y_train)\n",
    "print(f'Linear Regression val R^2: {lm.score(X_val, y_val):.5f}')\n",
    "\n",
    "lm_ridge.fit(X_train_scaled, y_train)\n",
    "print(f'Ridge Regression val R^2: {lm_ridge.score(X_val_scaled, y_val):.5f}')\n",
    "\n",
    "lm_lasso.fit(X_train_scaled, y_train)\n",
    "print(f'Lasso Regression val R^2: {lm_lasso.score(X_val_scaled, y_val):.5f}')\n",
    "\n",
    "lm_poly.fit(X_train_poly, y_train)\n",
    "print(f'Degree 2 Polynomial regression val R^2: {lm_poly.score(X_val_poly, y_val):.5f}')"
   ]
  },
  {
   "cell_type": "markdown",
   "metadata": {},
   "source": [
    "<font color='blue'><h4>Takeaways</h4></font>\n",
    "- After tuning the Ridge and Lasso model alphas, regular linear regression is still the best predictor of the response.\n",
    "- The Lasso coeffs show that some of the categories can be grouped into an \"Other\" category, as they show little effect on the model.\n",
    "- Seasonal shifts are not present in Kickstarter backing. These features can be removed in the next iteration."
   ]
  },
  {
   "cell_type": "markdown",
   "metadata": {},
   "source": [
    "#### Observe Ridge and Lasso coefficients"
   ]
  },
  {
   "cell_type": "code",
   "execution_count": 84,
   "metadata": {},
   "outputs": [
    {
     "data": {
      "text/plain": [
       "[('backers_count', 0.3649940352647363),\n",
       " ('goal', -0.0036760685369858865),\n",
       " ('spotlight', 3.6134021193057793),\n",
       " ('staff_pick', 1.2616340009881744),\n",
       " ('campaign_length', 0.08810277209639493),\n",
       " ('creation_to_launch', 0.15475932204967874),\n",
       " ('category_comics', 0.293522054829233),\n",
       " ('category_crafts', -0.2802536252818543),\n",
       " ('category_dance', 0.11889905758639611),\n",
       " ('category_design', 1.006450484223501),\n",
       " ('category_fashion', 0.37031803927125995),\n",
       " ('category_film & video', 0.5866667323676524),\n",
       " ('category_food', 0.648696139110646),\n",
       " ('category_games', 0.8734921477907367),\n",
       " ('category_journalism', -0.1986655238715459),\n",
       " ('category_music', 0.27299658583547204),\n",
       " ('category_photography', 0.12442779753210577),\n",
       " ('category_publishing', 0.2020628415751588),\n",
       " ('category_technology', 1.2094799238361196),\n",
       " ('category_theater', 0.3403257850786426),\n",
       " ('season_launched_spring', -0.06351613535313272),\n",
       " ('season_launched_summer', -0.13025267507870278),\n",
       " ('season_launched_winter', -0.2455217184347488)]"
      ]
     },
     "execution_count": 84,
     "metadata": {},
     "output_type": "execute_result"
    }
   ],
   "source": [
    "# Ridge coefficients\n",
    "list(zip(X_train.columns, lm_ridge.coef_))"
   ]
  },
  {
   "cell_type": "code",
   "execution_count": 85,
   "metadata": {},
   "outputs": [
    {
     "data": {
      "text/plain": [
       "[('backers_count', 0.37459069822475194),\n",
       " ('goal', -0.0),\n",
       " ('spotlight', 3.571629710709666),\n",
       " ('staff_pick', 1.1909980891264904),\n",
       " ('campaign_length', 0.07958082424682884),\n",
       " ('creation_to_launch', 0.15622466554454564),\n",
       " ('category_comics', 0.0),\n",
       " ('category_crafts', -0.22790344919402433),\n",
       " ('category_dance', -0.0),\n",
       " ('category_design', 0.46535606425864445),\n",
       " ('category_fashion', 0.0),\n",
       " ('category_film & video', 0.24876154834448627),\n",
       " ('category_food', 0.2420481825477647),\n",
       " ('category_games', 0.46346380212040506),\n",
       " ('category_journalism', -0.0),\n",
       " ('category_music', 0.0),\n",
       " ('category_photography', -0.0),\n",
       " ('category_publishing', -0.0),\n",
       " ('category_technology', 0.8263834612032736),\n",
       " ('category_theater', 0.0),\n",
       " ('season_launched_spring', 0.0),\n",
       " ('season_launched_summer', -0.02807660452655154),\n",
       " ('season_launched_winter', -0.13343901470486416)]"
      ]
     },
     "execution_count": 85,
     "metadata": {},
     "output_type": "execute_result"
    }
   ],
   "source": [
    "# Lasso coefficients\n",
    "list(zip(X_train.columns, lm_lasso.coef_))"
   ]
  },
  {
   "cell_type": "markdown",
   "metadata": {},
   "source": [
    "### Tune regularization strength"
   ]
  },
  {
   "cell_type": "code",
   "execution_count": 86,
   "metadata": {},
   "outputs": [],
   "source": [
    "# Define mean absolute error calculation (MAE)\n",
    "def mae(y_true, y_pred):\n",
    "    return np.mean(np.abs(y_pred - y_true))"
   ]
  },
  {
   "cell_type": "markdown",
   "metadata": {},
   "source": [
    "#### Tune Lasso regularization"
   ]
  },
  {
   "cell_type": "code",
   "execution_count": 87,
   "metadata": {},
   "outputs": [],
   "source": [
    "alphalist = 10**(np.linspace(-2,2,200))\n",
    "err_vec_val = np.zeros(len(alphalist))\n",
    "err_vec_train = np.zeros(len(alphalist))\n",
    "\n",
    "for i,curr_alpha in enumerate(alphalist):  \n",
    "    \n",
    "    lm_lasso = Lasso(alpha=curr_alpha)\n",
    "    lm_lasso.fit(X_train_scaled, y_train)\n",
    "    \n",
    "    val_set_pred = lm_lasso.predict(X_val_scaled)\n",
    "    err_vec_val[i] = mae(y_val, val_set_pred)"
   ]
  },
  {
   "cell_type": "code",
   "execution_count": 88,
   "metadata": {},
   "outputs": [
    {
     "data": {
      "image/png": "[encoded data removed]",
      "text/plain": [
       "<Figure size 432x288 with 1 Axes>"
      ]
     },
     "metadata": {},
     "output_type": "display_data"
    }
   ],
   "source": [
    "# Plot curve of validation error with change in alpha \n",
    "plt.plot(np.log10(alphalist), err_vec_val);"
   ]
  },
  {
   "cell_type": "code",
   "execution_count": 89,
   "metadata": {},
   "outputs": [
    {
     "data": {
      "text/plain": [
       "1.37622425638636"
      ]
     },
     "execution_count": 89,
     "metadata": {},
     "output_type": "execute_result"
    }
   ],
   "source": [
    "# Minimum error achieved\n",
    "np.min(err_vec_val)"
   ]
  },
  {
   "cell_type": "code",
   "execution_count": 90,
   "metadata": {},
   "outputs": [
    {
     "data": {
      "text/plain": [
       "0.01"
      ]
     },
     "execution_count": 90,
     "metadata": {},
     "output_type": "execute_result"
    }
   ],
   "source": [
    "# Alpha value where minimum error reached\n",
    "alphalist[np.argmin(err_vec_val)]"
   ]
  },
  {
   "cell_type": "markdown",
   "metadata": {},
   "source": [
    "#### Tune Ridge regularization"
   ]
  },
  {
   "cell_type": "code",
   "execution_count": 91,
   "metadata": {},
   "outputs": [],
   "source": [
    "alphalist = 10**(np.linspace(-2,2,200))\n",
    "err_vec_val = np.zeros(len(alphalist))\n",
    "err_vec_train = np.zeros(len(alphalist))\n",
    "\n",
    "for i,curr_alpha in enumerate(alphalist):\n",
    "    \n",
    "    lm_ridge = Ridge(alpha=curr_alpha)\n",
    "    lm_ridge.fit(X_train_scaled, y_train)\n",
    "    \n",
    "    val_set_pred = lm_ridge.predict(X_val_scaled)\n",
    "    err_vec_val[i] = mae(y_val, val_set_pred)"
   ]
  },
  {
   "cell_type": "code",
   "execution_count": 92,
   "metadata": {},
   "outputs": [
    {
     "data": {
      "image/png": "[encoded data removed]",
      "text/plain": [
       "<Figure size 432x288 with 1 Axes>"
      ]
     },
     "metadata": {},
     "output_type": "display_data"
    }
   ],
   "source": [
    "# Plot curve of validation error with change in alpha \n",
    "plt.plot(np.log10(alphalist), err_vec_val);"
   ]
  },
  {
   "cell_type": "code",
   "execution_count": 93,
   "metadata": {},
   "outputs": [
    {
     "data": {
      "text/plain": [
       "1.367536542788983"
      ]
     },
     "execution_count": 93,
     "metadata": {},
     "output_type": "execute_result"
    }
   ],
   "source": [
    "# Minimum error achieved\n",
    "np.min(err_vec_val)"
   ]
  },
  {
   "cell_type": "code",
   "execution_count": 94,
   "metadata": {},
   "outputs": [
    {
     "data": {
      "text/plain": [
       "0.01"
      ]
     },
     "execution_count": 94,
     "metadata": {},
     "output_type": "execute_result"
    }
   ],
   "source": [
    "# Alpha value where minimum error reached\n",
    "alphalist[np.argmin(err_vec_val)]"
   ]
  },
  {
   "cell_type": "markdown",
   "metadata": {},
   "source": [
    "#### Calculate VIFs"
   ]
  },
  {
   "cell_type": "code",
   "execution_count": 43,
   "metadata": {},
   "outputs": [],
   "source": [
    "vif = pd.DataFrame()\n",
    "\n",
    "X_numeric = X.loc[:, columns_to_scale]\n",
    "vif[\"VIF Factor\"] = [variance_inflation_factor(X_numeric.values, i) for i in range(X_numeric.shape[1])]\n",
    "vif[\"features\"] = X_numeric.columns"
   ]
  },
  {
   "cell_type": "code",
   "execution_count": 44,
   "metadata": {},
   "outputs": [
    {
     "data": {
      "text/html": [
       "<div>\n",
       "<style scoped>\n",
       "    .dataframe tbody tr th:only-of-type {\n",
       "        vertical-align: middle;\n",
       "    }\n",
       "\n",
       "    .dataframe tbody tr th {\n",
       "        vertical-align: top;\n",
       "    }\n",
       "\n",
       "    .dataframe thead th {\n",
       "        text-align: right;\n",
       "    }\n",
       "</style>\n",
       "<table border=\"1\" class=\"dataframe\">\n",
       "  <thead>\n",
       "    <tr style=\"text-align: right;\">\n",
       "      <th></th>\n",
       "      <th>VIF Factor</th>\n",
       "      <th>features</th>\n",
       "    </tr>\n",
       "  </thead>\n",
       "  <tbody>\n",
       "    <tr>\n",
       "      <th>2</th>\n",
       "      <td>1.140003</td>\n",
       "      <td>campaign_length</td>\n",
       "    </tr>\n",
       "    <tr>\n",
       "      <th>3</th>\n",
       "      <td>1.117433</td>\n",
       "      <td>creation_to_launch</td>\n",
       "    </tr>\n",
       "    <tr>\n",
       "      <th>0</th>\n",
       "      <td>1.025654</td>\n",
       "      <td>backers_count</td>\n",
       "    </tr>\n",
       "    <tr>\n",
       "      <th>1</th>\n",
       "      <td>1.002441</td>\n",
       "      <td>goal</td>\n",
       "    </tr>\n",
       "  </tbody>\n",
       "</table>\n",
       "</div>"
      ],
      "text/plain": [
       "   VIF Factor            features\n",
       "2    1.140003     campaign_length\n",
       "3    1.117433  creation_to_launch\n",
       "0    1.025654       backers_count\n",
       "1    1.002441                goal"
      ]
     },
     "execution_count": 44,
     "metadata": {},
     "output_type": "execute_result"
    }
   ],
   "source": [
    "vif.sort_values('VIF Factor', ascending=False)"
   ]
  },
  {
   "cell_type": "markdown",
   "metadata": {},
   "source": [
    "- No additional insights as far as multicollinearity other than the features outlined in the LASSO model."
   ]
  },
  {
   "cell_type": "markdown",
   "metadata": {},
   "source": [
    "# Additional data processing"
   ]
  },
  {
   "cell_type": "markdown",
   "metadata": {},
   "source": [
    "- Group unimpactful columns into an `other` category\n",
    "- Drop `season` columns"
   ]
  },
  {
   "cell_type": "code",
   "execution_count": 45,
   "metadata": {},
   "outputs": [],
   "source": [
    "# Create a copy of the full dataframe\n",
    "kickstarter_mod = df.copy()"
   ]
  },
  {
   "cell_type": "code",
   "execution_count": 46,
   "metadata": {},
   "outputs": [],
   "source": [
    "def re_categorize(category):\n",
    "    \"\"\"\n",
    "    Loop through a pandas Series of urls and scrape their web pages for links to their social accounts.\n",
    "\n",
    "    Paramater:\n",
    "    ----------\n",
    "    category_column: A pandas Series containing categorical columns to group.\n",
    "    \"\"\"\n",
    "    \n",
    "    categories = ['comics', 'dance', 'fashion', 'journalism', 'music', 'photography', \n",
    "                  'publishing', 'theater']\n",
    "    \n",
    "    if category in categories:\n",
    "        return 'other'\n",
    "    else:\n",
    "        return category"
   ]
  },
  {
   "cell_type": "code",
   "execution_count": 47,
   "metadata": {},
   "outputs": [],
   "source": [
    "# Apply function to create new categorization\n",
    "kickstarter_mod['new_category'] = kickstarter_mod['category'].apply(re_categorize)"
   ]
  },
  {
   "cell_type": "code",
   "execution_count": 48,
   "metadata": {},
   "outputs": [],
   "source": [
    "# Select columns to keep for new models\n",
    "columns_to_keep = ['usd_pledged', 'backers_count', 'spotlight', 'staff_pick', 'campaign_length', \n",
    "                   'creation_to_launch', 'new_category', 'season_launched']\n",
    "kickstarter_mod = kickstarter_mod.loc[:, columns_to_keep]\n",
    "kickstarter_mod = kickstarter_mod.rename(columns={'new_category': 'category'})"
   ]
  },
  {
   "cell_type": "code",
   "execution_count": 49,
   "metadata": {},
   "outputs": [],
   "source": [
    "# Convert booleans to ints\n",
    "kickstarter_mod['spotlight'] = kickstarter_mod['spotlight'].astype(int)\n",
    "kickstarter_mod['staff_pick'] = kickstarter_mod['staff_pick'].astype(int)"
   ]
  },
  {
   "cell_type": "code",
   "execution_count": 50,
   "metadata": {},
   "outputs": [
    {
     "name": "stderr",
     "output_type": "stream",
     "text": [
      "/Users/baka_brooks/anaconda3/envs/metis/lib/python3.7/site-packages/pandas/core/series.py:856: RuntimeWarning: divide by zero encountered in log\n",
      "  result = getattr(ufunc, method)(*inputs, **kwargs)\n"
     ]
    }
   ],
   "source": [
    "kickstarter_mod['usd_pledged'] = np.log(kickstarter_mod['usd_pledged'])\n",
    "kickstarter_mod = kickstarter_mod[(kickstarter_mod['usd_pledged'] != float(\"-inf\")) & (kickstarter_mod['backers_count'] != 0)]"
   ]
  },
  {
   "cell_type": "code",
   "execution_count": 51,
   "metadata": {},
   "outputs": [
    {
     "data": {
      "text/html": [
       "<div>\n",
       "<style scoped>\n",
       "    .dataframe tbody tr th:only-of-type {\n",
       "        vertical-align: middle;\n",
       "    }\n",
       "\n",
       "    .dataframe tbody tr th {\n",
       "        vertical-align: top;\n",
       "    }\n",
       "\n",
       "    .dataframe thead th {\n",
       "        text-align: right;\n",
       "    }\n",
       "</style>\n",
       "<table border=\"1\" class=\"dataframe\">\n",
       "  <thead>\n",
       "    <tr style=\"text-align: right;\">\n",
       "      <th></th>\n",
       "      <th>usd_pledged</th>\n",
       "      <th>backers_count</th>\n",
       "      <th>spotlight</th>\n",
       "      <th>staff_pick</th>\n",
       "      <th>campaign_length</th>\n",
       "      <th>creation_to_launch</th>\n",
       "      <th>category</th>\n",
       "      <th>season_launched</th>\n",
       "    </tr>\n",
       "  </thead>\n",
       "  <tbody>\n",
       "    <tr>\n",
       "      <th>0</th>\n",
       "      <td>5.480639</td>\n",
       "      <td>1</td>\n",
       "      <td>0</td>\n",
       "      <td>0</td>\n",
       "      <td>30</td>\n",
       "      <td>54</td>\n",
       "      <td>crafts</td>\n",
       "      <td>fall</td>\n",
       "    </tr>\n",
       "    <tr>\n",
       "      <th>2</th>\n",
       "      <td>10.639167</td>\n",
       "      <td>243</td>\n",
       "      <td>1</td>\n",
       "      <td>1</td>\n",
       "      <td>30</td>\n",
       "      <td>21</td>\n",
       "      <td>food</td>\n",
       "      <td>spring</td>\n",
       "    </tr>\n",
       "    <tr>\n",
       "      <th>3</th>\n",
       "      <td>8.043984</td>\n",
       "      <td>27</td>\n",
       "      <td>1</td>\n",
       "      <td>0</td>\n",
       "      <td>45</td>\n",
       "      <td>14</td>\n",
       "      <td>other</td>\n",
       "      <td>summer</td>\n",
       "    </tr>\n",
       "    <tr>\n",
       "      <th>4</th>\n",
       "      <td>4.110874</td>\n",
       "      <td>3</td>\n",
       "      <td>0</td>\n",
       "      <td>0</td>\n",
       "      <td>30</td>\n",
       "      <td>60</td>\n",
       "      <td>food</td>\n",
       "      <td>summer</td>\n",
       "    </tr>\n",
       "    <tr>\n",
       "      <th>5</th>\n",
       "      <td>1.609438</td>\n",
       "      <td>1</td>\n",
       "      <td>0</td>\n",
       "      <td>0</td>\n",
       "      <td>60</td>\n",
       "      <td>1</td>\n",
       "      <td>other</td>\n",
       "      <td>summer</td>\n",
       "    </tr>\n",
       "  </tbody>\n",
       "</table>\n",
       "</div>"
      ],
      "text/plain": [
       "   usd_pledged  backers_count  spotlight  staff_pick  campaign_length  \\\n",
       "0     5.480639              1          0           0               30   \n",
       "2    10.639167            243          1           1               30   \n",
       "3     8.043984             27          1           0               45   \n",
       "4     4.110874              3          0           0               30   \n",
       "5     1.609438              1          0           0               60   \n",
       "\n",
       "   creation_to_launch category season_launched  \n",
       "0                  54   crafts            fall  \n",
       "2                  21     food          spring  \n",
       "3                  14    other          summer  \n",
       "4                  60     food          summer  \n",
       "5                   1    other          summer  "
      ]
     },
     "execution_count": 51,
     "metadata": {},
     "output_type": "execute_result"
    }
   ],
   "source": [
    "kickstarter_mod.head()"
   ]
  },
  {
   "cell_type": "code",
   "execution_count": 52,
   "metadata": {},
   "outputs": [
    {
     "name": "stdout",
     "output_type": "stream",
     "text": [
      "(127518, 17)\n"
     ]
    },
    {
     "data": {
      "text/html": [
       "<div>\n",
       "<style scoped>\n",
       "    .dataframe tbody tr th:only-of-type {\n",
       "        vertical-align: middle;\n",
       "    }\n",
       "\n",
       "    .dataframe tbody tr th {\n",
       "        vertical-align: top;\n",
       "    }\n",
       "\n",
       "    .dataframe thead th {\n",
       "        text-align: right;\n",
       "    }\n",
       "</style>\n",
       "<table border=\"1\" class=\"dataframe\">\n",
       "  <thead>\n",
       "    <tr style=\"text-align: right;\">\n",
       "      <th></th>\n",
       "      <th>usd_pledged</th>\n",
       "      <th>backers_count</th>\n",
       "      <th>spotlight</th>\n",
       "      <th>staff_pick</th>\n",
       "      <th>campaign_length</th>\n",
       "      <th>creation_to_launch</th>\n",
       "      <th>category_art</th>\n",
       "      <th>category_crafts</th>\n",
       "      <th>category_design</th>\n",
       "      <th>category_film &amp; video</th>\n",
       "      <th>category_food</th>\n",
       "      <th>category_games</th>\n",
       "      <th>category_technology</th>\n",
       "      <th>season_launched_fall</th>\n",
       "      <th>season_launched_spring</th>\n",
       "      <th>season_launched_summer</th>\n",
       "      <th>season_launched_winter</th>\n",
       "    </tr>\n",
       "  </thead>\n",
       "  <tbody>\n",
       "    <tr>\n",
       "      <th>0</th>\n",
       "      <td>5.480639</td>\n",
       "      <td>1</td>\n",
       "      <td>0</td>\n",
       "      <td>0</td>\n",
       "      <td>30</td>\n",
       "      <td>54</td>\n",
       "      <td>0</td>\n",
       "      <td>1</td>\n",
       "      <td>0</td>\n",
       "      <td>0</td>\n",
       "      <td>0</td>\n",
       "      <td>0</td>\n",
       "      <td>0</td>\n",
       "      <td>1</td>\n",
       "      <td>0</td>\n",
       "      <td>0</td>\n",
       "      <td>0</td>\n",
       "    </tr>\n",
       "    <tr>\n",
       "      <th>2</th>\n",
       "      <td>10.639167</td>\n",
       "      <td>243</td>\n",
       "      <td>1</td>\n",
       "      <td>1</td>\n",
       "      <td>30</td>\n",
       "      <td>21</td>\n",
       "      <td>0</td>\n",
       "      <td>0</td>\n",
       "      <td>0</td>\n",
       "      <td>0</td>\n",
       "      <td>1</td>\n",
       "      <td>0</td>\n",
       "      <td>0</td>\n",
       "      <td>0</td>\n",
       "      <td>1</td>\n",
       "      <td>0</td>\n",
       "      <td>0</td>\n",
       "    </tr>\n",
       "    <tr>\n",
       "      <th>3</th>\n",
       "      <td>8.043984</td>\n",
       "      <td>27</td>\n",
       "      <td>1</td>\n",
       "      <td>0</td>\n",
       "      <td>45</td>\n",
       "      <td>14</td>\n",
       "      <td>0</td>\n",
       "      <td>0</td>\n",
       "      <td>0</td>\n",
       "      <td>0</td>\n",
       "      <td>0</td>\n",
       "      <td>0</td>\n",
       "      <td>0</td>\n",
       "      <td>0</td>\n",
       "      <td>0</td>\n",
       "      <td>1</td>\n",
       "      <td>0</td>\n",
       "    </tr>\n",
       "    <tr>\n",
       "      <th>4</th>\n",
       "      <td>4.110874</td>\n",
       "      <td>3</td>\n",
       "      <td>0</td>\n",
       "      <td>0</td>\n",
       "      <td>30</td>\n",
       "      <td>60</td>\n",
       "      <td>0</td>\n",
       "      <td>0</td>\n",
       "      <td>0</td>\n",
       "      <td>0</td>\n",
       "      <td>1</td>\n",
       "      <td>0</td>\n",
       "      <td>0</td>\n",
       "      <td>0</td>\n",
       "      <td>0</td>\n",
       "      <td>1</td>\n",
       "      <td>0</td>\n",
       "    </tr>\n",
       "    <tr>\n",
       "      <th>5</th>\n",
       "      <td>1.609438</td>\n",
       "      <td>1</td>\n",
       "      <td>0</td>\n",
       "      <td>0</td>\n",
       "      <td>60</td>\n",
       "      <td>1</td>\n",
       "      <td>0</td>\n",
       "      <td>0</td>\n",
       "      <td>0</td>\n",
       "      <td>0</td>\n",
       "      <td>0</td>\n",
       "      <td>0</td>\n",
       "      <td>0</td>\n",
       "      <td>0</td>\n",
       "      <td>0</td>\n",
       "      <td>1</td>\n",
       "      <td>0</td>\n",
       "    </tr>\n",
       "  </tbody>\n",
       "</table>\n",
       "</div>"
      ],
      "text/plain": [
       "   usd_pledged  backers_count  spotlight  staff_pick  campaign_length  \\\n",
       "0     5.480639              1          0           0               30   \n",
       "2    10.639167            243          1           1               30   \n",
       "3     8.043984             27          1           0               45   \n",
       "4     4.110874              3          0           0               30   \n",
       "5     1.609438              1          0           0               60   \n",
       "\n",
       "   creation_to_launch  category_art  category_crafts  category_design  \\\n",
       "0                  54             0                1                0   \n",
       "2                  21             0                0                0   \n",
       "3                  14             0                0                0   \n",
       "4                  60             0                0                0   \n",
       "5                   1             0                0                0   \n",
       "\n",
       "   category_film & video  category_food  category_games  category_technology  \\\n",
       "0                      0              0               0                    0   \n",
       "2                      0              1               0                    0   \n",
       "3                      0              0               0                    0   \n",
       "4                      0              1               0                    0   \n",
       "5                      0              0               0                    0   \n",
       "\n",
       "   season_launched_fall  season_launched_spring  season_launched_summer  \\\n",
       "0                     1                       0                       0   \n",
       "2                     0                       1                       0   \n",
       "3                     0                       0                       1   \n",
       "4                     0                       0                       1   \n",
       "5                     0                       0                       1   \n",
       "\n",
       "   season_launched_winter  \n",
       "0                       0  \n",
       "2                       0  \n",
       "3                       0  \n",
       "4                       0  \n",
       "5                       0  "
      ]
     },
     "execution_count": 52,
     "metadata": {},
     "output_type": "execute_result"
    }
   ],
   "source": [
    "# Get dummies for update dataframe\n",
    "kickstarter_mod = pd.get_dummies(kickstarter_mod)\n",
    "kickstarter_mod.drop('category_other', axis=1, inplace=True)\n",
    "print(kickstarter_mod.shape)\n",
    "kickstarter_mod.head()"
   ]
  },
  {
   "cell_type": "code",
   "execution_count": 53,
   "metadata": {},
   "outputs": [],
   "source": [
    "# Segment the training and test sets\n",
    "X, y = kickstarter_mod.drop('usd_pledged', axis=1), kickstarter_mod['usd_pledged']\n",
    "X, X_test, y, y_test = train_test_split(X, y, test_size=0.2, random_state=42)"
   ]
  },
  {
   "cell_type": "markdown",
   "metadata": {},
   "source": [
    "# Re-run OLS"
   ]
  },
  {
   "cell_type": "code",
   "execution_count": 54,
   "metadata": {},
   "outputs": [],
   "source": [
    "# Split the training and validations sets\n",
    "X_train, X_val, y_train, y_val = train_test_split(X, y, test_size=0.2, random_state=42)"
   ]
  },
  {
   "cell_type": "code",
   "execution_count": 55,
   "metadata": {},
   "outputs": [
    {
     "name": "stderr",
     "output_type": "stream",
     "text": [
      "/Users/baka_brooks/anaconda3/envs/metis/lib/python3.7/site-packages/numpy/core/fromnumeric.py:2495: FutureWarning: Method .ptp is deprecated and will be removed in a future version. Use numpy.ptp instead.\n",
      "  return ptp(axis=axis, out=out, **kwargs)\n"
     ]
    },
    {
     "data": {
      "text/html": [
       "<table class=\"simpletable\">\n",
       "<caption>OLS Regression Results</caption>\n",
       "<tr>\n",
       "  <th>Dep. Variable:</th>       <td>usd_pledged</td>   <th>  R-squared:         </th>  <td>   0.544</td>  \n",
       "</tr>\n",
       "<tr>\n",
       "  <th>Model:</th>                   <td>OLS</td>       <th>  Adj. R-squared:    </th>  <td>   0.544</td>  \n",
       "</tr>\n",
       "<tr>\n",
       "  <th>Method:</th>             <td>Least Squares</td>  <th>  F-statistic:       </th>  <td>   6498.</td>  \n",
       "</tr>\n",
       "<tr>\n",
       "  <th>Date:</th>             <td>Thu, 23 Jan 2020</td> <th>  Prob (F-statistic):</th>   <td>  0.00</td>   \n",
       "</tr>\n",
       "<tr>\n",
       "  <th>Time:</th>                 <td>20:54:14</td>     <th>  Log-Likelihood:    </th> <td>-1.6463e+05</td>\n",
       "</tr>\n",
       "<tr>\n",
       "  <th>No. Observations:</th>      <td> 81611</td>      <th>  AIC:               </th>  <td>3.293e+05</td> \n",
       "</tr>\n",
       "<tr>\n",
       "  <th>Df Residuals:</th>          <td> 81595</td>      <th>  BIC:               </th>  <td>3.294e+05</td> \n",
       "</tr>\n",
       "<tr>\n",
       "  <th>Df Model:</th>              <td>    15</td>      <th>                     </th>      <td> </td>     \n",
       "</tr>\n",
       "<tr>\n",
       "  <th>Covariance Type:</th>      <td>nonrobust</td>    <th>                     </th>      <td> </td>     \n",
       "</tr>\n",
       "</table>\n",
       "<table class=\"simpletable\">\n",
       "<tr>\n",
       "             <td></td>               <th>coef</th>     <th>std err</th>      <th>t</th>      <th>P>|t|</th>  <th>[0.025</th>    <th>0.975]</th>  \n",
       "</tr>\n",
       "<tr>\n",
       "  <th>const</th>                  <td>    3.3106</td> <td>    0.019</td> <td>  174.639</td> <td> 0.000</td> <td>    3.273</td> <td>    3.348</td>\n",
       "</tr>\n",
       "<tr>\n",
       "  <th>backers_count</th>          <td>    0.0003</td> <td> 5.83e-06</td> <td>   55.773</td> <td> 0.000</td> <td>    0.000</td> <td>    0.000</td>\n",
       "</tr>\n",
       "<tr>\n",
       "  <th>spotlight</th>              <td>    3.6251</td> <td>    0.014</td> <td>  253.547</td> <td> 0.000</td> <td>    3.597</td> <td>    3.653</td>\n",
       "</tr>\n",
       "<tr>\n",
       "  <th>staff_pick</th>             <td>    1.2501</td> <td>    0.019</td> <td>   66.277</td> <td> 0.000</td> <td>    1.213</td> <td>    1.287</td>\n",
       "</tr>\n",
       "<tr>\n",
       "  <th>campaign_length</th>        <td>    0.0074</td> <td>    0.001</td> <td>   13.493</td> <td> 0.000</td> <td>    0.006</td> <td>    0.009</td>\n",
       "</tr>\n",
       "<tr>\n",
       "  <th>creation_to_launch</th>     <td>    0.0011</td> <td> 4.35e-05</td> <td>   24.500</td> <td> 0.000</td> <td>    0.001</td> <td>    0.001</td>\n",
       "</tr>\n",
       "<tr>\n",
       "  <th>category_art</th>           <td>   -0.2378</td> <td>    0.021</td> <td>  -11.152</td> <td> 0.000</td> <td>   -0.280</td> <td>   -0.196</td>\n",
       "</tr>\n",
       "<tr>\n",
       "  <th>category_crafts</th>        <td>   -0.5165</td> <td>    0.038</td> <td>  -13.645</td> <td> 0.000</td> <td>   -0.591</td> <td>   -0.442</td>\n",
       "</tr>\n",
       "<tr>\n",
       "  <th>category_design</th>        <td>    0.7675</td> <td>    0.035</td> <td>   21.948</td> <td> 0.000</td> <td>    0.699</td> <td>    0.836</td>\n",
       "</tr>\n",
       "<tr>\n",
       "  <th>category_film & video</th>  <td>    0.3490</td> <td>    0.020</td> <td>   17.599</td> <td> 0.000</td> <td>    0.310</td> <td>    0.388</td>\n",
       "</tr>\n",
       "<tr>\n",
       "  <th>category_food</th>          <td>    0.4142</td> <td>    0.025</td> <td>   16.343</td> <td> 0.000</td> <td>    0.365</td> <td>    0.464</td>\n",
       "</tr>\n",
       "<tr>\n",
       "  <th>category_games</th>         <td>    0.6345</td> <td>    0.026</td> <td>   24.337</td> <td> 0.000</td> <td>    0.583</td> <td>    0.686</td>\n",
       "</tr>\n",
       "<tr>\n",
       "  <th>category_technology</th>    <td>    0.9739</td> <td>    0.024</td> <td>   41.189</td> <td> 0.000</td> <td>    0.928</td> <td>    1.020</td>\n",
       "</tr>\n",
       "<tr>\n",
       "  <th>season_launched_fall</th>   <td>    0.9387</td> <td>    0.012</td> <td>   78.845</td> <td> 0.000</td> <td>    0.915</td> <td>    0.962</td>\n",
       "</tr>\n",
       "<tr>\n",
       "  <th>season_launched_spring</th> <td>    0.8743</td> <td>    0.012</td> <td>   74.428</td> <td> 0.000</td> <td>    0.851</td> <td>    0.897</td>\n",
       "</tr>\n",
       "<tr>\n",
       "  <th>season_launched_summer</th> <td>    0.8073</td> <td>    0.012</td> <td>   69.190</td> <td> 0.000</td> <td>    0.784</td> <td>    0.830</td>\n",
       "</tr>\n",
       "<tr>\n",
       "  <th>season_launched_winter</th> <td>    0.6903</td> <td>    0.013</td> <td>   53.381</td> <td> 0.000</td> <td>    0.665</td> <td>    0.716</td>\n",
       "</tr>\n",
       "</table>\n",
       "<table class=\"simpletable\">\n",
       "<tr>\n",
       "  <th>Omnibus:</th>       <td>7763.330</td> <th>  Durbin-Watson:     </th> <td>   1.997</td> \n",
       "</tr>\n",
       "<tr>\n",
       "  <th>Prob(Omnibus):</th>  <td> 0.000</td>  <th>  Jarque-Bera (JB):  </th> <td>22857.729</td>\n",
       "</tr>\n",
       "<tr>\n",
       "  <th>Skew:</th>           <td>-0.515</td>  <th>  Prob(JB):          </th> <td>    0.00</td> \n",
       "</tr>\n",
       "<tr>\n",
       "  <th>Kurtosis:</th>       <td> 5.379</td>  <th>  Cond. No.          </th> <td>3.34e+18</td> \n",
       "</tr>\n",
       "</table><br/><br/>Warnings:<br/>[1] Standard Errors assume that the covariance matrix of the errors is correctly specified.<br/>[2] The smallest eigenvalue is 9.44e-27. This might indicate that there are<br/>strong multicollinearity problems or that the design matrix is singular."
      ],
      "text/plain": [
       "<class 'statsmodels.iolib.summary.Summary'>\n",
       "\"\"\"\n",
       "                            OLS Regression Results                            \n",
       "==============================================================================\n",
       "Dep. Variable:            usd_pledged   R-squared:                       0.544\n",
       "Model:                            OLS   Adj. R-squared:                  0.544\n",
       "Method:                 Least Squares   F-statistic:                     6498.\n",
       "Date:                Thu, 23 Jan 2020   Prob (F-statistic):               0.00\n",
       "Time:                        20:54:14   Log-Likelihood:            -1.6463e+05\n",
       "No. Observations:               81611   AIC:                         3.293e+05\n",
       "Df Residuals:                   81595   BIC:                         3.294e+05\n",
       "Df Model:                          15                                         \n",
       "Covariance Type:            nonrobust                                         \n",
       "==========================================================================================\n",
       "                             coef    std err          t      P>|t|      [0.025      0.975]\n",
       "------------------------------------------------------------------------------------------\n",
       "const                      3.3106      0.019    174.639      0.000       3.273       3.348\n",
       "backers_count              0.0003   5.83e-06     55.773      0.000       0.000       0.000\n",
       "spotlight                  3.6251      0.014    253.547      0.000       3.597       3.653\n",
       "staff_pick                 1.2501      0.019     66.277      0.000       1.213       1.287\n",
       "campaign_length            0.0074      0.001     13.493      0.000       0.006       0.009\n",
       "creation_to_launch         0.0011   4.35e-05     24.500      0.000       0.001       0.001\n",
       "category_art              -0.2378      0.021    -11.152      0.000      -0.280      -0.196\n",
       "category_crafts           -0.5165      0.038    -13.645      0.000      -0.591      -0.442\n",
       "category_design            0.7675      0.035     21.948      0.000       0.699       0.836\n",
       "category_film & video      0.3490      0.020     17.599      0.000       0.310       0.388\n",
       "category_food              0.4142      0.025     16.343      0.000       0.365       0.464\n",
       "category_games             0.6345      0.026     24.337      0.000       0.583       0.686\n",
       "category_technology        0.9739      0.024     41.189      0.000       0.928       1.020\n",
       "season_launched_fall       0.9387      0.012     78.845      0.000       0.915       0.962\n",
       "season_launched_spring     0.8743      0.012     74.428      0.000       0.851       0.897\n",
       "season_launched_summer     0.8073      0.012     69.190      0.000       0.784       0.830\n",
       "season_launched_winter     0.6903      0.013     53.381      0.000       0.665       0.716\n",
       "==============================================================================\n",
       "Omnibus:                     7763.330   Durbin-Watson:                   1.997\n",
       "Prob(Omnibus):                  0.000   Jarque-Bera (JB):            22857.729\n",
       "Skew:                          -0.515   Prob(JB):                         0.00\n",
       "Kurtosis:                       5.379   Cond. No.                     3.34e+18\n",
       "==============================================================================\n",
       "\n",
       "Warnings:\n",
       "[1] Standard Errors assume that the covariance matrix of the errors is correctly specified.\n",
       "[2] The smallest eigenvalue is 9.44e-27. This might indicate that there are\n",
       "strong multicollinearity problems or that the design matrix is singular.\n",
       "\"\"\""
      ]
     },
     "execution_count": 55,
     "metadata": {},
     "output_type": "execute_result"
    }
   ],
   "source": [
    "# Create model and display model statistics\n",
    "model = sm.OLS(y_train, sm.add_constant(X_train))\n",
    "fit = model.fit()\n",
    "fit.summary()"
   ]
  },
  {
   "cell_type": "markdown",
   "metadata": {
    "toc-hr-collapsed": false
   },
   "source": [
    "# Cross validation testing"
   ]
  },
  {
   "cell_type": "code",
   "execution_count": 56,
   "metadata": {},
   "outputs": [],
   "source": [
    "def cv_test_data(model, X, y):\n",
    "    \"\"\"\n",
    "    Run a specified model using X and y values passed and return the R^2, mean R^2, and std.\n",
    "    \n",
    "    Parameters:\n",
    "    -----------\n",
    "    model: Model you are testing\n",
    "    X: 2D array of features\n",
    "    y: Array of target values \n",
    "    \"\"\"\n",
    "    \n",
    "    # Set the number of folds and initialize container of r^2 and adj r^2 values\n",
    "    kf = KFold(n_splits=5, shuffle=True, random_state=42)\n",
    "    cv_model_r2s, cv_model_adj_r2s = [], []\n",
    "    \n",
    "    for train_ind, val_ind in kf.split(X,y):\n",
    "        \n",
    "        X_train, y_train = X[train_ind], y[train_ind]\n",
    "        X_val, y_val = X[val_ind], y[val_ind]\n",
    "        \n",
    "        # Fit the model\n",
    "        model.fit(X_train, y_train)\n",
    "        \n",
    "        # Append r^2 scores\n",
    "        val_score = model.score(X_val, y_val)\n",
    "        cv_model_r2s.append(val_score)\n",
    "        \n",
    "        # Append adj r^2 scores\n",
    "        adj_r_squared = 1 - (1-val_score)*(len(y_val)-1)/(len(y_val)-X_val.shape[1]-1)\n",
    "        cv_model_adj_r2s.append(adj_r_squared)\n",
    "        \n",
    "    print('Model r^2 scores: ', cv_model_r2s)\n",
    "    print('Model adj r^2 scores: ', cv_model_adj_r2s, '\\n')\n",
    "    \n",
    "    print(f'Mean cv r^2: {np.mean(cv_model_r2s):.3f} +- {np.std(cv_model_r2s):.3f}')\n",
    "    print(f'Mean adj cv r^2: {np.mean(cv_model_adj_r2s):.3f} +- {np.std(cv_model_adj_r2s):.3f}', '\\n')"
   ]
  },
  {
   "cell_type": "markdown",
   "metadata": {},
   "source": [
    "#### Linear regression"
   ]
  },
  {
   "cell_type": "code",
   "execution_count": 57,
   "metadata": {},
   "outputs": [
    {
     "name": "stdout",
     "output_type": "stream",
     "text": [
      "Model r^2 scores:  [0.5471483480215535, 0.5392656862848973, 0.529226202049512, 0.5529034630722172, 0.5489595992462536]\n",
      "Model adj r^2 scores:  [0.5467929263384547, 0.5389040778762129, 0.528856714128036, 0.5525525583046882, 0.5486055817622182] \n",
      "\n",
      "Mean cv r^2: 0.544 +- 0.008\n",
      "Mean adj cv r^2: 0.543 +- 0.008 \n",
      "\n"
     ]
    }
   ],
   "source": [
    "cv_test_data(LinearRegression(), np.array(X), np.array(y))"
   ]
  },
  {
   "cell_type": "markdown",
   "metadata": {},
   "source": [
    "#### Ridge regression"
   ]
  },
  {
   "cell_type": "code",
   "execution_count": 58,
   "metadata": {},
   "outputs": [],
   "source": [
    "# Scale features for ridge and lasso models\n",
    "scaler = StandardScaler()\n",
    "\n",
    "columns_to_scale = ['backers_count', 'campaign_length', 'creation_to_launch']\n",
    "\n",
    "X_scaled = X.copy()\n",
    "X_scaled[columns_to_scale] = scaler.fit_transform(X_scaled[columns_to_scale])\n",
    "X_scaled = np.array(X_scaled)"
   ]
  },
  {
   "cell_type": "code",
   "execution_count": 59,
   "metadata": {},
   "outputs": [
    {
     "name": "stdout",
     "output_type": "stream",
     "text": [
      "Model r^2 scores:  [0.5471483482063215, 0.5392656986629715, 0.5292261828062605, 0.552903455420737, 0.5489596083118816]\n",
      "Model adj r^2 scores:  [0.5467929265233675, 0.538904090264002, 0.5288566948696816, 0.5525525506472029, 0.5486055908349619] \n",
      "\n",
      "Mean cv r^2: 0.544 +- 0.008\n",
      "Mean adj cv r^2: 0.543 +- 0.008 \n",
      "\n"
     ]
    }
   ],
   "source": [
    "cv_test_data(Ridge(alpha=0.01), X_scaled, np.array(y))"
   ]
  },
  {
   "cell_type": "markdown",
   "metadata": {},
   "source": [
    "#### Lasso regression"
   ]
  },
  {
   "cell_type": "code",
   "execution_count": 60,
   "metadata": {},
   "outputs": [
    {
     "name": "stdout",
     "output_type": "stream",
     "text": [
      "Model r^2 scores:  [0.5449911468918405, 0.537501474744928, 0.5267583554250688, 0.549978636898832, 0.5467458766551099]\n",
      "Model adj r^2 scores:  [0.5446340321243661, 0.5371384816906711, 0.526386930608371, 0.5496254365746085, 0.5463901216404659] \n",
      "\n",
      "Mean cv r^2: 0.541 +- 0.008\n",
      "Mean adj cv r^2: 0.541 +- 0.008 \n",
      "\n"
     ]
    }
   ],
   "source": [
    "cv_test_data(Lasso(alpha=0.01), X_scaled, np.array(y))"
   ]
  },
  {
   "cell_type": "markdown",
   "metadata": {},
   "source": [
    "#### Polynomial regression"
   ]
  },
  {
   "cell_type": "code",
   "execution_count": 61,
   "metadata": {},
   "outputs": [],
   "source": [
    "poly = PolynomialFeatures(degree=2)\n",
    "X_poly = poly.fit_transform(X.values)"
   ]
  },
  {
   "cell_type": "code",
   "execution_count": 62,
   "metadata": {},
   "outputs": [
    {
     "name": "stdout",
     "output_type": "stream",
     "text": [
      "Model r^2 scores:  [0.558709260505183, 0.6225013407238268, 0.5641960947978051, 0.6274775931261425, 0.6248634242711253]\n",
      "Model adj r^2 scores:  [0.5553748991469576, 0.6196489877745821, 0.5609031915682167, 0.6246628403851824, 0.6220287790673265] \n",
      "\n",
      "Mean cv r^2: 0.600 +- 0.031\n",
      "Mean adj cv r^2: 0.597 +- 0.031 \n",
      "\n"
     ]
    }
   ],
   "source": [
    "cv_test_data(LinearRegression(), X_poly, np.array(y))"
   ]
  },
  {
   "cell_type": "markdown",
   "metadata": {},
   "source": [
    "# Results"
   ]
  },
  {
   "cell_type": "markdown",
   "metadata": {},
   "source": [
    "- Linear regression continued to be the best predictor of pledge amount\n",
    "- Binning of categorical columns, removal of seasonal component, campaign length and project goal resulted in p-values of zero for all other features."
   ]
  },
  {
   "cell_type": "markdown",
   "metadata": {},
   "source": [
    "#### Linear regression"
   ]
  },
  {
   "cell_type": "code",
   "execution_count": 63,
   "metadata": {},
   "outputs": [
    {
     "data": {
      "text/html": [
       "<table class=\"simpletable\">\n",
       "<caption>OLS Regression Results</caption>\n",
       "<tr>\n",
       "  <th>Dep. Variable:</th>       <td>usd_pledged</td>   <th>  R-squared:         </th>  <td>   0.544</td>  \n",
       "</tr>\n",
       "<tr>\n",
       "  <th>Model:</th>                   <td>OLS</td>       <th>  Adj. R-squared:    </th>  <td>   0.544</td>  \n",
       "</tr>\n",
       "<tr>\n",
       "  <th>Method:</th>             <td>Least Squares</td>  <th>  F-statistic:       </th>  <td>   6498.</td>  \n",
       "</tr>\n",
       "<tr>\n",
       "  <th>Date:</th>             <td>Thu, 23 Jan 2020</td> <th>  Prob (F-statistic):</th>   <td>  0.00</td>   \n",
       "</tr>\n",
       "<tr>\n",
       "  <th>Time:</th>                 <td>20:54:17</td>     <th>  Log-Likelihood:    </th> <td>-1.6463e+05</td>\n",
       "</tr>\n",
       "<tr>\n",
       "  <th>No. Observations:</th>      <td> 81611</td>      <th>  AIC:               </th>  <td>3.293e+05</td> \n",
       "</tr>\n",
       "<tr>\n",
       "  <th>Df Residuals:</th>          <td> 81595</td>      <th>  BIC:               </th>  <td>3.294e+05</td> \n",
       "</tr>\n",
       "<tr>\n",
       "  <th>Df Model:</th>              <td>    15</td>      <th>                     </th>      <td> </td>     \n",
       "</tr>\n",
       "<tr>\n",
       "  <th>Covariance Type:</th>      <td>nonrobust</td>    <th>                     </th>      <td> </td>     \n",
       "</tr>\n",
       "</table>\n",
       "<table class=\"simpletable\">\n",
       "<tr>\n",
       "             <td></td>               <th>coef</th>     <th>std err</th>      <th>t</th>      <th>P>|t|</th>  <th>[0.025</th>    <th>0.975]</th>  \n",
       "</tr>\n",
       "<tr>\n",
       "  <th>const</th>                  <td>    3.3106</td> <td>    0.019</td> <td>  174.639</td> <td> 0.000</td> <td>    3.273</td> <td>    3.348</td>\n",
       "</tr>\n",
       "<tr>\n",
       "  <th>backers_count</th>          <td>    0.0003</td> <td> 5.83e-06</td> <td>   55.773</td> <td> 0.000</td> <td>    0.000</td> <td>    0.000</td>\n",
       "</tr>\n",
       "<tr>\n",
       "  <th>spotlight</th>              <td>    3.6251</td> <td>    0.014</td> <td>  253.547</td> <td> 0.000</td> <td>    3.597</td> <td>    3.653</td>\n",
       "</tr>\n",
       "<tr>\n",
       "  <th>staff_pick</th>             <td>    1.2501</td> <td>    0.019</td> <td>   66.277</td> <td> 0.000</td> <td>    1.213</td> <td>    1.287</td>\n",
       "</tr>\n",
       "<tr>\n",
       "  <th>campaign_length</th>        <td>    0.0074</td> <td>    0.001</td> <td>   13.493</td> <td> 0.000</td> <td>    0.006</td> <td>    0.009</td>\n",
       "</tr>\n",
       "<tr>\n",
       "  <th>creation_to_launch</th>     <td>    0.0011</td> <td> 4.35e-05</td> <td>   24.500</td> <td> 0.000</td> <td>    0.001</td> <td>    0.001</td>\n",
       "</tr>\n",
       "<tr>\n",
       "  <th>category_art</th>           <td>   -0.2378</td> <td>    0.021</td> <td>  -11.152</td> <td> 0.000</td> <td>   -0.280</td> <td>   -0.196</td>\n",
       "</tr>\n",
       "<tr>\n",
       "  <th>category_crafts</th>        <td>   -0.5165</td> <td>    0.038</td> <td>  -13.645</td> <td> 0.000</td> <td>   -0.591</td> <td>   -0.442</td>\n",
       "</tr>\n",
       "<tr>\n",
       "  <th>category_design</th>        <td>    0.7675</td> <td>    0.035</td> <td>   21.948</td> <td> 0.000</td> <td>    0.699</td> <td>    0.836</td>\n",
       "</tr>\n",
       "<tr>\n",
       "  <th>category_film & video</th>  <td>    0.3490</td> <td>    0.020</td> <td>   17.599</td> <td> 0.000</td> <td>    0.310</td> <td>    0.388</td>\n",
       "</tr>\n",
       "<tr>\n",
       "  <th>category_food</th>          <td>    0.4142</td> <td>    0.025</td> <td>   16.343</td> <td> 0.000</td> <td>    0.365</td> <td>    0.464</td>\n",
       "</tr>\n",
       "<tr>\n",
       "  <th>category_games</th>         <td>    0.6345</td> <td>    0.026</td> <td>   24.337</td> <td> 0.000</td> <td>    0.583</td> <td>    0.686</td>\n",
       "</tr>\n",
       "<tr>\n",
       "  <th>category_technology</th>    <td>    0.9739</td> <td>    0.024</td> <td>   41.189</td> <td> 0.000</td> <td>    0.928</td> <td>    1.020</td>\n",
       "</tr>\n",
       "<tr>\n",
       "  <th>season_launched_fall</th>   <td>    0.9387</td> <td>    0.012</td> <td>   78.845</td> <td> 0.000</td> <td>    0.915</td> <td>    0.962</td>\n",
       "</tr>\n",
       "<tr>\n",
       "  <th>season_launched_spring</th> <td>    0.8743</td> <td>    0.012</td> <td>   74.428</td> <td> 0.000</td> <td>    0.851</td> <td>    0.897</td>\n",
       "</tr>\n",
       "<tr>\n",
       "  <th>season_launched_summer</th> <td>    0.8073</td> <td>    0.012</td> <td>   69.190</td> <td> 0.000</td> <td>    0.784</td> <td>    0.830</td>\n",
       "</tr>\n",
       "<tr>\n",
       "  <th>season_launched_winter</th> <td>    0.6903</td> <td>    0.013</td> <td>   53.381</td> <td> 0.000</td> <td>    0.665</td> <td>    0.716</td>\n",
       "</tr>\n",
       "</table>\n",
       "<table class=\"simpletable\">\n",
       "<tr>\n",
       "  <th>Omnibus:</th>       <td>7763.330</td> <th>  Durbin-Watson:     </th> <td>   1.997</td> \n",
       "</tr>\n",
       "<tr>\n",
       "  <th>Prob(Omnibus):</th>  <td> 0.000</td>  <th>  Jarque-Bera (JB):  </th> <td>22857.729</td>\n",
       "</tr>\n",
       "<tr>\n",
       "  <th>Skew:</th>           <td>-0.515</td>  <th>  Prob(JB):          </th> <td>    0.00</td> \n",
       "</tr>\n",
       "<tr>\n",
       "  <th>Kurtosis:</th>       <td> 5.379</td>  <th>  Cond. No.          </th> <td>3.34e+18</td> \n",
       "</tr>\n",
       "</table><br/><br/>Warnings:<br/>[1] Standard Errors assume that the covariance matrix of the errors is correctly specified.<br/>[2] The smallest eigenvalue is 9.44e-27. This might indicate that there are<br/>strong multicollinearity problems or that the design matrix is singular."
      ],
      "text/plain": [
       "<class 'statsmodels.iolib.summary.Summary'>\n",
       "\"\"\"\n",
       "                            OLS Regression Results                            \n",
       "==============================================================================\n",
       "Dep. Variable:            usd_pledged   R-squared:                       0.544\n",
       "Model:                            OLS   Adj. R-squared:                  0.544\n",
       "Method:                 Least Squares   F-statistic:                     6498.\n",
       "Date:                Thu, 23 Jan 2020   Prob (F-statistic):               0.00\n",
       "Time:                        20:54:17   Log-Likelihood:            -1.6463e+05\n",
       "No. Observations:               81611   AIC:                         3.293e+05\n",
       "Df Residuals:                   81595   BIC:                         3.294e+05\n",
       "Df Model:                          15                                         \n",
       "Covariance Type:            nonrobust                                         \n",
       "==========================================================================================\n",
       "                             coef    std err          t      P>|t|      [0.025      0.975]\n",
       "------------------------------------------------------------------------------------------\n",
       "const                      3.3106      0.019    174.639      0.000       3.273       3.348\n",
       "backers_count              0.0003   5.83e-06     55.773      0.000       0.000       0.000\n",
       "spotlight                  3.6251      0.014    253.547      0.000       3.597       3.653\n",
       "staff_pick                 1.2501      0.019     66.277      0.000       1.213       1.287\n",
       "campaign_length            0.0074      0.001     13.493      0.000       0.006       0.009\n",
       "creation_to_launch         0.0011   4.35e-05     24.500      0.000       0.001       0.001\n",
       "category_art              -0.2378      0.021    -11.152      0.000      -0.280      -0.196\n",
       "category_crafts           -0.5165      0.038    -13.645      0.000      -0.591      -0.442\n",
       "category_design            0.7675      0.035     21.948      0.000       0.699       0.836\n",
       "category_film & video      0.3490      0.020     17.599      0.000       0.310       0.388\n",
       "category_food              0.4142      0.025     16.343      0.000       0.365       0.464\n",
       "category_games             0.6345      0.026     24.337      0.000       0.583       0.686\n",
       "category_technology        0.9739      0.024     41.189      0.000       0.928       1.020\n",
       "season_launched_fall       0.9387      0.012     78.845      0.000       0.915       0.962\n",
       "season_launched_spring     0.8743      0.012     74.428      0.000       0.851       0.897\n",
       "season_launched_summer     0.8073      0.012     69.190      0.000       0.784       0.830\n",
       "season_launched_winter     0.6903      0.013     53.381      0.000       0.665       0.716\n",
       "==============================================================================\n",
       "Omnibus:                     7763.330   Durbin-Watson:                   1.997\n",
       "Prob(Omnibus):                  0.000   Jarque-Bera (JB):            22857.729\n",
       "Skew:                          -0.515   Prob(JB):                         0.00\n",
       "Kurtosis:                       5.379   Cond. No.                     3.34e+18\n",
       "==============================================================================\n",
       "\n",
       "Warnings:\n",
       "[1] Standard Errors assume that the covariance matrix of the errors is correctly specified.\n",
       "[2] The smallest eigenvalue is 9.44e-27. This might indicate that there are\n",
       "strong multicollinearity problems or that the design matrix is singular.\n",
       "\"\"\""
      ]
     },
     "execution_count": 63,
     "metadata": {},
     "output_type": "execute_result"
    }
   ],
   "source": [
    "lr = LinearRegression()\n",
    "lr.fit(X_train, y_train)\n",
    "fit.summary()"
   ]
  },
  {
   "cell_type": "code",
   "execution_count": 64,
   "metadata": {},
   "outputs": [],
   "source": [
    "test_set_pred = lr.predict(X_test)"
   ]
  },
  {
   "cell_type": "code",
   "execution_count": 95,
   "metadata": {},
   "outputs": [
    {
     "data": {
      "image/png": "[encoded data removed]",
      "text/plain": [
       "<Figure size 432x288 with 1 Axes>"
      ]
     },
     "metadata": {},
     "output_type": "display_data"
    }
   ],
   "source": [
    "plt.scatter(test_set_pred, y_test, alpha=0.1)\n",
    "plt.xlim([0, 15])\n",
    "plt.ylim([0,15]);"
   ]
  },
  {
   "cell_type": "markdown",
   "metadata": {},
   "source": [
    "#### Lasso regression"
   ]
  },
  {
   "cell_type": "code",
   "execution_count": 66,
   "metadata": {},
   "outputs": [],
   "source": [
    "scaler = StandardScaler()\n",
    "\n",
    "X_train_scaled = X_train.copy()\n",
    "X_train_scaled[columns_to_scale] = scaler.fit_transform(X_train_scaled[columns_to_scale])\n",
    "X_train_scaled = np.array(X_train_scaled)\n",
    "\n",
    "X_test_scaled = X_test.copy()\n",
    "X_test_scaled[columns_to_scale] = scaler.fit_transform(X_test_scaled[columns_to_scale])\n",
    "X_test_scaled = np.array(X_test_scaled)"
   ]
  },
  {
   "cell_type": "code",
   "execution_count": 67,
   "metadata": {},
   "outputs": [
    {
     "data": {
      "text/plain": [
       "Lasso(alpha=0.01, copy_X=True, fit_intercept=True, max_iter=1000,\n",
       "      normalize=False, positive=False, precompute=False, random_state=None,\n",
       "      selection='cyclic', tol=0.0001, warm_start=False)"
      ]
     },
     "execution_count": 67,
     "metadata": {},
     "output_type": "execute_result"
    }
   ],
   "source": [
    "lr_model_lasso = Lasso(alpha=0.01)\n",
    "lr_model_lasso.fit(X_train_scaled, y_train)"
   ]
  },
  {
   "cell_type": "code",
   "execution_count": 68,
   "metadata": {},
   "outputs": [],
   "source": [
    "test_set_pred = lr_model_lasso.predict(X_test_scaled)"
   ]
  },
  {
   "cell_type": "code",
   "execution_count": 69,
   "metadata": {},
   "outputs": [
    {
     "data": {
      "image/png": "[encoded data removed]",
      "text/plain": [
       "<Figure size 432x288 with 1 Axes>"
      ]
     },
     "metadata": {},
     "output_type": "display_data"
    }
   ],
   "source": [
    "plt.scatter(test_set_pred, y_test, alpha=0.1);"
   ]
  },
  {
   "cell_type": "code",
   "execution_count": 70,
   "metadata": {},
   "outputs": [
    {
     "data": {
      "image/png": "[encoded data removed]",
      "text/plain": [
       "<Figure size 432x288 with 1 Axes>"
      ]
     },
     "metadata": {},
     "output_type": "display_data"
    }
   ],
   "source": [
    "sns.scatterplot(x=test_set_pred, y=y_test-test_set_pred, alpha=0.5);"
   ]
  },
  {
   "cell_type": "markdown",
   "metadata": {},
   "source": [
    "#### Polynomial regression"
   ]
  },
  {
   "cell_type": "code",
   "execution_count": 71,
   "metadata": {},
   "outputs": [
    {
     "data": {
      "text/plain": [
       "LinearRegression(copy_X=True, fit_intercept=True, n_jobs=None, normalize=False)"
      ]
     },
     "execution_count": 71,
     "metadata": {},
     "output_type": "execute_result"
    }
   ],
   "source": [
    "lr_poly = LinearRegression()\n",
    "poly = PolynomialFeatures(degree=2)\n",
    "\n",
    "X_train_poly = poly.fit_transform(X_train.values)\n",
    "X_val_poly = poly.transform(X_val.values)\n",
    "X_test_poly = poly.transform(X_test.values)\n",
    "\n",
    "lr_poly.fit(X_train_poly, y_train)"
   ]
  },
  {
   "cell_type": "code",
   "execution_count": 72,
   "metadata": {},
   "outputs": [],
   "source": [
    "test_set_pred = lr_poly.predict(X_test_poly)"
   ]
  },
  {
   "cell_type": "code",
   "execution_count": 145,
   "metadata": {},
   "outputs": [
    {
     "data": {
      "image/png": "[encoded data removed]",
      "text/plain": [
       "<Figure size 432x288 with 1 Axes>"
      ]
     },
     "metadata": {},
     "output_type": "display_data"
    }
   ],
   "source": [
    "plt.scatter(test_set_pred, y_test, alpha=0.1, color=(0.5529411764705883, 0.8980392156862745, 0.6313725490196078))\n",
    "plt.xlim([0, 15])\n",
    "plt.ylim([0, 15])\n",
    "plt.plot(np.linspace(0, 15, 1000), np.linspace(0, 15, 1000), color='gray')\n",
    "plt.title('Predicted v. Actual Values')\n",
    "plt.xlabel('Predicted Values')\n",
    "plt.ylabel('Actual Values')\n",
    "plt.savefig('predicted_values_full.svg', transparent=True, bbox_inches='tight');"
   ]
  },
  {
   "cell_type": "code",
   "execution_count": 146,
   "metadata": {},
   "outputs": [
    {
     "data": {
      "image/png": "[encoded data removed]",
      "text/plain": [
       "<Figure size 432x288 with 1 Axes>"
      ]
     },
     "metadata": {},
     "output_type": "display_data"
    }
   ],
   "source": [
    "sns.residplot(test_set_pred, y_test, color=(0.6313725490196078, 0.788235294117647, 0.9568627450980393))\n",
    "plt.xlim([0, 15])\n",
    "plt.ylim([-8, 8])\n",
    "plt.title('Residual Plot')\n",
    "plt.xlabel('Actual Values')\n",
    "plt.ylabel('Residuals')\n",
    "plt.savefig('residual_plot_full.svg', transparent=True, bbox_inches='tight');"
   ]
  }
 ],
 "metadata": {
  "kernelspec": {
   "display_name": "Python [conda env:metis] *",
   "language": "python",
   "name": "conda-env-metis-py"
  },
  "language_info": {
   "codemirror_mode": {
    "name": "ipython",
    "version": 3
   },
   "file_extension": ".py",
   "mimetype": "text/x-python",
   "name": "python",
   "nbconvert_exporter": "python",
   "pygments_lexer": "ipython3",
   "version": "3.7.4"
  },
  "pycharm": {
   "stem_cell": {
    "cell_type": "raw",
    "metadata": {
     "collapsed": false
    },
    "source": []
   }
  },
  "toc-autonumbering": false,
  "toc-showmarkdowntxt": false,
  "toc-showtags": false
 },
 "nbformat": 4,
 "nbformat_minor": 4
}
