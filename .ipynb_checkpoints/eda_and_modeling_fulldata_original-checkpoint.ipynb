{
 "cells": [
  {
   "cell_type": "code",
   "execution_count": 1,
   "metadata": {
    "pycharm": {
     "is_executing": false
    }
   },
   "outputs": [],
   "source": [
    "import pandas as pd\n",
    "import numpy as np\n",
    "import pickle\n",
    "import seaborn as sns\n",
    "import matplotlib.pyplot as plt\n",
    "%matplotlib inline\n",
    "\n",
    "import statsmodels.api as sm\n",
    "import statsmodels.formula.api as smf\n",
    "from statsmodels.stats.outliers_influence import variance_inflation_factor\n",
    "import scipy.stats as stats\n",
    "import patsy\n",
    "\n",
    "from sklearn.linear_model import LinearRegression, Lasso, LassoCV, Ridge, RidgeCV\n",
    "from sklearn.metrics import r2_score\n",
    "from sklearn.model_selection import train_test_split, KFold\n",
    "from sklearn.preprocessing import StandardScaler, PolynomialFeatures\n",
    "from sklearn.pipeline import Pipeline"
   ]
  },
  {
   "cell_type": "code",
   "execution_count": 2,
   "metadata": {
    "pycharm": {
     "is_executing": false
    }
   },
   "outputs": [
    {
     "name": "stdout",
     "output_type": "stream",
     "text": [
      "(1.0, 0.7058823529411765, 0.5098039215686274)\n"
     ]
    },
    {
     "data": {
      "image/png": "[encoded data removed]",
      "text/plain": [
       "<Figure size 720x72 with 1 Axes>"
      ]
     },
     "metadata": {},
     "output_type": "display_data"
    }
   ],
   "source": [
    "# Set styles for plots \n",
    "sns.set('notebook')\n",
    "sns.set_style('ticks')\n",
    "sns.set_palette('pastel')\n",
    "\n",
    "# Extract RGB codes from color_palette to style plots\n",
    "color_list = sns.color_palette('pastel')\n",
    "print(color_list[1])\n",
    "\n",
    "sns.palplot(sns.color_palette('pastel'))"
   ]
  },
  {
   "cell_type": "code",
   "execution_count": 3,
   "metadata": {
    "pycharm": {
     "is_executing": false
    }
   },
   "outputs": [],
   "source": [
    "with open('kickstarter_datafull.pickle', 'rb') as f:\n",
    "    df = pickle.load(f)"
   ]
  },
  {
   "cell_type": "code",
   "execution_count": 4,
   "metadata": {
    "pycharm": {
     "is_executing": false
    }
   },
   "outputs": [
    {
     "name": "stdout",
     "output_type": "stream",
     "text": [
      "(194318, 21)\n"
     ]
    },
    {
     "data": {
      "text/html": [
       "<div>\n",
       "<style scoped>\n",
       "    .dataframe tbody tr th:only-of-type {\n",
       "        vertical-align: middle;\n",
       "    }\n",
       "\n",
       "    .dataframe tbody tr th {\n",
       "        vertical-align: top;\n",
       "    }\n",
       "\n",
       "    .dataframe thead th {\n",
       "        text-align: right;\n",
       "    }\n",
       "</style>\n",
       "<table border=\"1\" class=\"dataframe\">\n",
       "  <thead>\n",
       "    <tr style=\"text-align: right;\">\n",
       "      <th></th>\n",
       "      <th>backers_count</th>\n",
       "      <th>country</th>\n",
       "      <th>created_at</th>\n",
       "      <th>deadline</th>\n",
       "      <th>goal</th>\n",
       "      <th>launched_at</th>\n",
       "      <th>name</th>\n",
       "      <th>spotlight</th>\n",
       "      <th>staff_pick</th>\n",
       "      <th>state</th>\n",
       "      <th>...</th>\n",
       "      <th>usd_pledged</th>\n",
       "      <th>category</th>\n",
       "      <th>subcategory</th>\n",
       "      <th>project_url</th>\n",
       "      <th>project_life</th>\n",
       "      <th>campaign_length</th>\n",
       "      <th>launch_month</th>\n",
       "      <th>deadline_month</th>\n",
       "      <th>daily_amount_pledged</th>\n",
       "      <th>daily_backers</th>\n",
       "    </tr>\n",
       "  </thead>\n",
       "  <tbody>\n",
       "    <tr>\n",
       "      <th>0</th>\n",
       "      <td>1</td>\n",
       "      <td>US</td>\n",
       "      <td>2016-09-11 22:05:51</td>\n",
       "      <td>2016-12-05 19:42:23</td>\n",
       "      <td>5000.0</td>\n",
       "      <td>2016-11-05 18:42:23</td>\n",
       "      <td>Industrial Bamboo Table</td>\n",
       "      <td>False</td>\n",
       "      <td>False</td>\n",
       "      <td>failed</td>\n",
       "      <td>...</td>\n",
       "      <td>240.000000</td>\n",
       "      <td>crafts</td>\n",
       "      <td>woodworking</td>\n",
       "      <td>https://www.kickstarter.com/projects/983022919...</td>\n",
       "      <td>84</td>\n",
       "      <td>30</td>\n",
       "      <td>2016-11</td>\n",
       "      <td>2016-12</td>\n",
       "      <td>8.0</td>\n",
       "      <td>0.0333</td>\n",
       "    </tr>\n",
       "    <tr>\n",
       "      <th>1</th>\n",
       "      <td>3</td>\n",
       "      <td>CA</td>\n",
       "      <td>2015-07-10 14:59:32</td>\n",
       "      <td>2015-08-24 12:00:34</td>\n",
       "      <td>1000.0</td>\n",
       "      <td>2015-07-21 12:00:34</td>\n",
       "      <td>Custom Pet Portraits on Canvas- \"From Pixels t...</td>\n",
       "      <td>False</td>\n",
       "      <td>False</td>\n",
       "      <td>failed</td>\n",
       "      <td>...</td>\n",
       "      <td>247.950175</td>\n",
       "      <td>art</td>\n",
       "      <td>painting</td>\n",
       "      <td>https://www.kickstarter.com/projects/101531536...</td>\n",
       "      <td>44</td>\n",
       "      <td>34</td>\n",
       "      <td>2015-07</td>\n",
       "      <td>2015-08</td>\n",
       "      <td>7.0</td>\n",
       "      <td>0.0882</td>\n",
       "    </tr>\n",
       "    <tr>\n",
       "      <th>2</th>\n",
       "      <td>243</td>\n",
       "      <td>US</td>\n",
       "      <td>2015-03-24 17:41:14</td>\n",
       "      <td>2015-05-15 16:22:34</td>\n",
       "      <td>35000.0</td>\n",
       "      <td>2015-04-15 16:22:34</td>\n",
       "      <td>The Barmobile: Boston's Mobile Cocktail Cateri...</td>\n",
       "      <td>True</td>\n",
       "      <td>True</td>\n",
       "      <td>successful</td>\n",
       "      <td>...</td>\n",
       "      <td>41738.000000</td>\n",
       "      <td>food</td>\n",
       "      <td>food trucks</td>\n",
       "      <td>https://www.kickstarter.com/projects/372111659...</td>\n",
       "      <td>51</td>\n",
       "      <td>30</td>\n",
       "      <td>2015-04</td>\n",
       "      <td>2015-05</td>\n",
       "      <td>1391.0</td>\n",
       "      <td>8.1000</td>\n",
       "    </tr>\n",
       "    <tr>\n",
       "      <th>3</th>\n",
       "      <td>27</td>\n",
       "      <td>US</td>\n",
       "      <td>2017-05-18 12:30:32</td>\n",
       "      <td>2017-07-16 15:03:03</td>\n",
       "      <td>3000.0</td>\n",
       "      <td>2017-06-01 15:03:03</td>\n",
       "      <td>Grandfather Thunder &amp; The Night Horses</td>\n",
       "      <td>True</td>\n",
       "      <td>False</td>\n",
       "      <td>successful</td>\n",
       "      <td>...</td>\n",
       "      <td>3115.000000</td>\n",
       "      <td>publishing</td>\n",
       "      <td>children's books</td>\n",
       "      <td>https://www.kickstarter.com/projects/133655246...</td>\n",
       "      <td>59</td>\n",
       "      <td>45</td>\n",
       "      <td>2017-06</td>\n",
       "      <td>2017-07</td>\n",
       "      <td>69.0</td>\n",
       "      <td>0.6000</td>\n",
       "    </tr>\n",
       "    <tr>\n",
       "      <th>4</th>\n",
       "      <td>3</td>\n",
       "      <td>US</td>\n",
       "      <td>2017-06-11 02:02:05</td>\n",
       "      <td>2017-09-09 19:17:10</td>\n",
       "      <td>250000.0</td>\n",
       "      <td>2017-08-10 19:17:10</td>\n",
       "      <td>Parker's Cup Coffee &amp; Tea</td>\n",
       "      <td>False</td>\n",
       "      <td>False</td>\n",
       "      <td>failed</td>\n",
       "      <td>...</td>\n",
       "      <td>61.000000</td>\n",
       "      <td>food</td>\n",
       "      <td>drinks</td>\n",
       "      <td>https://www.kickstarter.com/projects/107038669...</td>\n",
       "      <td>90</td>\n",
       "      <td>30</td>\n",
       "      <td>2017-08</td>\n",
       "      <td>2017-09</td>\n",
       "      <td>2.0</td>\n",
       "      <td>0.1000</td>\n",
       "    </tr>\n",
       "  </tbody>\n",
       "</table>\n",
       "<p>5 rows × 21 columns</p>\n",
       "</div>"
      ],
      "text/plain": [
       "   backers_count country          created_at            deadline      goal  \\\n",
       "0              1      US 2016-09-11 22:05:51 2016-12-05 19:42:23    5000.0   \n",
       "1              3      CA 2015-07-10 14:59:32 2015-08-24 12:00:34    1000.0   \n",
       "2            243      US 2015-03-24 17:41:14 2015-05-15 16:22:34   35000.0   \n",
       "3             27      US 2017-05-18 12:30:32 2017-07-16 15:03:03    3000.0   \n",
       "4              3      US 2017-06-11 02:02:05 2017-09-09 19:17:10  250000.0   \n",
       "\n",
       "          launched_at                                               name  \\\n",
       "0 2016-11-05 18:42:23                            Industrial Bamboo Table   \n",
       "1 2015-07-21 12:00:34  Custom Pet Portraits on Canvas- \"From Pixels t...   \n",
       "2 2015-04-15 16:22:34  The Barmobile: Boston's Mobile Cocktail Cateri...   \n",
       "3 2017-06-01 15:03:03             Grandfather Thunder & The Night Horses   \n",
       "4 2017-08-10 19:17:10                          Parker's Cup Coffee & Tea   \n",
       "\n",
       "   spotlight  staff_pick       state  ...   usd_pledged    category  \\\n",
       "0      False       False      failed  ...    240.000000      crafts   \n",
       "1      False       False      failed  ...    247.950175         art   \n",
       "2       True        True  successful  ...  41738.000000        food   \n",
       "3       True       False  successful  ...   3115.000000  publishing   \n",
       "4      False       False      failed  ...     61.000000        food   \n",
       "\n",
       "        subcategory                                        project_url  \\\n",
       "0       woodworking  https://www.kickstarter.com/projects/983022919...   \n",
       "1          painting  https://www.kickstarter.com/projects/101531536...   \n",
       "2       food trucks  https://www.kickstarter.com/projects/372111659...   \n",
       "3  children's books  https://www.kickstarter.com/projects/133655246...   \n",
       "4            drinks  https://www.kickstarter.com/projects/107038669...   \n",
       "\n",
       "  project_life  campaign_length  launch_month deadline_month  \\\n",
       "0           84               30       2016-11        2016-12   \n",
       "1           44               34       2015-07        2015-08   \n",
       "2           51               30       2015-04        2015-05   \n",
       "3           59               45       2017-06        2017-07   \n",
       "4           90               30       2017-08        2017-09   \n",
       "\n",
       "  daily_amount_pledged  daily_backers  \n",
       "0                  8.0         0.0333  \n",
       "1                  7.0         0.0882  \n",
       "2               1391.0         8.1000  \n",
       "3                 69.0         0.6000  \n",
       "4                  2.0         0.1000  \n",
       "\n",
       "[5 rows x 21 columns]"
      ]
     },
     "execution_count": 4,
     "metadata": {},
     "output_type": "execute_result"
    }
   ],
   "source": [
    "print(df.shape)\n",
    "df.head()"
   ]
  },
  {
   "cell_type": "code",
   "execution_count": 5,
   "metadata": {},
   "outputs": [],
   "source": [
    "# Additional filter --> only US projects\n",
    "df = df.loc[df['country'] == 'US']"
   ]
  },
  {
   "cell_type": "markdown",
   "metadata": {},
   "source": [
    "<font color=\"red\">RANDOM IDEA FOR OTHER TARGET</font> --> Predict how much over/under the goal a project will be. Can use daily backers and daily pledge amounts as \"velocity\" terms, the goal itself would come into play here, as well as the time marketed and campaign length..."
   ]
  },
  {
   "cell_type": "markdown",
   "metadata": {
    "toc-hr-collapsed": false
   },
   "source": [
    "# Data preprocesing and dummy variables"
   ]
  },
  {
   "cell_type": "code",
   "execution_count": 6,
   "metadata": {},
   "outputs": [],
   "source": [
    "# Goal differential\n",
    "df['goal_diff'] = df['usd_pledged'] - df['goal']"
   ]
  },
  {
   "cell_type": "code",
   "execution_count": 7,
   "metadata": {},
   "outputs": [],
   "source": [
    "# Goal differential (as a percentage)\n",
    "df['goal_diff_perc'] = (df['usd_pledged'] - df['goal']) / df['goal']"
   ]
  },
  {
   "cell_type": "code",
   "execution_count": 8,
   "metadata": {},
   "outputs": [
    {
     "data": {
      "text/html": [
       "<div>\n",
       "<style scoped>\n",
       "    .dataframe tbody tr th:only-of-type {\n",
       "        vertical-align: middle;\n",
       "    }\n",
       "\n",
       "    .dataframe tbody tr th {\n",
       "        vertical-align: top;\n",
       "    }\n",
       "\n",
       "    .dataframe thead th {\n",
       "        text-align: right;\n",
       "    }\n",
       "</style>\n",
       "<table border=\"1\" class=\"dataframe\">\n",
       "  <thead>\n",
       "    <tr style=\"text-align: right;\">\n",
       "      <th></th>\n",
       "      <th>goal</th>\n",
       "      <th>usd_pledged</th>\n",
       "      <th>goal_diff</th>\n",
       "      <th>goal_diff_perc</th>\n",
       "    </tr>\n",
       "  </thead>\n",
       "  <tbody>\n",
       "    <tr>\n",
       "      <th>73975</th>\n",
       "      <td>3500.0</td>\n",
       "      <td>4221.50</td>\n",
       "      <td>721.50</td>\n",
       "      <td>0.206143</td>\n",
       "    </tr>\n",
       "    <tr>\n",
       "      <th>58127</th>\n",
       "      <td>100000.0</td>\n",
       "      <td>156967.00</td>\n",
       "      <td>56967.00</td>\n",
       "      <td>0.569670</td>\n",
       "    </tr>\n",
       "    <tr>\n",
       "      <th>16609</th>\n",
       "      <td>5000.0</td>\n",
       "      <td>5131.00</td>\n",
       "      <td>131.00</td>\n",
       "      <td>0.026200</td>\n",
       "    </tr>\n",
       "    <tr>\n",
       "      <th>10068</th>\n",
       "      <td>15000.0</td>\n",
       "      <td>245.00</td>\n",
       "      <td>-14755.00</td>\n",
       "      <td>-0.983667</td>\n",
       "    </tr>\n",
       "    <tr>\n",
       "      <th>134586</th>\n",
       "      <td>5000.0</td>\n",
       "      <td>25396.00</td>\n",
       "      <td>20396.00</td>\n",
       "      <td>4.079200</td>\n",
       "    </tr>\n",
       "    <tr>\n",
       "      <th>177109</th>\n",
       "      <td>800.0</td>\n",
       "      <td>2848.00</td>\n",
       "      <td>2048.00</td>\n",
       "      <td>2.560000</td>\n",
       "    </tr>\n",
       "    <tr>\n",
       "      <th>121204</th>\n",
       "      <td>10000.0</td>\n",
       "      <td>17051.00</td>\n",
       "      <td>7051.00</td>\n",
       "      <td>0.705100</td>\n",
       "    </tr>\n",
       "    <tr>\n",
       "      <th>103619</th>\n",
       "      <td>6000.0</td>\n",
       "      <td>6091.00</td>\n",
       "      <td>91.00</td>\n",
       "      <td>0.015167</td>\n",
       "    </tr>\n",
       "    <tr>\n",
       "      <th>27475</th>\n",
       "      <td>2000.0</td>\n",
       "      <td>2162.00</td>\n",
       "      <td>162.00</td>\n",
       "      <td>0.081000</td>\n",
       "    </tr>\n",
       "    <tr>\n",
       "      <th>179846</th>\n",
       "      <td>6500.0</td>\n",
       "      <td>6599.00</td>\n",
       "      <td>99.00</td>\n",
       "      <td>0.015231</td>\n",
       "    </tr>\n",
       "    <tr>\n",
       "      <th>13613</th>\n",
       "      <td>20000.0</td>\n",
       "      <td>24154.00</td>\n",
       "      <td>4154.00</td>\n",
       "      <td>0.207700</td>\n",
       "    </tr>\n",
       "    <tr>\n",
       "      <th>180720</th>\n",
       "      <td>1079.0</td>\n",
       "      <td>2076.00</td>\n",
       "      <td>997.00</td>\n",
       "      <td>0.924004</td>\n",
       "    </tr>\n",
       "    <tr>\n",
       "      <th>178958</th>\n",
       "      <td>4000.0</td>\n",
       "      <td>4308.00</td>\n",
       "      <td>308.00</td>\n",
       "      <td>0.077000</td>\n",
       "    </tr>\n",
       "    <tr>\n",
       "      <th>166260</th>\n",
       "      <td>10000.0</td>\n",
       "      <td>15.00</td>\n",
       "      <td>-9985.00</td>\n",
       "      <td>-0.998500</td>\n",
       "    </tr>\n",
       "    <tr>\n",
       "      <th>10025</th>\n",
       "      <td>3000.0</td>\n",
       "      <td>153.00</td>\n",
       "      <td>-2847.00</td>\n",
       "      <td>-0.949000</td>\n",
       "    </tr>\n",
       "    <tr>\n",
       "      <th>24703</th>\n",
       "      <td>75000.0</td>\n",
       "      <td>92181.32</td>\n",
       "      <td>17181.32</td>\n",
       "      <td>0.229084</td>\n",
       "    </tr>\n",
       "    <tr>\n",
       "      <th>59492</th>\n",
       "      <td>7531.0</td>\n",
       "      <td>8104.40</td>\n",
       "      <td>573.40</td>\n",
       "      <td>0.076139</td>\n",
       "    </tr>\n",
       "    <tr>\n",
       "      <th>21139</th>\n",
       "      <td>30000.0</td>\n",
       "      <td>426.00</td>\n",
       "      <td>-29574.00</td>\n",
       "      <td>-0.985800</td>\n",
       "    </tr>\n",
       "    <tr>\n",
       "      <th>129428</th>\n",
       "      <td>7000.0</td>\n",
       "      <td>3066.00</td>\n",
       "      <td>-3934.00</td>\n",
       "      <td>-0.562000</td>\n",
       "    </tr>\n",
       "    <tr>\n",
       "      <th>154121</th>\n",
       "      <td>100.0</td>\n",
       "      <td>1.00</td>\n",
       "      <td>-99.00</td>\n",
       "      <td>-0.990000</td>\n",
       "    </tr>\n",
       "  </tbody>\n",
       "</table>\n",
       "</div>"
      ],
      "text/plain": [
       "            goal  usd_pledged  goal_diff  goal_diff_perc\n",
       "73975     3500.0      4221.50     721.50        0.206143\n",
       "58127   100000.0    156967.00   56967.00        0.569670\n",
       "16609     5000.0      5131.00     131.00        0.026200\n",
       "10068    15000.0       245.00  -14755.00       -0.983667\n",
       "134586    5000.0     25396.00   20396.00        4.079200\n",
       "177109     800.0      2848.00    2048.00        2.560000\n",
       "121204   10000.0     17051.00    7051.00        0.705100\n",
       "103619    6000.0      6091.00      91.00        0.015167\n",
       "27475     2000.0      2162.00     162.00        0.081000\n",
       "179846    6500.0      6599.00      99.00        0.015231\n",
       "13613    20000.0     24154.00    4154.00        0.207700\n",
       "180720    1079.0      2076.00     997.00        0.924004\n",
       "178958    4000.0      4308.00     308.00        0.077000\n",
       "166260   10000.0        15.00   -9985.00       -0.998500\n",
       "10025     3000.0       153.00   -2847.00       -0.949000\n",
       "24703    75000.0     92181.32   17181.32        0.229084\n",
       "59492     7531.0      8104.40     573.40        0.076139\n",
       "21139    30000.0       426.00  -29574.00       -0.985800\n",
       "129428    7000.0      3066.00   -3934.00       -0.562000\n",
       "154121     100.0         1.00     -99.00       -0.990000"
      ]
     },
     "execution_count": 8,
     "metadata": {},
     "output_type": "execute_result"
    }
   ],
   "source": [
    "# Spot check for calculation accuracy\n",
    "df.loc[:, ['goal', 'usd_pledged', 'goal_diff', 'goal_diff_perc']].sample(20)"
   ]
  },
  {
   "cell_type": "markdown",
   "metadata": {},
   "source": [
    "Stick to pledge amount rather than % difference...maybe in the other model when I factor in social I can find something more interesting. For now, keep it simple. There's too much variability in the differential with different funding goals to really predict that...? Unless there's an external factor involved."
   ]
  },
  {
   "cell_type": "markdown",
   "metadata": {},
   "source": [
    "Foregoing `project_life` since it is redundant with `campaign_length`. Going to calculate the time from creation to launch instead, so that they are separated."
   ]
  },
  {
   "cell_type": "code",
   "execution_count": 9,
   "metadata": {},
   "outputs": [],
   "source": [
    "# Time between project creation and launch\n",
    "df['creation_to_launch'] = (df['launched_at'] - df['created_at']).dt.days"
   ]
  },
  {
   "cell_type": "code",
   "execution_count": 10,
   "metadata": {},
   "outputs": [],
   "source": [
    "# Seasonal component\n",
    "# Create bins for months to fall under each season\n",
    "winter = [12, 1, 2]\n",
    "spring = [3, 4, 5]\n",
    "summer = [6, 7, 8]\n",
    "fall = [9, 10, 11]"
   ]
  },
  {
   "cell_type": "code",
   "execution_count": 11,
   "metadata": {},
   "outputs": [],
   "source": [
    "# Create a function to evaluate the month from the launch date\n",
    "def season(row):\n",
    "    if row['launched_at'].month in winter:\n",
    "        season = 'winter'\n",
    "    elif row['launched_at'].month in spring:\n",
    "        season = 'spring'\n",
    "    elif row['launched_at'].month in summer:\n",
    "        season = 'summer'\n",
    "    else:\n",
    "        season = 'fall'\n",
    "    return season"
   ]
  },
  {
   "cell_type": "code",
   "execution_count": 12,
   "metadata": {},
   "outputs": [
    {
     "data": {
      "text/html": [
       "<div>\n",
       "<style scoped>\n",
       "    .dataframe tbody tr th:only-of-type {\n",
       "        vertical-align: middle;\n",
       "    }\n",
       "\n",
       "    .dataframe tbody tr th {\n",
       "        vertical-align: top;\n",
       "    }\n",
       "\n",
       "    .dataframe thead th {\n",
       "        text-align: right;\n",
       "    }\n",
       "</style>\n",
       "<table border=\"1\" class=\"dataframe\">\n",
       "  <thead>\n",
       "    <tr style=\"text-align: right;\">\n",
       "      <th></th>\n",
       "      <th>backers_count</th>\n",
       "      <th>country</th>\n",
       "      <th>created_at</th>\n",
       "      <th>deadline</th>\n",
       "      <th>goal</th>\n",
       "      <th>launched_at</th>\n",
       "      <th>name</th>\n",
       "      <th>spotlight</th>\n",
       "      <th>staff_pick</th>\n",
       "      <th>state</th>\n",
       "      <th>...</th>\n",
       "      <th>project_life</th>\n",
       "      <th>campaign_length</th>\n",
       "      <th>launch_month</th>\n",
       "      <th>deadline_month</th>\n",
       "      <th>daily_amount_pledged</th>\n",
       "      <th>daily_backers</th>\n",
       "      <th>goal_diff</th>\n",
       "      <th>goal_diff_perc</th>\n",
       "      <th>creation_to_launch</th>\n",
       "      <th>season_launched</th>\n",
       "    </tr>\n",
       "  </thead>\n",
       "  <tbody>\n",
       "    <tr>\n",
       "      <th>0</th>\n",
       "      <td>1</td>\n",
       "      <td>US</td>\n",
       "      <td>2016-09-11 22:05:51</td>\n",
       "      <td>2016-12-05 19:42:23</td>\n",
       "      <td>5000.0</td>\n",
       "      <td>2016-11-05 18:42:23</td>\n",
       "      <td>Industrial Bamboo Table</td>\n",
       "      <td>False</td>\n",
       "      <td>False</td>\n",
       "      <td>failed</td>\n",
       "      <td>...</td>\n",
       "      <td>84</td>\n",
       "      <td>30</td>\n",
       "      <td>2016-11</td>\n",
       "      <td>2016-12</td>\n",
       "      <td>8.0</td>\n",
       "      <td>0.0333</td>\n",
       "      <td>-4760.0</td>\n",
       "      <td>-0.952000</td>\n",
       "      <td>54</td>\n",
       "      <td>fall</td>\n",
       "    </tr>\n",
       "    <tr>\n",
       "      <th>2</th>\n",
       "      <td>243</td>\n",
       "      <td>US</td>\n",
       "      <td>2015-03-24 17:41:14</td>\n",
       "      <td>2015-05-15 16:22:34</td>\n",
       "      <td>35000.0</td>\n",
       "      <td>2015-04-15 16:22:34</td>\n",
       "      <td>The Barmobile: Boston's Mobile Cocktail Cateri...</td>\n",
       "      <td>True</td>\n",
       "      <td>True</td>\n",
       "      <td>successful</td>\n",
       "      <td>...</td>\n",
       "      <td>51</td>\n",
       "      <td>30</td>\n",
       "      <td>2015-04</td>\n",
       "      <td>2015-05</td>\n",
       "      <td>1391.0</td>\n",
       "      <td>8.1000</td>\n",
       "      <td>6738.0</td>\n",
       "      <td>0.192514</td>\n",
       "      <td>21</td>\n",
       "      <td>spring</td>\n",
       "    </tr>\n",
       "    <tr>\n",
       "      <th>3</th>\n",
       "      <td>27</td>\n",
       "      <td>US</td>\n",
       "      <td>2017-05-18 12:30:32</td>\n",
       "      <td>2017-07-16 15:03:03</td>\n",
       "      <td>3000.0</td>\n",
       "      <td>2017-06-01 15:03:03</td>\n",
       "      <td>Grandfather Thunder &amp; The Night Horses</td>\n",
       "      <td>True</td>\n",
       "      <td>False</td>\n",
       "      <td>successful</td>\n",
       "      <td>...</td>\n",
       "      <td>59</td>\n",
       "      <td>45</td>\n",
       "      <td>2017-06</td>\n",
       "      <td>2017-07</td>\n",
       "      <td>69.0</td>\n",
       "      <td>0.6000</td>\n",
       "      <td>115.0</td>\n",
       "      <td>0.038333</td>\n",
       "      <td>14</td>\n",
       "      <td>summer</td>\n",
       "    </tr>\n",
       "    <tr>\n",
       "      <th>4</th>\n",
       "      <td>3</td>\n",
       "      <td>US</td>\n",
       "      <td>2017-06-11 02:02:05</td>\n",
       "      <td>2017-09-09 19:17:10</td>\n",
       "      <td>250000.0</td>\n",
       "      <td>2017-08-10 19:17:10</td>\n",
       "      <td>Parker's Cup Coffee &amp; Tea</td>\n",
       "      <td>False</td>\n",
       "      <td>False</td>\n",
       "      <td>failed</td>\n",
       "      <td>...</td>\n",
       "      <td>90</td>\n",
       "      <td>30</td>\n",
       "      <td>2017-08</td>\n",
       "      <td>2017-09</td>\n",
       "      <td>2.0</td>\n",
       "      <td>0.1000</td>\n",
       "      <td>-249939.0</td>\n",
       "      <td>-0.999756</td>\n",
       "      <td>60</td>\n",
       "      <td>summer</td>\n",
       "    </tr>\n",
       "    <tr>\n",
       "      <th>5</th>\n",
       "      <td>1</td>\n",
       "      <td>US</td>\n",
       "      <td>2015-08-18 02:36:53</td>\n",
       "      <td>2015-10-18 21:17:17</td>\n",
       "      <td>125.0</td>\n",
       "      <td>2015-08-19 21:17:17</td>\n",
       "      <td>Disorderly Conduct's First Album</td>\n",
       "      <td>False</td>\n",
       "      <td>False</td>\n",
       "      <td>failed</td>\n",
       "      <td>...</td>\n",
       "      <td>61</td>\n",
       "      <td>60</td>\n",
       "      <td>2015-08</td>\n",
       "      <td>2015-10</td>\n",
       "      <td>0.0</td>\n",
       "      <td>0.0167</td>\n",
       "      <td>-120.0</td>\n",
       "      <td>-0.960000</td>\n",
       "      <td>1</td>\n",
       "      <td>summer</td>\n",
       "    </tr>\n",
       "  </tbody>\n",
       "</table>\n",
       "<p>5 rows × 25 columns</p>\n",
       "</div>"
      ],
      "text/plain": [
       "   backers_count country          created_at            deadline      goal  \\\n",
       "0              1      US 2016-09-11 22:05:51 2016-12-05 19:42:23    5000.0   \n",
       "2            243      US 2015-03-24 17:41:14 2015-05-15 16:22:34   35000.0   \n",
       "3             27      US 2017-05-18 12:30:32 2017-07-16 15:03:03    3000.0   \n",
       "4              3      US 2017-06-11 02:02:05 2017-09-09 19:17:10  250000.0   \n",
       "5              1      US 2015-08-18 02:36:53 2015-10-18 21:17:17     125.0   \n",
       "\n",
       "          launched_at                                               name  \\\n",
       "0 2016-11-05 18:42:23                            Industrial Bamboo Table   \n",
       "2 2015-04-15 16:22:34  The Barmobile: Boston's Mobile Cocktail Cateri...   \n",
       "3 2017-06-01 15:03:03             Grandfather Thunder & The Night Horses   \n",
       "4 2017-08-10 19:17:10                          Parker's Cup Coffee & Tea   \n",
       "5 2015-08-19 21:17:17                   Disorderly Conduct's First Album   \n",
       "\n",
       "   spotlight  staff_pick       state  ... project_life  campaign_length  \\\n",
       "0      False       False      failed  ...           84               30   \n",
       "2       True        True  successful  ...           51               30   \n",
       "3       True       False  successful  ...           59               45   \n",
       "4      False       False      failed  ...           90               30   \n",
       "5      False       False      failed  ...           61               60   \n",
       "\n",
       "  launch_month deadline_month daily_amount_pledged  daily_backers  goal_diff  \\\n",
       "0      2016-11        2016-12                  8.0         0.0333    -4760.0   \n",
       "2      2015-04        2015-05               1391.0         8.1000     6738.0   \n",
       "3      2017-06        2017-07                 69.0         0.6000      115.0   \n",
       "4      2017-08        2017-09                  2.0         0.1000  -249939.0   \n",
       "5      2015-08        2015-10                  0.0         0.0167     -120.0   \n",
       "\n",
       "  goal_diff_perc creation_to_launch  season_launched  \n",
       "0      -0.952000                 54             fall  \n",
       "2       0.192514                 21           spring  \n",
       "3       0.038333                 14           summer  \n",
       "4      -0.999756                 60           summer  \n",
       "5      -0.960000                  1           summer  \n",
       "\n",
       "[5 rows x 25 columns]"
      ]
     },
     "execution_count": 12,
     "metadata": {},
     "output_type": "execute_result"
    }
   ],
   "source": [
    "# Create new column classifying what season the project was launched\n",
    "df['season_launched'] = df.apply(season, axis=1)\n",
    "df.head()"
   ]
  },
  {
   "cell_type": "markdown",
   "metadata": {},
   "source": [
    "#### Exploratory Data Analysis"
   ]
  },
  {
   "cell_type": "code",
   "execution_count": 13,
   "metadata": {
    "pycharm": {
     "is_executing": false
    }
   },
   "outputs": [
    {
     "name": "stdout",
     "output_type": "stream",
     "text": [
      "<class 'pandas.core.frame.DataFrame'>\n",
      "Int64Index: 137800 entries, 0 to 194315\n",
      "Data columns (total 25 columns):\n",
      "backers_count           137800 non-null int64\n",
      "country                 137800 non-null object\n",
      "created_at              137800 non-null datetime64[ns]\n",
      "deadline                137800 non-null datetime64[ns]\n",
      "goal                    137800 non-null float64\n",
      "launched_at             137800 non-null datetime64[ns]\n",
      "name                    137800 non-null object\n",
      "spotlight               137800 non-null bool\n",
      "staff_pick              137800 non-null bool\n",
      "state                   137800 non-null object\n",
      "state_changed_at        137800 non-null datetime64[ns]\n",
      "usd_pledged             137800 non-null float64\n",
      "category                137800 non-null object\n",
      "subcategory             137800 non-null object\n",
      "project_url             137800 non-null object\n",
      "project_life            137800 non-null int64\n",
      "campaign_length         137800 non-null int64\n",
      "launch_month            137800 non-null period[M]\n",
      "deadline_month          137800 non-null period[M]\n",
      "daily_amount_pledged    137800 non-null float64\n",
      "daily_backers           137800 non-null float64\n",
      "goal_diff               137800 non-null float64\n",
      "goal_diff_perc          137800 non-null float64\n",
      "creation_to_launch      137800 non-null int64\n",
      "season_launched         137800 non-null object\n",
      "dtypes: bool(2), datetime64[ns](4), float64(6), int64(4), object(7), period[M](2)\n",
      "memory usage: 25.5+ MB\n"
     ]
    }
   ],
   "source": [
    "df.info()"
   ]
  },
  {
   "cell_type": "code",
   "execution_count": 14,
   "metadata": {},
   "outputs": [
    {
     "data": {
      "text/html": [
       "<div>\n",
       "<style scoped>\n",
       "    .dataframe tbody tr th:only-of-type {\n",
       "        vertical-align: middle;\n",
       "    }\n",
       "\n",
       "    .dataframe tbody tr th {\n",
       "        vertical-align: top;\n",
       "    }\n",
       "\n",
       "    .dataframe thead th {\n",
       "        text-align: right;\n",
       "    }\n",
       "</style>\n",
       "<table border=\"1\" class=\"dataframe\">\n",
       "  <thead>\n",
       "    <tr style=\"text-align: right;\">\n",
       "      <th></th>\n",
       "      <th>backers_count</th>\n",
       "      <th>goal</th>\n",
       "      <th>usd_pledged</th>\n",
       "      <th>project_life</th>\n",
       "      <th>campaign_length</th>\n",
       "      <th>daily_amount_pledged</th>\n",
       "      <th>daily_backers</th>\n",
       "      <th>goal_diff</th>\n",
       "      <th>goal_diff_perc</th>\n",
       "      <th>creation_to_launch</th>\n",
       "    </tr>\n",
       "  </thead>\n",
       "  <tbody>\n",
       "    <tr>\n",
       "      <th>count</th>\n",
       "      <td>137800.000000</td>\n",
       "      <td>1.378000e+05</td>\n",
       "      <td>1.378000e+05</td>\n",
       "      <td>137800.000000</td>\n",
       "      <td>137800.000000</td>\n",
       "      <td>137800.000000</td>\n",
       "      <td>137800.000000</td>\n",
       "      <td>1.378000e+05</td>\n",
       "      <td>137800.000000</td>\n",
       "      <td>137800.000000</td>\n",
       "    </tr>\n",
       "    <tr>\n",
       "      <th>mean</th>\n",
       "      <td>166.906858</td>\n",
       "      <td>3.715569e+04</td>\n",
       "      <td>1.488516e+04</td>\n",
       "      <td>83.621422</td>\n",
       "      <td>32.421168</td>\n",
       "      <td>486.992779</td>\n",
       "      <td>5.760245</td>\n",
       "      <td>-2.227052e+04</td>\n",
       "      <td>4.676394</td>\n",
       "      <td>50.971212</td>\n",
       "    </tr>\n",
       "    <tr>\n",
       "      <th>std</th>\n",
       "      <td>1053.476215</td>\n",
       "      <td>9.735099e+05</td>\n",
       "      <td>1.112854e+05</td>\n",
       "      <td>145.493592</td>\n",
       "      <td>11.848415</td>\n",
       "      <td>3656.237130</td>\n",
       "      <td>38.407022</td>\n",
       "      <td>9.786928e+05</td>\n",
       "      <td>288.889725</td>\n",
       "      <td>144.715928</td>\n",
       "    </tr>\n",
       "    <tr>\n",
       "      <th>min</th>\n",
       "      <td>0.000000</td>\n",
       "      <td>1.000000e-02</td>\n",
       "      <td>0.000000e+00</td>\n",
       "      <td>1.000000</td>\n",
       "      <td>1.000000</td>\n",
       "      <td>0.000000</td>\n",
       "      <td>0.000000</td>\n",
       "      <td>-1.000000e+08</td>\n",
       "      <td>-1.000000</td>\n",
       "      <td>0.000000</td>\n",
       "    </tr>\n",
       "    <tr>\n",
       "      <th>25%</th>\n",
       "      <td>4.000000</td>\n",
       "      <td>1.500000e+03</td>\n",
       "      <td>1.370000e+02</td>\n",
       "      <td>33.000000</td>\n",
       "      <td>29.000000</td>\n",
       "      <td>4.000000</td>\n",
       "      <td>0.133300</td>\n",
       "      <td>-4.539000e+03</td>\n",
       "      <td>-0.968262</td>\n",
       "      <td>3.000000</td>\n",
       "    </tr>\n",
       "    <tr>\n",
       "      <th>50%</th>\n",
       "      <td>30.000000</td>\n",
       "      <td>5.000000e+03</td>\n",
       "      <td>1.825000e+03</td>\n",
       "      <td>47.000000</td>\n",
       "      <td>30.000000</td>\n",
       "      <td>64.000000</td>\n",
       "      <td>1.033300</td>\n",
       "      <td>7.000000e+01</td>\n",
       "      <td>0.024100</td>\n",
       "      <td>11.000000</td>\n",
       "    </tr>\n",
       "    <tr>\n",
       "      <th>75%</th>\n",
       "      <td>96.000000</td>\n",
       "      <td>1.375550e+04</td>\n",
       "      <td>7.226500e+03</td>\n",
       "      <td>74.000000</td>\n",
       "      <td>34.000000</td>\n",
       "      <td>247.000000</td>\n",
       "      <td>3.344800</td>\n",
       "      <td>8.730000e+02</td>\n",
       "      <td>0.260000</td>\n",
       "      <td>38.000000</td>\n",
       "    </tr>\n",
       "    <tr>\n",
       "      <th>max</th>\n",
       "      <td>105857.000000</td>\n",
       "      <td>1.000000e+08</td>\n",
       "      <td>1.214344e+07</td>\n",
       "      <td>3333.000000</td>\n",
       "      <td>97.000000</td>\n",
       "      <td>332646.000000</td>\n",
       "      <td>3052.833300</td>\n",
       "      <td>1.164344e+07</td>\n",
       "      <td>68763.100000</td>\n",
       "      <td>3303.000000</td>\n",
       "    </tr>\n",
       "  </tbody>\n",
       "</table>\n",
       "</div>"
      ],
      "text/plain": [
       "       backers_count          goal   usd_pledged   project_life  \\\n",
       "count  137800.000000  1.378000e+05  1.378000e+05  137800.000000   \n",
       "mean      166.906858  3.715569e+04  1.488516e+04      83.621422   \n",
       "std      1053.476215  9.735099e+05  1.112854e+05     145.493592   \n",
       "min         0.000000  1.000000e-02  0.000000e+00       1.000000   \n",
       "25%         4.000000  1.500000e+03  1.370000e+02      33.000000   \n",
       "50%        30.000000  5.000000e+03  1.825000e+03      47.000000   \n",
       "75%        96.000000  1.375550e+04  7.226500e+03      74.000000   \n",
       "max    105857.000000  1.000000e+08  1.214344e+07    3333.000000   \n",
       "\n",
       "       campaign_length  daily_amount_pledged  daily_backers     goal_diff  \\\n",
       "count    137800.000000         137800.000000  137800.000000  1.378000e+05   \n",
       "mean         32.421168            486.992779       5.760245 -2.227052e+04   \n",
       "std          11.848415           3656.237130      38.407022  9.786928e+05   \n",
       "min           1.000000              0.000000       0.000000 -1.000000e+08   \n",
       "25%          29.000000              4.000000       0.133300 -4.539000e+03   \n",
       "50%          30.000000             64.000000       1.033300  7.000000e+01   \n",
       "75%          34.000000            247.000000       3.344800  8.730000e+02   \n",
       "max          97.000000         332646.000000    3052.833300  1.164344e+07   \n",
       "\n",
       "       goal_diff_perc  creation_to_launch  \n",
       "count   137800.000000       137800.000000  \n",
       "mean         4.676394           50.971212  \n",
       "std        288.889725          144.715928  \n",
       "min         -1.000000            0.000000  \n",
       "25%         -0.968262            3.000000  \n",
       "50%          0.024100           11.000000  \n",
       "75%          0.260000           38.000000  \n",
       "max      68763.100000         3303.000000  "
      ]
     },
     "execution_count": 14,
     "metadata": {},
     "output_type": "execute_result"
    }
   ],
   "source": [
    "df.describe()"
   ]
  },
  {
   "cell_type": "markdown",
   "metadata": {},
   "source": [
    "Filter dataframe to remove unused columns for regression"
   ]
  },
  {
   "cell_type": "code",
   "execution_count": 15,
   "metadata": {},
   "outputs": [],
   "source": [
    "# Select columns used for regression\n",
    "columns = ['usd_pledged', 'backers_count', 'goal', 'spotlight', 'staff_pick', 'category', 'campaign_length',\n",
    "          'creation_to_launch', 'season_launched']"
   ]
  },
  {
   "cell_type": "code",
   "execution_count": 16,
   "metadata": {},
   "outputs": [
    {
     "data": {
      "text/html": [
       "<div>\n",
       "<style scoped>\n",
       "    .dataframe tbody tr th:only-of-type {\n",
       "        vertical-align: middle;\n",
       "    }\n",
       "\n",
       "    .dataframe tbody tr th {\n",
       "        vertical-align: top;\n",
       "    }\n",
       "\n",
       "    .dataframe thead th {\n",
       "        text-align: right;\n",
       "    }\n",
       "</style>\n",
       "<table border=\"1\" class=\"dataframe\">\n",
       "  <thead>\n",
       "    <tr style=\"text-align: right;\">\n",
       "      <th></th>\n",
       "      <th>usd_pledged</th>\n",
       "      <th>backers_count</th>\n",
       "      <th>goal</th>\n",
       "      <th>spotlight</th>\n",
       "      <th>staff_pick</th>\n",
       "      <th>category</th>\n",
       "      <th>campaign_length</th>\n",
       "      <th>creation_to_launch</th>\n",
       "      <th>season_launched</th>\n",
       "    </tr>\n",
       "  </thead>\n",
       "  <tbody>\n",
       "    <tr>\n",
       "      <th>0</th>\n",
       "      <td>240.0</td>\n",
       "      <td>1</td>\n",
       "      <td>5000.0</td>\n",
       "      <td>False</td>\n",
       "      <td>False</td>\n",
       "      <td>crafts</td>\n",
       "      <td>30</td>\n",
       "      <td>54</td>\n",
       "      <td>fall</td>\n",
       "    </tr>\n",
       "    <tr>\n",
       "      <th>2</th>\n",
       "      <td>41738.0</td>\n",
       "      <td>243</td>\n",
       "      <td>35000.0</td>\n",
       "      <td>True</td>\n",
       "      <td>True</td>\n",
       "      <td>food</td>\n",
       "      <td>30</td>\n",
       "      <td>21</td>\n",
       "      <td>spring</td>\n",
       "    </tr>\n",
       "    <tr>\n",
       "      <th>3</th>\n",
       "      <td>3115.0</td>\n",
       "      <td>27</td>\n",
       "      <td>3000.0</td>\n",
       "      <td>True</td>\n",
       "      <td>False</td>\n",
       "      <td>publishing</td>\n",
       "      <td>45</td>\n",
       "      <td>14</td>\n",
       "      <td>summer</td>\n",
       "    </tr>\n",
       "    <tr>\n",
       "      <th>4</th>\n",
       "      <td>61.0</td>\n",
       "      <td>3</td>\n",
       "      <td>250000.0</td>\n",
       "      <td>False</td>\n",
       "      <td>False</td>\n",
       "      <td>food</td>\n",
       "      <td>30</td>\n",
       "      <td>60</td>\n",
       "      <td>summer</td>\n",
       "    </tr>\n",
       "    <tr>\n",
       "      <th>5</th>\n",
       "      <td>5.0</td>\n",
       "      <td>1</td>\n",
       "      <td>125.0</td>\n",
       "      <td>False</td>\n",
       "      <td>False</td>\n",
       "      <td>music</td>\n",
       "      <td>60</td>\n",
       "      <td>1</td>\n",
       "      <td>summer</td>\n",
       "    </tr>\n",
       "    <tr>\n",
       "      <th>...</th>\n",
       "      <td>...</td>\n",
       "      <td>...</td>\n",
       "      <td>...</td>\n",
       "      <td>...</td>\n",
       "      <td>...</td>\n",
       "      <td>...</td>\n",
       "      <td>...</td>\n",
       "      <td>...</td>\n",
       "      <td>...</td>\n",
       "    </tr>\n",
       "    <tr>\n",
       "      <th>194308</th>\n",
       "      <td>1.0</td>\n",
       "      <td>1</td>\n",
       "      <td>30000.0</td>\n",
       "      <td>False</td>\n",
       "      <td>False</td>\n",
       "      <td>film &amp; video</td>\n",
       "      <td>60</td>\n",
       "      <td>0</td>\n",
       "      <td>fall</td>\n",
       "    </tr>\n",
       "    <tr>\n",
       "      <th>194311</th>\n",
       "      <td>304.0</td>\n",
       "      <td>11</td>\n",
       "      <td>300.0</td>\n",
       "      <td>True</td>\n",
       "      <td>False</td>\n",
       "      <td>art</td>\n",
       "      <td>30</td>\n",
       "      <td>54</td>\n",
       "      <td>fall</td>\n",
       "    </tr>\n",
       "    <tr>\n",
       "      <th>194312</th>\n",
       "      <td>564.0</td>\n",
       "      <td>23</td>\n",
       "      <td>200.0</td>\n",
       "      <td>True</td>\n",
       "      <td>False</td>\n",
       "      <td>art</td>\n",
       "      <td>9</td>\n",
       "      <td>5</td>\n",
       "      <td>fall</td>\n",
       "    </tr>\n",
       "    <tr>\n",
       "      <th>194313</th>\n",
       "      <td>657.0</td>\n",
       "      <td>33</td>\n",
       "      <td>200.0</td>\n",
       "      <td>True</td>\n",
       "      <td>False</td>\n",
       "      <td>art</td>\n",
       "      <td>30</td>\n",
       "      <td>0</td>\n",
       "      <td>fall</td>\n",
       "    </tr>\n",
       "    <tr>\n",
       "      <th>194315</th>\n",
       "      <td>23401.0</td>\n",
       "      <td>95</td>\n",
       "      <td>50000.0</td>\n",
       "      <td>False</td>\n",
       "      <td>False</td>\n",
       "      <td>technology</td>\n",
       "      <td>30</td>\n",
       "      <td>22</td>\n",
       "      <td>fall</td>\n",
       "    </tr>\n",
       "  </tbody>\n",
       "</table>\n",
       "<p>137800 rows × 9 columns</p>\n",
       "</div>"
      ],
      "text/plain": [
       "        usd_pledged  backers_count      goal  spotlight  staff_pick  \\\n",
       "0             240.0              1    5000.0      False       False   \n",
       "2           41738.0            243   35000.0       True        True   \n",
       "3            3115.0             27    3000.0       True       False   \n",
       "4              61.0              3  250000.0      False       False   \n",
       "5               5.0              1     125.0      False       False   \n",
       "...             ...            ...       ...        ...         ...   \n",
       "194308          1.0              1   30000.0      False       False   \n",
       "194311        304.0             11     300.0       True       False   \n",
       "194312        564.0             23     200.0       True       False   \n",
       "194313        657.0             33     200.0       True       False   \n",
       "194315      23401.0             95   50000.0      False       False   \n",
       "\n",
       "            category  campaign_length  creation_to_launch season_launched  \n",
       "0             crafts               30                  54            fall  \n",
       "2               food               30                  21          spring  \n",
       "3         publishing               45                  14          summer  \n",
       "4               food               30                  60          summer  \n",
       "5              music               60                   1          summer  \n",
       "...              ...              ...                 ...             ...  \n",
       "194308  film & video               60                   0            fall  \n",
       "194311           art               30                  54            fall  \n",
       "194312           art                9                   5            fall  \n",
       "194313           art               30                   0            fall  \n",
       "194315    technology               30                  22            fall  \n",
       "\n",
       "[137800 rows x 9 columns]"
      ]
     },
     "execution_count": 16,
     "metadata": {},
     "output_type": "execute_result"
    }
   ],
   "source": [
    "kickstarter_df = df.loc[:, columns]\n",
    "kickstarter_df"
   ]
  },
  {
   "cell_type": "code",
   "execution_count": 17,
   "metadata": {
    "collapsed": false,
    "jupyter": {
     "outputs_hidden": false
    },
    "pycharm": {
     "is_executing": false,
     "name": "#%%\n"
    }
   },
   "outputs": [
    {
     "data": {
      "image/png": "[encoded data removed]",
      "text/plain": [
       "<Figure size 720x720 with 2 Axes>"
      ]
     },
     "metadata": {},
     "output_type": "display_data"
    }
   ],
   "source": [
    "# Create heatmap displaying visualization of feature correlation\n",
    "plt.figure(figsize=[10,10])\n",
    "sns.heatmap(kickstarter_df.corr(), cmap=\"seismic\", annot=True, vmin=-1, vmax=1);"
   ]
  },
  {
   "cell_type": "markdown",
   "metadata": {
    "pycharm": {
     "name": "#%% md\n"
    }
   },
   "source": [
    "- There seems to be high correlation between the amount pledged, the number of backers, and the average backers/funding per day.\n",
    "- It's interesting that the campaign length and funding goal don't have more of an effect on the pledge amount."
   ]
  },
  {
   "cell_type": "code",
   "execution_count": 18,
   "metadata": {
    "collapsed": false,
    "jupyter": {
     "outputs_hidden": false
    },
    "pycharm": {
     "is_executing": false,
     "name": "#%%\n"
    }
   },
   "outputs": [
    {
     "data": {
      "text/html": [
       "<div>\n",
       "<style scoped>\n",
       "    .dataframe tbody tr th:only-of-type {\n",
       "        vertical-align: middle;\n",
       "    }\n",
       "\n",
       "    .dataframe tbody tr th {\n",
       "        vertical-align: top;\n",
       "    }\n",
       "\n",
       "    .dataframe thead th {\n",
       "        text-align: right;\n",
       "    }\n",
       "</style>\n",
       "<table border=\"1\" class=\"dataframe\">\n",
       "  <thead>\n",
       "    <tr style=\"text-align: right;\">\n",
       "      <th></th>\n",
       "      <th>usd_pledged</th>\n",
       "      <th>backers_count</th>\n",
       "      <th>goal</th>\n",
       "      <th>spotlight</th>\n",
       "      <th>staff_pick</th>\n",
       "      <th>category</th>\n",
       "      <th>campaign_length</th>\n",
       "      <th>creation_to_launch</th>\n",
       "      <th>season_launched</th>\n",
       "    </tr>\n",
       "  </thead>\n",
       "  <tbody>\n",
       "    <tr>\n",
       "      <th>0</th>\n",
       "      <td>240.0</td>\n",
       "      <td>1</td>\n",
       "      <td>5000.0</td>\n",
       "      <td>0</td>\n",
       "      <td>0</td>\n",
       "      <td>crafts</td>\n",
       "      <td>30</td>\n",
       "      <td>54</td>\n",
       "      <td>fall</td>\n",
       "    </tr>\n",
       "    <tr>\n",
       "      <th>2</th>\n",
       "      <td>41738.0</td>\n",
       "      <td>243</td>\n",
       "      <td>35000.0</td>\n",
       "      <td>1</td>\n",
       "      <td>1</td>\n",
       "      <td>food</td>\n",
       "      <td>30</td>\n",
       "      <td>21</td>\n",
       "      <td>spring</td>\n",
       "    </tr>\n",
       "    <tr>\n",
       "      <th>3</th>\n",
       "      <td>3115.0</td>\n",
       "      <td>27</td>\n",
       "      <td>3000.0</td>\n",
       "      <td>1</td>\n",
       "      <td>0</td>\n",
       "      <td>publishing</td>\n",
       "      <td>45</td>\n",
       "      <td>14</td>\n",
       "      <td>summer</td>\n",
       "    </tr>\n",
       "    <tr>\n",
       "      <th>4</th>\n",
       "      <td>61.0</td>\n",
       "      <td>3</td>\n",
       "      <td>250000.0</td>\n",
       "      <td>0</td>\n",
       "      <td>0</td>\n",
       "      <td>food</td>\n",
       "      <td>30</td>\n",
       "      <td>60</td>\n",
       "      <td>summer</td>\n",
       "    </tr>\n",
       "    <tr>\n",
       "      <th>5</th>\n",
       "      <td>5.0</td>\n",
       "      <td>1</td>\n",
       "      <td>125.0</td>\n",
       "      <td>0</td>\n",
       "      <td>0</td>\n",
       "      <td>music</td>\n",
       "      <td>60</td>\n",
       "      <td>1</td>\n",
       "      <td>summer</td>\n",
       "    </tr>\n",
       "  </tbody>\n",
       "</table>\n",
       "</div>"
      ],
      "text/plain": [
       "   usd_pledged  backers_count      goal  spotlight  staff_pick    category  \\\n",
       "0        240.0              1    5000.0          0           0      crafts   \n",
       "2      41738.0            243   35000.0          1           1        food   \n",
       "3       3115.0             27    3000.0          1           0  publishing   \n",
       "4         61.0              3  250000.0          0           0        food   \n",
       "5          5.0              1     125.0          0           0       music   \n",
       "\n",
       "   campaign_length  creation_to_launch season_launched  \n",
       "0               30                  54            fall  \n",
       "2               30                  21          spring  \n",
       "3               45                  14          summer  \n",
       "4               30                  60          summer  \n",
       "5               60                   1          summer  "
      ]
     },
     "execution_count": 18,
     "metadata": {},
     "output_type": "execute_result"
    }
   ],
   "source": [
    "# Convert boolean columns to zeroes and ones\n",
    "kickstarter_df['spotlight'] = kickstarter_df['spotlight'].astype(int)\n",
    "kickstarter_df['staff_pick'] = kickstarter_df['staff_pick'].astype(int)\n",
    "kickstarter_df.head()"
   ]
  },
  {
   "cell_type": "code",
   "execution_count": 19,
   "metadata": {},
   "outputs": [
    {
     "data": {
      "text/html": [
       "<div>\n",
       "<style scoped>\n",
       "    .dataframe tbody tr th:only-of-type {\n",
       "        vertical-align: middle;\n",
       "    }\n",
       "\n",
       "    .dataframe tbody tr th {\n",
       "        vertical-align: top;\n",
       "    }\n",
       "\n",
       "    .dataframe thead th {\n",
       "        text-align: right;\n",
       "    }\n",
       "</style>\n",
       "<table border=\"1\" class=\"dataframe\">\n",
       "  <thead>\n",
       "    <tr style=\"text-align: right;\">\n",
       "      <th></th>\n",
       "      <th>usd_pledged</th>\n",
       "      <th>backers_count</th>\n",
       "      <th>goal</th>\n",
       "      <th>spotlight</th>\n",
       "      <th>staff_pick</th>\n",
       "      <th>campaign_length</th>\n",
       "      <th>creation_to_launch</th>\n",
       "      <th>category_art</th>\n",
       "      <th>category_comics</th>\n",
       "      <th>category_crafts</th>\n",
       "      <th>...</th>\n",
       "      <th>category_journalism</th>\n",
       "      <th>category_music</th>\n",
       "      <th>category_photography</th>\n",
       "      <th>category_publishing</th>\n",
       "      <th>category_technology</th>\n",
       "      <th>category_theater</th>\n",
       "      <th>season_launched_fall</th>\n",
       "      <th>season_launched_spring</th>\n",
       "      <th>season_launched_summer</th>\n",
       "      <th>season_launched_winter</th>\n",
       "    </tr>\n",
       "  </thead>\n",
       "  <tbody>\n",
       "    <tr>\n",
       "      <th>0</th>\n",
       "      <td>240.0</td>\n",
       "      <td>1</td>\n",
       "      <td>5000.0</td>\n",
       "      <td>0</td>\n",
       "      <td>0</td>\n",
       "      <td>30</td>\n",
       "      <td>54</td>\n",
       "      <td>0</td>\n",
       "      <td>0</td>\n",
       "      <td>1</td>\n",
       "      <td>...</td>\n",
       "      <td>0</td>\n",
       "      <td>0</td>\n",
       "      <td>0</td>\n",
       "      <td>0</td>\n",
       "      <td>0</td>\n",
       "      <td>0</td>\n",
       "      <td>1</td>\n",
       "      <td>0</td>\n",
       "      <td>0</td>\n",
       "      <td>0</td>\n",
       "    </tr>\n",
       "    <tr>\n",
       "      <th>2</th>\n",
       "      <td>41738.0</td>\n",
       "      <td>243</td>\n",
       "      <td>35000.0</td>\n",
       "      <td>1</td>\n",
       "      <td>1</td>\n",
       "      <td>30</td>\n",
       "      <td>21</td>\n",
       "      <td>0</td>\n",
       "      <td>0</td>\n",
       "      <td>0</td>\n",
       "      <td>...</td>\n",
       "      <td>0</td>\n",
       "      <td>0</td>\n",
       "      <td>0</td>\n",
       "      <td>0</td>\n",
       "      <td>0</td>\n",
       "      <td>0</td>\n",
       "      <td>0</td>\n",
       "      <td>1</td>\n",
       "      <td>0</td>\n",
       "      <td>0</td>\n",
       "    </tr>\n",
       "    <tr>\n",
       "      <th>3</th>\n",
       "      <td>3115.0</td>\n",
       "      <td>27</td>\n",
       "      <td>3000.0</td>\n",
       "      <td>1</td>\n",
       "      <td>0</td>\n",
       "      <td>45</td>\n",
       "      <td>14</td>\n",
       "      <td>0</td>\n",
       "      <td>0</td>\n",
       "      <td>0</td>\n",
       "      <td>...</td>\n",
       "      <td>0</td>\n",
       "      <td>0</td>\n",
       "      <td>0</td>\n",
       "      <td>1</td>\n",
       "      <td>0</td>\n",
       "      <td>0</td>\n",
       "      <td>0</td>\n",
       "      <td>0</td>\n",
       "      <td>1</td>\n",
       "      <td>0</td>\n",
       "    </tr>\n",
       "    <tr>\n",
       "      <th>4</th>\n",
       "      <td>61.0</td>\n",
       "      <td>3</td>\n",
       "      <td>250000.0</td>\n",
       "      <td>0</td>\n",
       "      <td>0</td>\n",
       "      <td>30</td>\n",
       "      <td>60</td>\n",
       "      <td>0</td>\n",
       "      <td>0</td>\n",
       "      <td>0</td>\n",
       "      <td>...</td>\n",
       "      <td>0</td>\n",
       "      <td>0</td>\n",
       "      <td>0</td>\n",
       "      <td>0</td>\n",
       "      <td>0</td>\n",
       "      <td>0</td>\n",
       "      <td>0</td>\n",
       "      <td>0</td>\n",
       "      <td>1</td>\n",
       "      <td>0</td>\n",
       "    </tr>\n",
       "    <tr>\n",
       "      <th>5</th>\n",
       "      <td>5.0</td>\n",
       "      <td>1</td>\n",
       "      <td>125.0</td>\n",
       "      <td>0</td>\n",
       "      <td>0</td>\n",
       "      <td>60</td>\n",
       "      <td>1</td>\n",
       "      <td>0</td>\n",
       "      <td>0</td>\n",
       "      <td>0</td>\n",
       "      <td>...</td>\n",
       "      <td>0</td>\n",
       "      <td>1</td>\n",
       "      <td>0</td>\n",
       "      <td>0</td>\n",
       "      <td>0</td>\n",
       "      <td>0</td>\n",
       "      <td>0</td>\n",
       "      <td>0</td>\n",
       "      <td>1</td>\n",
       "      <td>0</td>\n",
       "    </tr>\n",
       "  </tbody>\n",
       "</table>\n",
       "<p>5 rows × 26 columns</p>\n",
       "</div>"
      ],
      "text/plain": [
       "   usd_pledged  backers_count      goal  spotlight  staff_pick  \\\n",
       "0        240.0              1    5000.0          0           0   \n",
       "2      41738.0            243   35000.0          1           1   \n",
       "3       3115.0             27    3000.0          1           0   \n",
       "4         61.0              3  250000.0          0           0   \n",
       "5          5.0              1     125.0          0           0   \n",
       "\n",
       "   campaign_length  creation_to_launch  category_art  category_comics  \\\n",
       "0               30                  54             0                0   \n",
       "2               30                  21             0                0   \n",
       "3               45                  14             0                0   \n",
       "4               30                  60             0                0   \n",
       "5               60                   1             0                0   \n",
       "\n",
       "   category_crafts  ...  category_journalism  category_music  \\\n",
       "0                1  ...                    0               0   \n",
       "2                0  ...                    0               0   \n",
       "3                0  ...                    0               0   \n",
       "4                0  ...                    0               0   \n",
       "5                0  ...                    0               1   \n",
       "\n",
       "   category_photography  category_publishing  category_technology  \\\n",
       "0                     0                    0                    0   \n",
       "2                     0                    0                    0   \n",
       "3                     0                    1                    0   \n",
       "4                     0                    0                    0   \n",
       "5                     0                    0                    0   \n",
       "\n",
       "   category_theater  season_launched_fall  season_launched_spring  \\\n",
       "0                 0                     1                       0   \n",
       "2                 0                     0                       1   \n",
       "3                 0                     0                       0   \n",
       "4                 0                     0                       0   \n",
       "5                 0                     0                       0   \n",
       "\n",
       "   season_launched_summer  season_launched_winter  \n",
       "0                       0                       0  \n",
       "2                       0                       0  \n",
       "3                       1                       0  \n",
       "4                       1                       0  \n",
       "5                       1                       0  \n",
       "\n",
       "[5 rows x 26 columns]"
      ]
     },
     "execution_count": 19,
     "metadata": {},
     "output_type": "execute_result"
    }
   ],
   "source": [
    "# Get dummy variables for categories\n",
    "kickstarter_df = pd.get_dummies(kickstarter_df)\n",
    "kickstarter_df.head()"
   ]
  },
  {
   "cell_type": "code",
   "execution_count": 20,
   "metadata": {},
   "outputs": [
    {
     "data": {
      "image/png": "[encoded data removed]",
      "text/plain": [
       "<Figure size 900x900 with 30 Axes>"
      ]
     },
     "metadata": {},
     "output_type": "display_data"
    }
   ],
   "source": [
    "sns.pairplot(kickstarter_df.loc[:, ['usd_pledged', 'backers_count', 'goal', 'campaign_length', 'creation_to_launch']]);"
   ]
  },
  {
   "cell_type": "markdown",
   "metadata": {
    "pycharm": {
     "name": "#%% md\n"
    }
   },
   "source": [
    "# Split training and test sets"
   ]
  },
  {
   "cell_type": "code",
   "execution_count": 21,
   "metadata": {
    "collapsed": false,
    "jupyter": {
     "outputs_hidden": false
    },
    "pycharm": {
     "is_executing": false,
     "name": "#%%\n"
    }
   },
   "outputs": [],
   "source": [
    "# Segment the training and test sets\n",
    "X, y = kickstarter_df.drop(['usd_pledged', 'season_launched_fall', 'category_art'], axis=1), kickstarter_df['usd_pledged']\n",
    "X, X_test, y, y_test = train_test_split(X, y, test_size=0.2, random_state=42)"
   ]
  },
  {
   "cell_type": "markdown",
   "metadata": {
    "toc-hr-collapsed": false
   },
   "source": [
    "# Simple Validation"
   ]
  },
  {
   "cell_type": "code",
   "execution_count": 22,
   "metadata": {},
   "outputs": [],
   "source": [
    "# Split the training and validations sets\n",
    "X_train, X_val, y_train, y_val = train_test_split(X, y, test_size=0.2, random_state=42)"
   ]
  },
  {
   "cell_type": "markdown",
   "metadata": {},
   "source": [
    "#### Ordinary least squares (OLS)"
   ]
  },
  {
   "cell_type": "code",
   "execution_count": 23,
   "metadata": {},
   "outputs": [
    {
     "name": "stderr",
     "output_type": "stream",
     "text": [
      "/Users/baka_brooks/anaconda3/envs/metis/lib/python3.7/site-packages/numpy/core/fromnumeric.py:2495: FutureWarning: Method .ptp is deprecated and will be removed in a future version. Use numpy.ptp instead.\n",
      "  return ptp(axis=axis, out=out, **kwargs)\n"
     ]
    },
    {
     "data": {
      "text/html": [
       "<table class=\"simpletable\">\n",
       "<caption>OLS Regression Results</caption>\n",
       "<tr>\n",
       "  <th>Dep. Variable:</th>       <td>usd_pledged</td>   <th>  R-squared:         </th>  <td>   0.650</td>  \n",
       "</tr>\n",
       "<tr>\n",
       "  <th>Model:</th>                   <td>OLS</td>       <th>  Adj. R-squared:    </th>  <td>   0.650</td>  \n",
       "</tr>\n",
       "<tr>\n",
       "  <th>Method:</th>             <td>Least Squares</td>  <th>  F-statistic:       </th>  <td>   7115.</td>  \n",
       "</tr>\n",
       "<tr>\n",
       "  <th>Date:</th>             <td>Thu, 23 Jan 2020</td> <th>  Prob (F-statistic):</th>   <td>  0.00</td>   \n",
       "</tr>\n",
       "<tr>\n",
       "  <th>Time:</th>                 <td>19:27:56</td>     <th>  Log-Likelihood:    </th> <td>-1.1008e+06</td>\n",
       "</tr>\n",
       "<tr>\n",
       "  <th>No. Observations:</th>      <td> 88192</td>      <th>  AIC:               </th>  <td>2.202e+06</td> \n",
       "</tr>\n",
       "<tr>\n",
       "  <th>Df Residuals:</th>          <td> 88168</td>      <th>  BIC:               </th>  <td>2.202e+06</td> \n",
       "</tr>\n",
       "<tr>\n",
       "  <th>Df Model:</th>              <td>    23</td>      <th>                     </th>      <td> </td>     \n",
       "</tr>\n",
       "<tr>\n",
       "  <th>Covariance Type:</th>      <td>nonrobust</td>    <th>                     </th>      <td> </td>     \n",
       "</tr>\n",
       "</table>\n",
       "<table class=\"simpletable\">\n",
       "<tr>\n",
       "             <td></td>               <th>coef</th>     <th>std err</th>      <th>t</th>      <th>P>|t|</th>  <th>[0.025</th>    <th>0.975]</th>  \n",
       "</tr>\n",
       "<tr>\n",
       "  <th>const</th>                  <td>-6787.2170</td> <td> 1007.569</td> <td>   -6.736</td> <td> 0.000</td> <td>-8762.044</td> <td>-4812.390</td>\n",
       "</tr>\n",
       "<tr>\n",
       "  <th>backers_count</th>          <td>   79.4234</td> <td>    0.204</td> <td>  388.674</td> <td> 0.000</td> <td>   79.023</td> <td>   79.824</td>\n",
       "</tr>\n",
       "<tr>\n",
       "  <th>goal</th>                   <td>    0.0001</td> <td>    0.000</td> <td>    0.610</td> <td> 0.542</td> <td>   -0.000</td> <td>    0.001</td>\n",
       "</tr>\n",
       "<tr>\n",
       "  <th>spotlight</th>              <td> 4418.5955</td> <td>  479.028</td> <td>    9.224</td> <td> 0.000</td> <td> 3479.704</td> <td> 5357.487</td>\n",
       "</tr>\n",
       "<tr>\n",
       "  <th>staff_pick</th>             <td> 6227.1317</td> <td>  665.447</td> <td>    9.358</td> <td> 0.000</td> <td> 4922.862</td> <td> 7531.402</td>\n",
       "</tr>\n",
       "<tr>\n",
       "  <th>campaign_length</th>        <td>  118.8206</td> <td>   18.461</td> <td>    6.436</td> <td> 0.000</td> <td>   82.637</td> <td>  155.005</td>\n",
       "</tr>\n",
       "<tr>\n",
       "  <th>creation_to_launch</th>     <td>   -0.1574</td> <td>    1.492</td> <td>   -0.105</td> <td> 0.916</td> <td>   -3.082</td> <td>    2.767</td>\n",
       "</tr>\n",
       "<tr>\n",
       "  <th>category_comics</th>        <td>-7367.8889</td> <td> 1220.774</td> <td>   -6.035</td> <td> 0.000</td> <td>-9760.596</td> <td>-4975.182</td>\n",
       "</tr>\n",
       "<tr>\n",
       "  <th>category_crafts</th>        <td>  519.9045</td> <td> 1385.592</td> <td>    0.375</td> <td> 0.707</td> <td>-2195.843</td> <td> 3235.652</td>\n",
       "</tr>\n",
       "<tr>\n",
       "  <th>category_dance</th>         <td>-1085.4589</td> <td> 1686.472</td> <td>   -0.644</td> <td> 0.520</td> <td>-4390.929</td> <td> 2220.011</td>\n",
       "</tr>\n",
       "<tr>\n",
       "  <th>category_design</th>        <td> 1.171e+04</td> <td> 1314.558</td> <td>    8.910</td> <td> 0.000</td> <td> 9136.554</td> <td> 1.43e+04</td>\n",
       "</tr>\n",
       "<tr>\n",
       "  <th>category_fashion</th>       <td> 3538.0270</td> <td> 1162.298</td> <td>    3.044</td> <td> 0.002</td> <td> 1259.934</td> <td> 5816.120</td>\n",
       "</tr>\n",
       "<tr>\n",
       "  <th>category_film & video</th>  <td> 2441.3099</td> <td>  868.545</td> <td>    2.811</td> <td> 0.005</td> <td>  738.970</td> <td> 4143.650</td>\n",
       "</tr>\n",
       "<tr>\n",
       "  <th>category_food</th>          <td> 3196.5568</td> <td> 1000.433</td> <td>    3.195</td> <td> 0.001</td> <td> 1235.717</td> <td> 5157.396</td>\n",
       "</tr>\n",
       "<tr>\n",
       "  <th>category_games</th>         <td>-9853.7185</td> <td> 1057.020</td> <td>   -9.322</td> <td> 0.000</td> <td>-1.19e+04</td> <td>-7781.968</td>\n",
       "</tr>\n",
       "<tr>\n",
       "  <th>category_journalism</th>    <td>  706.1299</td> <td> 1635.408</td> <td>    0.432</td> <td> 0.666</td> <td>-2499.256</td> <td> 3911.515</td>\n",
       "</tr>\n",
       "<tr>\n",
       "  <th>category_music</th>         <td> -599.6407</td> <td>  839.814</td> <td>   -0.714</td> <td> 0.475</td> <td>-2245.668</td> <td> 1046.386</td>\n",
       "</tr>\n",
       "<tr>\n",
       "  <th>category_photography</th>   <td> 2830.0223</td> <td> 1435.091</td> <td>    1.972</td> <td> 0.049</td> <td>   17.258</td> <td> 5642.787</td>\n",
       "</tr>\n",
       "<tr>\n",
       "  <th>category_publishing</th>    <td>-3234.1554</td> <td>  924.618</td> <td>   -3.498</td> <td> 0.000</td> <td>-5046.398</td> <td>-1421.912</td>\n",
       "</tr>\n",
       "<tr>\n",
       "  <th>category_technology</th>    <td> 2.068e+04</td> <td>  970.175</td> <td>   21.320</td> <td> 0.000</td> <td> 1.88e+04</td> <td> 2.26e+04</td>\n",
       "</tr>\n",
       "<tr>\n",
       "  <th>category_theater</th>       <td>  844.0412</td> <td> 1551.168</td> <td>    0.544</td> <td> 0.586</td> <td>-2196.234</td> <td> 3884.316</td>\n",
       "</tr>\n",
       "<tr>\n",
       "  <th>season_launched_spring</th> <td> -409.6289</td> <td>  594.960</td> <td>   -0.688</td> <td> 0.491</td> <td>-1575.745</td> <td>  756.487</td>\n",
       "</tr>\n",
       "<tr>\n",
       "  <th>season_launched_summer</th> <td> -686.7023</td> <td>  591.810</td> <td>   -1.160</td> <td> 0.246</td> <td>-1846.644</td> <td>  473.239</td>\n",
       "</tr>\n",
       "<tr>\n",
       "  <th>season_launched_winter</th> <td>-1811.8448</td> <td>  636.136</td> <td>   -2.848</td> <td> 0.004</td> <td>-3058.666</td> <td> -565.024</td>\n",
       "</tr>\n",
       "</table>\n",
       "<table class=\"simpletable\">\n",
       "<tr>\n",
       "  <th>Omnibus:</th>       <td>238949.582</td> <th>  Durbin-Watson:     </th>    <td>   2.005</td>    \n",
       "</tr>\n",
       "<tr>\n",
       "  <th>Prob(Omnibus):</th>   <td> 0.000</td>   <th>  Jarque-Bera (JB):  </th> <td>29489426374.969</td>\n",
       "</tr>\n",
       "<tr>\n",
       "  <th>Skew:</th>            <td>32.909</td>   <th>  Prob(JB):          </th>    <td>    0.00</td>    \n",
       "</tr>\n",
       "<tr>\n",
       "  <th>Kurtosis:</th>       <td>2835.089</td>  <th>  Cond. No.          </th>    <td>1.35e+07</td>    \n",
       "</tr>\n",
       "</table><br/><br/>Warnings:<br/>[1] Standard Errors assume that the covariance matrix of the errors is correctly specified.<br/>[2] The condition number is large, 1.35e+07. This might indicate that there are<br/>strong multicollinearity or other numerical problems."
      ],
      "text/plain": [
       "<class 'statsmodels.iolib.summary.Summary'>\n",
       "\"\"\"\n",
       "                            OLS Regression Results                            \n",
       "==============================================================================\n",
       "Dep. Variable:            usd_pledged   R-squared:                       0.650\n",
       "Model:                            OLS   Adj. R-squared:                  0.650\n",
       "Method:                 Least Squares   F-statistic:                     7115.\n",
       "Date:                Thu, 23 Jan 2020   Prob (F-statistic):               0.00\n",
       "Time:                        19:27:56   Log-Likelihood:            -1.1008e+06\n",
       "No. Observations:               88192   AIC:                         2.202e+06\n",
       "Df Residuals:                   88168   BIC:                         2.202e+06\n",
       "Df Model:                          23                                         \n",
       "Covariance Type:            nonrobust                                         \n",
       "==========================================================================================\n",
       "                             coef    std err          t      P>|t|      [0.025      0.975]\n",
       "------------------------------------------------------------------------------------------\n",
       "const                  -6787.2170   1007.569     -6.736      0.000   -8762.044   -4812.390\n",
       "backers_count             79.4234      0.204    388.674      0.000      79.023      79.824\n",
       "goal                       0.0001      0.000      0.610      0.542      -0.000       0.001\n",
       "spotlight               4418.5955    479.028      9.224      0.000    3479.704    5357.487\n",
       "staff_pick              6227.1317    665.447      9.358      0.000    4922.862    7531.402\n",
       "campaign_length          118.8206     18.461      6.436      0.000      82.637     155.005\n",
       "creation_to_launch        -0.1574      1.492     -0.105      0.916      -3.082       2.767\n",
       "category_comics        -7367.8889   1220.774     -6.035      0.000   -9760.596   -4975.182\n",
       "category_crafts          519.9045   1385.592      0.375      0.707   -2195.843    3235.652\n",
       "category_dance         -1085.4589   1686.472     -0.644      0.520   -4390.929    2220.011\n",
       "category_design         1.171e+04   1314.558      8.910      0.000    9136.554    1.43e+04\n",
       "category_fashion        3538.0270   1162.298      3.044      0.002    1259.934    5816.120\n",
       "category_film & video   2441.3099    868.545      2.811      0.005     738.970    4143.650\n",
       "category_food           3196.5568   1000.433      3.195      0.001    1235.717    5157.396\n",
       "category_games         -9853.7185   1057.020     -9.322      0.000   -1.19e+04   -7781.968\n",
       "category_journalism      706.1299   1635.408      0.432      0.666   -2499.256    3911.515\n",
       "category_music          -599.6407    839.814     -0.714      0.475   -2245.668    1046.386\n",
       "category_photography    2830.0223   1435.091      1.972      0.049      17.258    5642.787\n",
       "category_publishing    -3234.1554    924.618     -3.498      0.000   -5046.398   -1421.912\n",
       "category_technology     2.068e+04    970.175     21.320      0.000    1.88e+04    2.26e+04\n",
       "category_theater         844.0412   1551.168      0.544      0.586   -2196.234    3884.316\n",
       "season_launched_spring  -409.6289    594.960     -0.688      0.491   -1575.745     756.487\n",
       "season_launched_summer  -686.7023    591.810     -1.160      0.246   -1846.644     473.239\n",
       "season_launched_winter -1811.8448    636.136     -2.848      0.004   -3058.666    -565.024\n",
       "==============================================================================\n",
       "Omnibus:                   238949.582   Durbin-Watson:                   2.005\n",
       "Prob(Omnibus):                  0.000   Jarque-Bera (JB):      29489426374.969\n",
       "Skew:                          32.909   Prob(JB):                         0.00\n",
       "Kurtosis:                    2835.089   Cond. No.                     1.35e+07\n",
       "==============================================================================\n",
       "\n",
       "Warnings:\n",
       "[1] Standard Errors assume that the covariance matrix of the errors is correctly specified.\n",
       "[2] The condition number is large, 1.35e+07. This might indicate that there are\n",
       "strong multicollinearity or other numerical problems.\n",
       "\"\"\""
      ]
     },
     "execution_count": 23,
     "metadata": {},
     "output_type": "execute_result"
    }
   ],
   "source": [
    "# Create model and display model statistics\n",
    "model = sm.OLS(y_train, sm.add_constant(X_train))\n",
    "fit = model.fit()\n",
    "fit.summary()"
   ]
  },
  {
   "cell_type": "markdown",
   "metadata": {},
   "source": [
    "#### LR, Lasso, Ridge, and Polynomial regression"
   ]
  },
  {
   "cell_type": "code",
   "execution_count": 24,
   "metadata": {},
   "outputs": [],
   "source": [
    "# Create list of non-categorical columns to scale\n",
    "columns_to_scale = ['backers_count', 'goal', 'campaign_length', 'creation_to_launch']"
   ]
  },
  {
   "cell_type": "code",
   "execution_count": 25,
   "metadata": {},
   "outputs": [],
   "source": [
    "# Set up the models\n",
    "lm = LinearRegression()\n",
    "# Ridge and Lasso model alphas assessed in the MAE calcs in the section below\n",
    "lm_ridge = Ridge(alpha=14314.589375234786)\n",
    "lm_lasso = Lasso(alpha=1162.322468679852)\n",
    "lm_poly = LinearRegression()\n",
    "\n",
    "# Feature scaling for train, val, and test for ridge and lasso models\n",
    "scaler = StandardScaler()\n",
    "\n",
    "X_train_scaled = X_train.copy()\n",
    "X_train_scaled[columns_to_scale] = scaler.fit_transform(X_train_scaled[columns_to_scale])\n",
    "X_train_scaled = np.array(X_train_scaled)\n",
    "\n",
    "X_val_scaled = X_val.copy()\n",
    "X_val_scaled[columns_to_scale] = scaler.fit_transform(X_val_scaled[columns_to_scale])\n",
    "X_val_scaled = np.array(X_val_scaled)\n",
    "\n",
    "X_test_scaled = X_test.copy()\n",
    "X_test_scaled[columns_to_scale] = scaler.fit_transform(X_test_scaled[columns_to_scale])\n",
    "X_test_scaled = np.array(X_test_scaled)\n",
    "\n",
    "# Feature transforms for train, val, and test\n",
    "poly = PolynomialFeatures(degree=2)\n",
    "\n",
    "X_train_poly = poly.fit_transform(X_train.values)\n",
    "X_val_poly = poly.transform(X_val.values)\n",
    "X_test_poly = poly.transform(X_test.values)"
   ]
  },
  {
   "cell_type": "code",
   "execution_count": 26,
   "metadata": {},
   "outputs": [
    {
     "name": "stdout",
     "output_type": "stream",
     "text": [
      "Linear Regression val R^2: 0.67249\n",
      "Ridge Regression val R^2: 0.64024\n",
      "Lasso Regression val R^2: 0.66686\n",
      "Degree 2 Polynomial regression val R^2: 0.46536\n"
     ]
    }
   ],
   "source": [
    "# Validate all models and display the results\n",
    "lm.fit(X_train, y_train)\n",
    "print(f'Linear Regression val R^2: {lm.score(X_val, y_val):.5f}')\n",
    "\n",
    "lm_ridge.fit(X_train_scaled, y_train)\n",
    "print(f'Ridge Regression val R^2: {lm_ridge.score(X_val_scaled, y_val):.5f}')\n",
    "\n",
    "lm_lasso.fit(X_train_scaled, y_train)\n",
    "print(f'Lasso Regression val R^2: {lm_lasso.score(X_val_scaled, y_val):.5f}')\n",
    "\n",
    "lm_poly.fit(X_train_poly, y_train)\n",
    "print(f'Degree 2 Polynomial regression val R^2: {lm_poly.score(X_val_poly, y_val):.5f}')"
   ]
  },
  {
   "cell_type": "markdown",
   "metadata": {},
   "source": [
    "<font color='blue'><h4>Takeaways</h4></font>\n",
    "- After tuning the Ridge and Lasso model alphas, regular linear regression is still the best predictor of the response.\n",
    "- The Lasso coeffs show that some of the categories can be grouped into an \"Other\" category, as they show little effect on the model.\n",
    "- Seasonal shifts are not present in Kickstarter backing. These features can be removed in the next iteration."
   ]
  },
  {
   "cell_type": "markdown",
   "metadata": {},
   "source": [
    "#### Observe Ridge and Lasso coefficients"
   ]
  },
  {
   "cell_type": "code",
   "execution_count": 27,
   "metadata": {},
   "outputs": [
    {
     "data": {
      "text/plain": [
       "[('backers_count', 73924.80558856996),\n",
       " ('goal', 232.6313425303872),\n",
       " ('spotlight', 3521.959498410415),\n",
       " ('staff_pick', 4713.823235736434),\n",
       " ('campaign_length', 1533.6853530045835),\n",
       " ('creation_to_launch', 314.36313582999446),\n",
       " ('category_comics', -1740.532991121568),\n",
       " ('category_crafts', -412.35175478048103),\n",
       " ('category_dance', -374.63147573394707),\n",
       " ('category_design', 2381.3086089426783),\n",
       " ('category_fashion', 329.22183887233507),\n",
       " ('category_film & video', 175.5619604483495),\n",
       " ('category_food', 46.05036626203458),\n",
       " ('category_games', -1704.3664522486968),\n",
       " ('category_journalism', -266.52848123576064),\n",
       " ('category_music', -1595.3219827210805),\n",
       " ('category_photography', -15.282486126057144),\n",
       " ('category_publishing', -2022.432463625599),\n",
       " ('category_technology', 7379.569605321443),\n",
       " ('category_theater', -244.58022410133745),\n",
       " ('season_launched_spring', 120.41569626662303),\n",
       " ('season_launched_summer', -265.25761844518024),\n",
       " ('season_launched_winter', -873.7837736421908)]"
      ]
     },
     "execution_count": 27,
     "metadata": {},
     "output_type": "execute_result"
    }
   ],
   "source": [
    "# Ridge coefficients\n",
    "list(zip(X_train.columns, lm_ridge.coef_))"
   ]
  },
  {
   "cell_type": "code",
   "execution_count": 28,
   "metadata": {},
   "outputs": [
    {
     "data": {
      "text/plain": [
       "[('backers_count', 85246.23011237667),\n",
       " ('goal', 0.0),\n",
       " ('spotlight', 0.0),\n",
       " ('staff_pick', 0.0),\n",
       " ('campaign_length', 337.35798269665213),\n",
       " ('creation_to_launch', 0.0),\n",
       " ('category_comics', -0.0),\n",
       " ('category_crafts', -0.0),\n",
       " ('category_dance', -0.0),\n",
       " ('category_design', 0.0),\n",
       " ('category_fashion', 0.0),\n",
       " ('category_film & video', 0.0),\n",
       " ('category_food', 0.0),\n",
       " ('category_games', -0.0),\n",
       " ('category_journalism', -0.0),\n",
       " ('category_music', -0.0),\n",
       " ('category_photography', 0.0),\n",
       " ('category_publishing', -0.0),\n",
       " ('category_technology', 6075.228892182794),\n",
       " ('category_theater', -0.0),\n",
       " ('season_launched_spring', 0.0),\n",
       " ('season_launched_summer', -0.0),\n",
       " ('season_launched_winter', -0.0)]"
      ]
     },
     "execution_count": 28,
     "metadata": {},
     "output_type": "execute_result"
    }
   ],
   "source": [
    "# Lasso coefficients\n",
    "list(zip(X_train.columns, lm_lasso.coef_))"
   ]
  },
  {
   "cell_type": "markdown",
   "metadata": {},
   "source": [
    "### Tune regularization strength"
   ]
  },
  {
   "cell_type": "code",
   "execution_count": 29,
   "metadata": {},
   "outputs": [],
   "source": [
    "# Define mean absolute error calculation (MAE)\n",
    "def mae(y_true, y_pred):\n",
    "    return np.mean(np.abs(y_pred - y_true))"
   ]
  },
  {
   "cell_type": "markdown",
   "metadata": {},
   "source": [
    "#### Tune Lasso regularization"
   ]
  },
  {
   "cell_type": "code",
   "execution_count": 30,
   "metadata": {},
   "outputs": [
    {
     "name": "stderr",
     "output_type": "stream",
     "text": [
      "/Users/baka_brooks/anaconda3/envs/metis/lib/python3.7/site-packages/sklearn/linear_model/coordinate_descent.py:475: ConvergenceWarning: Objective did not converge. You might want to increase the number of iterations. Duality gap: 7493825909696.6875, tolerance: 102346506525.96638\n",
      "  positive)\n",
      "/Users/baka_brooks/anaconda3/envs/metis/lib/python3.7/site-packages/sklearn/linear_model/coordinate_descent.py:475: ConvergenceWarning: Objective did not converge. You might want to increase the number of iterations. Duality gap: 6765103773676.6875, tolerance: 102346506525.96638\n",
      "  positive)\n",
      "/Users/baka_brooks/anaconda3/envs/metis/lib/python3.7/site-packages/sklearn/linear_model/coordinate_descent.py:475: ConvergenceWarning: Objective did not converge. You might want to increase the number of iterations. Duality gap: 1500900393534.8125, tolerance: 102346506525.96638\n",
      "  positive)\n",
      "/Users/baka_brooks/anaconda3/envs/metis/lib/python3.7/site-packages/sklearn/linear_model/coordinate_descent.py:475: ConvergenceWarning: Objective did not converge. You might want to increase the number of iterations. Duality gap: 2727362179487.75, tolerance: 102346506525.96638\n",
      "  positive)\n",
      "/Users/baka_brooks/anaconda3/envs/metis/lib/python3.7/site-packages/sklearn/linear_model/coordinate_descent.py:475: ConvergenceWarning: Objective did not converge. You might want to increase the number of iterations. Duality gap: 4130627822043.25, tolerance: 102346506525.96638\n",
      "  positive)\n",
      "/Users/baka_brooks/anaconda3/envs/metis/lib/python3.7/site-packages/sklearn/linear_model/coordinate_descent.py:475: ConvergenceWarning: Objective did not converge. You might want to increase the number of iterations. Duality gap: 3704590090954.0625, tolerance: 102346506525.96638\n",
      "  positive)\n",
      "/Users/baka_brooks/anaconda3/envs/metis/lib/python3.7/site-packages/sklearn/linear_model/coordinate_descent.py:475: ConvergenceWarning: Objective did not converge. You might want to increase the number of iterations. Duality gap: 2699511783772.875, tolerance: 102346506525.96638\n",
      "  positive)\n",
      "/Users/baka_brooks/anaconda3/envs/metis/lib/python3.7/site-packages/sklearn/linear_model/coordinate_descent.py:475: ConvergenceWarning: Objective did not converge. You might want to increase the number of iterations. Duality gap: 1400330880564.9375, tolerance: 102346506525.96638\n",
      "  positive)\n",
      "/Users/baka_brooks/anaconda3/envs/metis/lib/python3.7/site-packages/sklearn/linear_model/coordinate_descent.py:475: ConvergenceWarning: Objective did not converge. You might want to increase the number of iterations. Duality gap: 562679978162.25, tolerance: 102346506525.96638\n",
      "  positive)\n",
      "/Users/baka_brooks/anaconda3/envs/metis/lib/python3.7/site-packages/sklearn/linear_model/coordinate_descent.py:475: ConvergenceWarning: Objective did not converge. You might want to increase the number of iterations. Duality gap: 1757360624897.625, tolerance: 102346506525.96638\n",
      "  positive)\n",
      "/Users/baka_brooks/anaconda3/envs/metis/lib/python3.7/site-packages/sklearn/linear_model/coordinate_descent.py:475: ConvergenceWarning: Objective did not converge. You might want to increase the number of iterations. Duality gap: 336052530693.3125, tolerance: 102346506525.96638\n",
      "  positive)\n",
      "/Users/baka_brooks/anaconda3/envs/metis/lib/python3.7/site-packages/sklearn/linear_model/coordinate_descent.py:475: ConvergenceWarning: Objective did not converge. You might want to increase the number of iterations. Duality gap: 884498438063.75, tolerance: 102346506525.96638\n",
      "  positive)\n",
      "/Users/baka_brooks/anaconda3/envs/metis/lib/python3.7/site-packages/sklearn/linear_model/coordinate_descent.py:475: ConvergenceWarning: Objective did not converge. You might want to increase the number of iterations. Duality gap: 529006975582.25, tolerance: 102346506525.96638\n",
      "  positive)\n"
     ]
    }
   ],
   "source": [
    "alphalist = 10**(np.linspace(-10,2,200))\n",
    "err_vec_val = np.zeros(len(alphalist))\n",
    "err_vec_train = np.zeros(len(alphalist))\n",
    "\n",
    "for i,curr_alpha in enumerate(alphalist):  \n",
    "    \n",
    "    lm_lasso = Lasso(alpha=curr_alpha)\n",
    "    lm_lasso.fit(X_train_scaled, y_train)\n",
    "    \n",
    "    val_set_pred = lm_lasso.predict(X_val_scaled)\n",
    "    err_vec_val[i] = mae(y_val, val_set_pred)"
   ]
  },
  {
   "cell_type": "code",
   "execution_count": 31,
   "metadata": {},
   "outputs": [
    {
     "data": {
      "image/png": "[encoded data removed]",
      "text/plain": [
       "<Figure size 432x288 with 1 Axes>"
      ]
     },
     "metadata": {},
     "output_type": "display_data"
    }
   ],
   "source": [
    "# Plot curve of validation error with change in alpha \n",
    "plt.plot(np.log10(alphalist), err_vec_val);"
   ]
  },
  {
   "cell_type": "code",
   "execution_count": 32,
   "metadata": {},
   "outputs": [
    {
     "data": {
      "text/plain": [
       "10868.516968607524"
      ]
     },
     "execution_count": 32,
     "metadata": {},
     "output_type": "execute_result"
    }
   ],
   "source": [
    "# Minimum error achieved\n",
    "np.min(err_vec_val)"
   ]
  },
  {
   "cell_type": "code",
   "execution_count": 33,
   "metadata": {},
   "outputs": [
    {
     "data": {
      "text/plain": [
       "100.0"
      ]
     },
     "execution_count": 33,
     "metadata": {},
     "output_type": "execute_result"
    }
   ],
   "source": [
    "# Alpha value where minimum error reached\n",
    "alphalist[np.argmin(err_vec_val)]"
   ]
  },
  {
   "cell_type": "markdown",
   "metadata": {},
   "source": [
    "#### Tune Ridge regularization"
   ]
  },
  {
   "cell_type": "code",
   "execution_count": 34,
   "metadata": {},
   "outputs": [],
   "source": [
    "alphalist = 10**(np.linspace(-10,2,200))\n",
    "err_vec_val = np.zeros(len(alphalist))\n",
    "err_vec_train = np.zeros(len(alphalist))\n",
    "\n",
    "for i,curr_alpha in enumerate(alphalist):\n",
    "    \n",
    "    lm_ridge = Ridge(alpha=curr_alpha)\n",
    "    lm_ridge.fit(X_train_scaled, y_train)\n",
    "    \n",
    "    val_set_pred = lm_ridge.predict(X_val_scaled)\n",
    "    err_vec_val[i] = mae(y_val, val_set_pred)"
   ]
  },
  {
   "cell_type": "code",
   "execution_count": 35,
   "metadata": {},
   "outputs": [
    {
     "data": {
      "image/png": "[encoded data removed]",
      "text/plain": [
       "<Figure size 432x288 with 1 Axes>"
      ]
     },
     "metadata": {},
     "output_type": "display_data"
    }
   ],
   "source": [
    "# Plot curve of validation error with change in alpha \n",
    "plt.plot(np.log10(alphalist), err_vec_val);"
   ]
  },
  {
   "cell_type": "code",
   "execution_count": 36,
   "metadata": {},
   "outputs": [
    {
     "data": {
      "text/plain": [
       "11299.644427727442"
      ]
     },
     "execution_count": 36,
     "metadata": {},
     "output_type": "execute_result"
    }
   ],
   "source": [
    "# Minimum error achieved\n",
    "np.min(err_vec_val)"
   ]
  },
  {
   "cell_type": "code",
   "execution_count": 37,
   "metadata": {},
   "outputs": [
    {
     "data": {
      "text/plain": [
       "100.0"
      ]
     },
     "execution_count": 37,
     "metadata": {},
     "output_type": "execute_result"
    }
   ],
   "source": [
    "# Alpha value where minimum error reached\n",
    "alphalist[np.argmin(err_vec_val)]"
   ]
  },
  {
   "cell_type": "markdown",
   "metadata": {},
   "source": [
    "#### Calculate VIFs"
   ]
  },
  {
   "cell_type": "code",
   "execution_count": 38,
   "metadata": {},
   "outputs": [],
   "source": [
    "vif = pd.DataFrame()\n",
    "\n",
    "X_numeric = X.loc[:, columns_to_scale]\n",
    "vif[\"VIF Factor\"] = [variance_inflation_factor(X_numeric.values, i) for i in range(X_numeric.shape[1])]\n",
    "vif[\"features\"] = X_numeric.columns"
   ]
  },
  {
   "cell_type": "code",
   "execution_count": 39,
   "metadata": {},
   "outputs": [
    {
     "data": {
      "text/html": [
       "<div>\n",
       "<style scoped>\n",
       "    .dataframe tbody tr th:only-of-type {\n",
       "        vertical-align: middle;\n",
       "    }\n",
       "\n",
       "    .dataframe tbody tr th {\n",
       "        vertical-align: top;\n",
       "    }\n",
       "\n",
       "    .dataframe thead th {\n",
       "        text-align: right;\n",
       "    }\n",
       "</style>\n",
       "<table border=\"1\" class=\"dataframe\">\n",
       "  <thead>\n",
       "    <tr style=\"text-align: right;\">\n",
       "      <th></th>\n",
       "      <th>VIF Factor</th>\n",
       "      <th>features</th>\n",
       "    </tr>\n",
       "  </thead>\n",
       "  <tbody>\n",
       "    <tr>\n",
       "      <th>2</th>\n",
       "      <td>1.135057</td>\n",
       "      <td>campaign_length</td>\n",
       "    </tr>\n",
       "    <tr>\n",
       "      <th>3</th>\n",
       "      <td>1.115206</td>\n",
       "      <td>creation_to_launch</td>\n",
       "    </tr>\n",
       "    <tr>\n",
       "      <th>0</th>\n",
       "      <td>1.022718</td>\n",
       "      <td>backers_count</td>\n",
       "    </tr>\n",
       "    <tr>\n",
       "      <th>1</th>\n",
       "      <td>1.002106</td>\n",
       "      <td>goal</td>\n",
       "    </tr>\n",
       "  </tbody>\n",
       "</table>\n",
       "</div>"
      ],
      "text/plain": [
       "   VIF Factor            features\n",
       "2    1.135057     campaign_length\n",
       "3    1.115206  creation_to_launch\n",
       "0    1.022718       backers_count\n",
       "1    1.002106                goal"
      ]
     },
     "execution_count": 39,
     "metadata": {},
     "output_type": "execute_result"
    }
   ],
   "source": [
    "vif.sort_values('VIF Factor', ascending=False)"
   ]
  },
  {
   "cell_type": "markdown",
   "metadata": {},
   "source": [
    "- No additional insights as far as multicollinearity other than the features outlined in the LASSO model."
   ]
  },
  {
   "cell_type": "markdown",
   "metadata": {},
   "source": [
    "# Additional data processing"
   ]
  },
  {
   "cell_type": "markdown",
   "metadata": {},
   "source": [
    "- Group unimpactful columns into an `other` category\n",
    "- Drop `season` columns"
   ]
  },
  {
   "cell_type": "code",
   "execution_count": 40,
   "metadata": {},
   "outputs": [],
   "source": [
    "# Create a copy of the full dataframe\n",
    "kickstarter_mod = df.copy()"
   ]
  },
  {
   "cell_type": "code",
   "execution_count": 41,
   "metadata": {},
   "outputs": [],
   "source": [
    "def re_categorize(category):\n",
    "    \"\"\"\n",
    "    Loop through a pandas Series of urls and scrape their web pages for links to their social accounts.\n",
    "\n",
    "    Paramater:\n",
    "    ----------\n",
    "    category_column: A pandas Series containing categorical columns to group.\n",
    "    \"\"\"\n",
    "    \n",
    "    categories = ['art', 'comics', 'crafts', 'dance', 'fashion', 'film & video', 'food', 'journalism', 'music', 'photography', \n",
    "                  'publishing', 'theater']\n",
    "    \n",
    "    if category in categories:\n",
    "        return 'other'\n",
    "    else:\n",
    "        return category"
   ]
  },
  {
   "cell_type": "code",
   "execution_count": 42,
   "metadata": {},
   "outputs": [],
   "source": [
    "# Apply function to create new categorization\n",
    "kickstarter_mod['new_category'] = kickstarter_mod['category'].apply(re_categorize)"
   ]
  },
  {
   "cell_type": "code",
   "execution_count": 43,
   "metadata": {},
   "outputs": [],
   "source": [
    "# Select columns to keep for new models\n",
    "columns_to_keep = ['usd_pledged', 'backers_count', 'spotlight', 'staff_pick', 'campaign_length', 'new_category']\n",
    "kickstarter_mod = kickstarter_mod.loc[:, columns_to_keep]\n",
    "kickstarter_mod = kickstarter_mod.rename(columns={'new_category': 'category'})"
   ]
  },
  {
   "cell_type": "code",
   "execution_count": 44,
   "metadata": {},
   "outputs": [],
   "source": [
    "# Convert booleans to ints\n",
    "kickstarter_mod['spotlight'] = kickstarter_mod['spotlight'].astype(int)\n",
    "kickstarter_mod['staff_pick'] = kickstarter_mod['staff_pick'].astype(int)"
   ]
  },
  {
   "cell_type": "code",
   "execution_count": 45,
   "metadata": {},
   "outputs": [
    {
     "name": "stdout",
     "output_type": "stream",
     "text": [
      "(137800, 8)\n"
     ]
    },
    {
     "data": {
      "text/html": [
       "<div>\n",
       "<style scoped>\n",
       "    .dataframe tbody tr th:only-of-type {\n",
       "        vertical-align: middle;\n",
       "    }\n",
       "\n",
       "    .dataframe tbody tr th {\n",
       "        vertical-align: top;\n",
       "    }\n",
       "\n",
       "    .dataframe thead th {\n",
       "        text-align: right;\n",
       "    }\n",
       "</style>\n",
       "<table border=\"1\" class=\"dataframe\">\n",
       "  <thead>\n",
       "    <tr style=\"text-align: right;\">\n",
       "      <th></th>\n",
       "      <th>usd_pledged</th>\n",
       "      <th>backers_count</th>\n",
       "      <th>spotlight</th>\n",
       "      <th>staff_pick</th>\n",
       "      <th>campaign_length</th>\n",
       "      <th>category_design</th>\n",
       "      <th>category_games</th>\n",
       "      <th>category_technology</th>\n",
       "    </tr>\n",
       "  </thead>\n",
       "  <tbody>\n",
       "    <tr>\n",
       "      <th>0</th>\n",
       "      <td>240.0</td>\n",
       "      <td>1</td>\n",
       "      <td>0</td>\n",
       "      <td>0</td>\n",
       "      <td>30</td>\n",
       "      <td>0</td>\n",
       "      <td>0</td>\n",
       "      <td>0</td>\n",
       "    </tr>\n",
       "    <tr>\n",
       "      <th>2</th>\n",
       "      <td>41738.0</td>\n",
       "      <td>243</td>\n",
       "      <td>1</td>\n",
       "      <td>1</td>\n",
       "      <td>30</td>\n",
       "      <td>0</td>\n",
       "      <td>0</td>\n",
       "      <td>0</td>\n",
       "    </tr>\n",
       "    <tr>\n",
       "      <th>3</th>\n",
       "      <td>3115.0</td>\n",
       "      <td>27</td>\n",
       "      <td>1</td>\n",
       "      <td>0</td>\n",
       "      <td>45</td>\n",
       "      <td>0</td>\n",
       "      <td>0</td>\n",
       "      <td>0</td>\n",
       "    </tr>\n",
       "    <tr>\n",
       "      <th>4</th>\n",
       "      <td>61.0</td>\n",
       "      <td>3</td>\n",
       "      <td>0</td>\n",
       "      <td>0</td>\n",
       "      <td>30</td>\n",
       "      <td>0</td>\n",
       "      <td>0</td>\n",
       "      <td>0</td>\n",
       "    </tr>\n",
       "    <tr>\n",
       "      <th>5</th>\n",
       "      <td>5.0</td>\n",
       "      <td>1</td>\n",
       "      <td>0</td>\n",
       "      <td>0</td>\n",
       "      <td>60</td>\n",
       "      <td>0</td>\n",
       "      <td>0</td>\n",
       "      <td>0</td>\n",
       "    </tr>\n",
       "  </tbody>\n",
       "</table>\n",
       "</div>"
      ],
      "text/plain": [
       "   usd_pledged  backers_count  spotlight  staff_pick  campaign_length  \\\n",
       "0        240.0              1          0           0               30   \n",
       "2      41738.0            243          1           1               30   \n",
       "3       3115.0             27          1           0               45   \n",
       "4         61.0              3          0           0               30   \n",
       "5          5.0              1          0           0               60   \n",
       "\n",
       "   category_design  category_games  category_technology  \n",
       "0                0               0                    0  \n",
       "2                0               0                    0  \n",
       "3                0               0                    0  \n",
       "4                0               0                    0  \n",
       "5                0               0                    0  "
      ]
     },
     "execution_count": 45,
     "metadata": {},
     "output_type": "execute_result"
    }
   ],
   "source": [
    "# Get dummies for update dataframe\n",
    "kickstarter_mod = pd.get_dummies(kickstarter_mod)\n",
    "kickstarter_mod.drop('category_other', axis=1, inplace=True)\n",
    "print(kickstarter_mod.shape)\n",
    "kickstarter_mod.head()"
   ]
  },
  {
   "cell_type": "code",
   "execution_count": 46,
   "metadata": {},
   "outputs": [],
   "source": [
    "# Segment the training and test sets\n",
    "X, y = kickstarter_mod.drop('usd_pledged', axis=1), kickstarter_mod['usd_pledged']\n",
    "X, X_test, y, y_test = train_test_split(X, y, test_size=0.2, random_state=42)"
   ]
  },
  {
   "cell_type": "markdown",
   "metadata": {},
   "source": [
    "# Re-run OLS"
   ]
  },
  {
   "cell_type": "code",
   "execution_count": 47,
   "metadata": {},
   "outputs": [],
   "source": [
    "# Split the training and validations sets\n",
    "X_train, X_val, y_train, y_val = train_test_split(X, y, test_size=0.2, random_state=42)"
   ]
  },
  {
   "cell_type": "code",
   "execution_count": 48,
   "metadata": {},
   "outputs": [
    {
     "name": "stderr",
     "output_type": "stream",
     "text": [
      "/Users/baka_brooks/anaconda3/envs/metis/lib/python3.7/site-packages/numpy/core/fromnumeric.py:2495: FutureWarning: Method .ptp is deprecated and will be removed in a future version. Use numpy.ptp instead.\n",
      "  return ptp(axis=axis, out=out, **kwargs)\n"
     ]
    },
    {
     "data": {
      "text/html": [
       "<table class=\"simpletable\">\n",
       "<caption>OLS Regression Results</caption>\n",
       "<tr>\n",
       "  <th>Dep. Variable:</th>       <td>usd_pledged</td>   <th>  R-squared:         </th>  <td>   0.649</td>  \n",
       "</tr>\n",
       "<tr>\n",
       "  <th>Model:</th>                   <td>OLS</td>       <th>  Adj. R-squared:    </th>  <td>   0.649</td>  \n",
       "</tr>\n",
       "<tr>\n",
       "  <th>Method:</th>             <td>Least Squares</td>  <th>  F-statistic:       </th>  <td>2.333e+04</td> \n",
       "</tr>\n",
       "<tr>\n",
       "  <th>Date:</th>             <td>Thu, 23 Jan 2020</td> <th>  Prob (F-statistic):</th>   <td>  0.00</td>   \n",
       "</tr>\n",
       "<tr>\n",
       "  <th>Time:</th>                 <td>19:28:57</td>     <th>  Log-Likelihood:    </th> <td>-1.1008e+06</td>\n",
       "</tr>\n",
       "<tr>\n",
       "  <th>No. Observations:</th>      <td> 88192</td>      <th>  AIC:               </th>  <td>2.202e+06</td> \n",
       "</tr>\n",
       "<tr>\n",
       "  <th>Df Residuals:</th>          <td> 88184</td>      <th>  BIC:               </th>  <td>2.202e+06</td> \n",
       "</tr>\n",
       "<tr>\n",
       "  <th>Df Model:</th>              <td>     7</td>      <th>                     </th>      <td> </td>     \n",
       "</tr>\n",
       "<tr>\n",
       "  <th>Covariance Type:</th>      <td>nonrobust</td>    <th>                     </th>      <td> </td>     \n",
       "</tr>\n",
       "</table>\n",
       "<table class=\"simpletable\">\n",
       "<tr>\n",
       "           <td></td>              <th>coef</th>     <th>std err</th>      <th>t</th>      <th>P>|t|</th>  <th>[0.025</th>    <th>0.975]</th>  \n",
       "</tr>\n",
       "<tr>\n",
       "  <th>const</th>               <td>-6784.4980</td> <td>  730.089</td> <td>   -9.293</td> <td> 0.000</td> <td>-8215.466</td> <td>-5353.530</td>\n",
       "</tr>\n",
       "<tr>\n",
       "  <th>backers_count</th>       <td>   79.4623</td> <td>    0.204</td> <td>  388.852</td> <td> 0.000</td> <td>   79.062</td> <td>   79.863</td>\n",
       "</tr>\n",
       "<tr>\n",
       "  <th>spotlight</th>           <td> 3531.9343</td> <td>  463.366</td> <td>    7.622</td> <td> 0.000</td> <td> 2623.741</td> <td> 4440.127</td>\n",
       "</tr>\n",
       "<tr>\n",
       "  <th>staff_pick</th>          <td> 5946.2357</td> <td>  661.454</td> <td>    8.990</td> <td> 0.000</td> <td> 4649.793</td> <td> 7242.679</td>\n",
       "</tr>\n",
       "<tr>\n",
       "  <th>campaign_length</th>     <td>  119.8589</td> <td>   18.400</td> <td>    6.514</td> <td> 0.000</td> <td>   83.796</td> <td>  155.922</td>\n",
       "</tr>\n",
       "<tr>\n",
       "  <th>category_design</th>     <td> 1.165e+04</td> <td> 1171.402</td> <td>    9.944</td> <td> 0.000</td> <td> 9352.304</td> <td> 1.39e+04</td>\n",
       "</tr>\n",
       "<tr>\n",
       "  <th>category_games</th>      <td>-9925.2338</td> <td>  872.691</td> <td>  -11.373</td> <td> 0.000</td> <td>-1.16e+04</td> <td>-8214.768</td>\n",
       "</tr>\n",
       "<tr>\n",
       "  <th>category_technology</th> <td> 2.036e+04</td> <td>  762.129</td> <td>   26.710</td> <td> 0.000</td> <td> 1.89e+04</td> <td> 2.19e+04</td>\n",
       "</tr>\n",
       "</table>\n",
       "<table class=\"simpletable\">\n",
       "<tr>\n",
       "  <th>Omnibus:</th>       <td>238785.586</td> <th>  Durbin-Watson:     </th>    <td>   2.005</td>    \n",
       "</tr>\n",
       "<tr>\n",
       "  <th>Prob(Omnibus):</th>   <td> 0.000</td>   <th>  Jarque-Bera (JB):  </th> <td>29342184314.636</td>\n",
       "</tr>\n",
       "<tr>\n",
       "  <th>Skew:</th>            <td>32.849</td>   <th>  Prob(JB):          </th>    <td>    0.00</td>    \n",
       "</tr>\n",
       "<tr>\n",
       "  <th>Kurtosis:</th>       <td>2828.009</td>  <th>  Cond. No.          </th>    <td>6.00e+03</td>    \n",
       "</tr>\n",
       "</table><br/><br/>Warnings:<br/>[1] Standard Errors assume that the covariance matrix of the errors is correctly specified.<br/>[2] The condition number is large,  6e+03. This might indicate that there are<br/>strong multicollinearity or other numerical problems."
      ],
      "text/plain": [
       "<class 'statsmodels.iolib.summary.Summary'>\n",
       "\"\"\"\n",
       "                            OLS Regression Results                            \n",
       "==============================================================================\n",
       "Dep. Variable:            usd_pledged   R-squared:                       0.649\n",
       "Model:                            OLS   Adj. R-squared:                  0.649\n",
       "Method:                 Least Squares   F-statistic:                 2.333e+04\n",
       "Date:                Thu, 23 Jan 2020   Prob (F-statistic):               0.00\n",
       "Time:                        19:28:57   Log-Likelihood:            -1.1008e+06\n",
       "No. Observations:               88192   AIC:                         2.202e+06\n",
       "Df Residuals:                   88184   BIC:                         2.202e+06\n",
       "Df Model:                           7                                         \n",
       "Covariance Type:            nonrobust                                         \n",
       "=======================================================================================\n",
       "                          coef    std err          t      P>|t|      [0.025      0.975]\n",
       "---------------------------------------------------------------------------------------\n",
       "const               -6784.4980    730.089     -9.293      0.000   -8215.466   -5353.530\n",
       "backers_count          79.4623      0.204    388.852      0.000      79.062      79.863\n",
       "spotlight            3531.9343    463.366      7.622      0.000    2623.741    4440.127\n",
       "staff_pick           5946.2357    661.454      8.990      0.000    4649.793    7242.679\n",
       "campaign_length       119.8589     18.400      6.514      0.000      83.796     155.922\n",
       "category_design      1.165e+04   1171.402      9.944      0.000    9352.304    1.39e+04\n",
       "category_games      -9925.2338    872.691    -11.373      0.000   -1.16e+04   -8214.768\n",
       "category_technology  2.036e+04    762.129     26.710      0.000    1.89e+04    2.19e+04\n",
       "==============================================================================\n",
       "Omnibus:                   238785.586   Durbin-Watson:                   2.005\n",
       "Prob(Omnibus):                  0.000   Jarque-Bera (JB):      29342184314.636\n",
       "Skew:                          32.849   Prob(JB):                         0.00\n",
       "Kurtosis:                    2828.009   Cond. No.                     6.00e+03\n",
       "==============================================================================\n",
       "\n",
       "Warnings:\n",
       "[1] Standard Errors assume that the covariance matrix of the errors is correctly specified.\n",
       "[2] The condition number is large,  6e+03. This might indicate that there are\n",
       "strong multicollinearity or other numerical problems.\n",
       "\"\"\""
      ]
     },
     "execution_count": 48,
     "metadata": {},
     "output_type": "execute_result"
    }
   ],
   "source": [
    "# Create model and display model statistics\n",
    "model = sm.OLS(y_train, sm.add_constant(X_train))\n",
    "fit = model.fit()\n",
    "fit.summary()"
   ]
  },
  {
   "cell_type": "markdown",
   "metadata": {
    "toc-hr-collapsed": false
   },
   "source": [
    "# Cross validation testing"
   ]
  },
  {
   "cell_type": "code",
   "execution_count": 49,
   "metadata": {},
   "outputs": [],
   "source": [
    "def cv_test_data(model, X, y):\n",
    "    \"\"\"\n",
    "    Run a specified model using X and y values passed and return the R^2, mean R^2, and std.\n",
    "    \n",
    "    Parameters:\n",
    "    -----------\n",
    "    model: Model you are testing\n",
    "    X: 2D array of features\n",
    "    y: Array of target values \n",
    "    \"\"\"\n",
    "    \n",
    "    # Set the number of folds and initialize container of r^2 and adj r^2 values\n",
    "    kf = KFold(n_splits=5, shuffle=True, random_state=42)\n",
    "    cv_model_r2s, cv_model_adj_r2s = [], []\n",
    "    \n",
    "    for train_ind, val_ind in kf.split(X,y):\n",
    "        \n",
    "        X_train, y_train = X[train_ind], y[train_ind]\n",
    "        X_val, y_val = X[val_ind], y[val_ind]\n",
    "        \n",
    "        # Fit the model\n",
    "        model.fit(X_train, y_train)\n",
    "        \n",
    "        # Append r^2 scores\n",
    "        val_score = model.score(X_val, y_val)\n",
    "        cv_model_r2s.append(val_score)\n",
    "        \n",
    "        # Append adj r^2 scores\n",
    "        adj_r_squared = 1 - (1-val_score)*(len(y_val)-1)/(len(y_val)-X_val.shape[1]-1)\n",
    "        cv_model_adj_r2s.append(adj_r_squared)\n",
    "        \n",
    "    print('Model r^2 scores: ', cv_model_r2s)\n",
    "    print('Model adj r^2 scores: ', cv_model_adj_r2s, '\\n')\n",
    "    \n",
    "    print(f'Mean cv r^2: {np.mean(cv_model_r2s):.3f} +- {np.std(cv_model_r2s):.3f}')\n",
    "    print(f'Mean adj cv r^2: {np.mean(cv_model_adj_r2s):.3f} +- {np.std(cv_model_adj_r2s):.3f}', '\\n')"
   ]
  },
  {
   "cell_type": "markdown",
   "metadata": {},
   "source": [
    "#### Linear regression"
   ]
  },
  {
   "cell_type": "code",
   "execution_count": 50,
   "metadata": {},
   "outputs": [
    {
     "name": "stdout",
     "output_type": "stream",
     "text": [
      "Model r^2 scores:  [0.6722030139591705, 0.6533942741511626, 0.6585276612026683, 0.46521897586890676, 0.7237842697165787]\n",
      "Model adj r^2 scores:  [0.6720989042086131, 0.6532841906629165, 0.6584192081005094, 0.465049127086288, 0.7236965423975232] \n",
      "\n",
      "Mean cv r^2: 0.635 +- 0.088\n",
      "Mean adj cv r^2: 0.635 +- 0.088 \n",
      "\n"
     ]
    }
   ],
   "source": [
    "cv_test_data(LinearRegression(), np.array(X), np.array(y))"
   ]
  },
  {
   "cell_type": "markdown",
   "metadata": {},
   "source": [
    "#### Ridge regression"
   ]
  },
  {
   "cell_type": "code",
   "execution_count": 51,
   "metadata": {},
   "outputs": [],
   "source": [
    "# Scale features for ridge and lasso models\n",
    "scaler = StandardScaler()\n",
    "\n",
    "columns_to_scale = ['backers_count', 'campaign_length']\n",
    "\n",
    "X_scaled = X.copy()\n",
    "X_scaled[columns_to_scale] = scaler.fit_transform(X_scaled[columns_to_scale])\n",
    "X_scaled = np.array(X_scaled)"
   ]
  },
  {
   "cell_type": "code",
   "execution_count": 52,
   "metadata": {},
   "outputs": [
    {
     "name": "stdout",
     "output_type": "stream",
     "text": [
      "Model r^2 scores:  [0.6426586456546179, 0.648515548459444, 0.6603759526554371, 0.5015546828112063, 0.679437917596825]\n",
      "Model adj r^2 scores:  [0.642545152484, 0.648403915466668, 0.6602680865786943, 0.5013963744073805, 0.6793361056831762] \n",
      "\n",
      "Mean cv r^2: 0.627 +- 0.064\n",
      "Mean adj cv r^2: 0.626 +- 0.064 \n",
      "\n"
     ]
    }
   ],
   "source": [
    "cv_test_data(Ridge(alpha=14314.589375234786), X_scaled, np.array(y))"
   ]
  },
  {
   "cell_type": "markdown",
   "metadata": {},
   "source": [
    "#### Lasso regression"
   ]
  },
  {
   "cell_type": "code",
   "execution_count": 53,
   "metadata": {},
   "outputs": [
    {
     "name": "stdout",
     "output_type": "stream",
     "text": [
      "Model r^2 scores:  [0.6685553856459512, 0.6509509409783776, 0.655446132390896, 0.46642889887905464, 0.7195254512840239]\n",
      "Model adj r^2 scores:  [0.6684501173927535, 0.6508400814768734, 0.6553367005817643, 0.4662594343732539, 0.719436371345684] \n",
      "\n",
      "Mean cv r^2: 0.632 +- 0.086\n",
      "Mean adj cv r^2: 0.632 +- 0.086 \n",
      "\n"
     ]
    }
   ],
   "source": [
    "cv_test_data(Lasso(alpha=1162.322468679852), X_scaled, np.array(y))"
   ]
  },
  {
   "cell_type": "markdown",
   "metadata": {},
   "source": [
    "# Results"
   ]
  },
  {
   "cell_type": "markdown",
   "metadata": {},
   "source": [
    "- Linear regression continued to be the best predictor of pledge amount\n",
    "- Binning of categorical columns, removal of seasonal component, campaign length and project goal resulted in p-values of zero for all other features."
   ]
  },
  {
   "cell_type": "markdown",
   "metadata": {},
   "source": [
    "#### Linear regression"
   ]
  },
  {
   "cell_type": "code",
   "execution_count": 62,
   "metadata": {},
   "outputs": [
    {
     "data": {
      "text/html": [
       "<table class=\"simpletable\">\n",
       "<caption>OLS Regression Results</caption>\n",
       "<tr>\n",
       "  <th>Dep. Variable:</th>       <td>usd_pledged</td>   <th>  R-squared:         </th>  <td>   0.649</td>  \n",
       "</tr>\n",
       "<tr>\n",
       "  <th>Model:</th>                   <td>OLS</td>       <th>  Adj. R-squared:    </th>  <td>   0.649</td>  \n",
       "</tr>\n",
       "<tr>\n",
       "  <th>Method:</th>             <td>Least Squares</td>  <th>  F-statistic:       </th>  <td>2.333e+04</td> \n",
       "</tr>\n",
       "<tr>\n",
       "  <th>Date:</th>             <td>Thu, 23 Jan 2020</td> <th>  Prob (F-statistic):</th>   <td>  0.00</td>   \n",
       "</tr>\n",
       "<tr>\n",
       "  <th>Time:</th>                 <td>19:29:39</td>     <th>  Log-Likelihood:    </th> <td>-1.1008e+06</td>\n",
       "</tr>\n",
       "<tr>\n",
       "  <th>No. Observations:</th>      <td> 88192</td>      <th>  AIC:               </th>  <td>2.202e+06</td> \n",
       "</tr>\n",
       "<tr>\n",
       "  <th>Df Residuals:</th>          <td> 88184</td>      <th>  BIC:               </th>  <td>2.202e+06</td> \n",
       "</tr>\n",
       "<tr>\n",
       "  <th>Df Model:</th>              <td>     7</td>      <th>                     </th>      <td> </td>     \n",
       "</tr>\n",
       "<tr>\n",
       "  <th>Covariance Type:</th>      <td>nonrobust</td>    <th>                     </th>      <td> </td>     \n",
       "</tr>\n",
       "</table>\n",
       "<table class=\"simpletable\">\n",
       "<tr>\n",
       "           <td></td>              <th>coef</th>     <th>std err</th>      <th>t</th>      <th>P>|t|</th>  <th>[0.025</th>    <th>0.975]</th>  \n",
       "</tr>\n",
       "<tr>\n",
       "  <th>const</th>               <td>-6784.4980</td> <td>  730.089</td> <td>   -9.293</td> <td> 0.000</td> <td>-8215.466</td> <td>-5353.530</td>\n",
       "</tr>\n",
       "<tr>\n",
       "  <th>backers_count</th>       <td>   79.4623</td> <td>    0.204</td> <td>  388.852</td> <td> 0.000</td> <td>   79.062</td> <td>   79.863</td>\n",
       "</tr>\n",
       "<tr>\n",
       "  <th>spotlight</th>           <td> 3531.9343</td> <td>  463.366</td> <td>    7.622</td> <td> 0.000</td> <td> 2623.741</td> <td> 4440.127</td>\n",
       "</tr>\n",
       "<tr>\n",
       "  <th>staff_pick</th>          <td> 5946.2357</td> <td>  661.454</td> <td>    8.990</td> <td> 0.000</td> <td> 4649.793</td> <td> 7242.679</td>\n",
       "</tr>\n",
       "<tr>\n",
       "  <th>campaign_length</th>     <td>  119.8589</td> <td>   18.400</td> <td>    6.514</td> <td> 0.000</td> <td>   83.796</td> <td>  155.922</td>\n",
       "</tr>\n",
       "<tr>\n",
       "  <th>category_design</th>     <td> 1.165e+04</td> <td> 1171.402</td> <td>    9.944</td> <td> 0.000</td> <td> 9352.304</td> <td> 1.39e+04</td>\n",
       "</tr>\n",
       "<tr>\n",
       "  <th>category_games</th>      <td>-9925.2338</td> <td>  872.691</td> <td>  -11.373</td> <td> 0.000</td> <td>-1.16e+04</td> <td>-8214.768</td>\n",
       "</tr>\n",
       "<tr>\n",
       "  <th>category_technology</th> <td> 2.036e+04</td> <td>  762.129</td> <td>   26.710</td> <td> 0.000</td> <td> 1.89e+04</td> <td> 2.19e+04</td>\n",
       "</tr>\n",
       "</table>\n",
       "<table class=\"simpletable\">\n",
       "<tr>\n",
       "  <th>Omnibus:</th>       <td>238785.586</td> <th>  Durbin-Watson:     </th>    <td>   2.005</td>    \n",
       "</tr>\n",
       "<tr>\n",
       "  <th>Prob(Omnibus):</th>   <td> 0.000</td>   <th>  Jarque-Bera (JB):  </th> <td>29342184314.636</td>\n",
       "</tr>\n",
       "<tr>\n",
       "  <th>Skew:</th>            <td>32.849</td>   <th>  Prob(JB):          </th>    <td>    0.00</td>    \n",
       "</tr>\n",
       "<tr>\n",
       "  <th>Kurtosis:</th>       <td>2828.009</td>  <th>  Cond. No.          </th>    <td>6.00e+03</td>    \n",
       "</tr>\n",
       "</table><br/><br/>Warnings:<br/>[1] Standard Errors assume that the covariance matrix of the errors is correctly specified.<br/>[2] The condition number is large,  6e+03. This might indicate that there are<br/>strong multicollinearity or other numerical problems."
      ],
      "text/plain": [
       "<class 'statsmodels.iolib.summary.Summary'>\n",
       "\"\"\"\n",
       "                            OLS Regression Results                            \n",
       "==============================================================================\n",
       "Dep. Variable:            usd_pledged   R-squared:                       0.649\n",
       "Model:                            OLS   Adj. R-squared:                  0.649\n",
       "Method:                 Least Squares   F-statistic:                 2.333e+04\n",
       "Date:                Thu, 23 Jan 2020   Prob (F-statistic):               0.00\n",
       "Time:                        19:29:39   Log-Likelihood:            -1.1008e+06\n",
       "No. Observations:               88192   AIC:                         2.202e+06\n",
       "Df Residuals:                   88184   BIC:                         2.202e+06\n",
       "Df Model:                           7                                         \n",
       "Covariance Type:            nonrobust                                         \n",
       "=======================================================================================\n",
       "                          coef    std err          t      P>|t|      [0.025      0.975]\n",
       "---------------------------------------------------------------------------------------\n",
       "const               -6784.4980    730.089     -9.293      0.000   -8215.466   -5353.530\n",
       "backers_count          79.4623      0.204    388.852      0.000      79.062      79.863\n",
       "spotlight            3531.9343    463.366      7.622      0.000    2623.741    4440.127\n",
       "staff_pick           5946.2357    661.454      8.990      0.000    4649.793    7242.679\n",
       "campaign_length       119.8589     18.400      6.514      0.000      83.796     155.922\n",
       "category_design      1.165e+04   1171.402      9.944      0.000    9352.304    1.39e+04\n",
       "category_games      -9925.2338    872.691    -11.373      0.000   -1.16e+04   -8214.768\n",
       "category_technology  2.036e+04    762.129     26.710      0.000    1.89e+04    2.19e+04\n",
       "==============================================================================\n",
       "Omnibus:                   238785.586   Durbin-Watson:                   2.005\n",
       "Prob(Omnibus):                  0.000   Jarque-Bera (JB):      29342184314.636\n",
       "Skew:                          32.849   Prob(JB):                         0.00\n",
       "Kurtosis:                    2828.009   Cond. No.                     6.00e+03\n",
       "==============================================================================\n",
       "\n",
       "Warnings:\n",
       "[1] Standard Errors assume that the covariance matrix of the errors is correctly specified.\n",
       "[2] The condition number is large,  6e+03. This might indicate that there are\n",
       "strong multicollinearity or other numerical problems.\n",
       "\"\"\""
      ]
     },
     "execution_count": 62,
     "metadata": {},
     "output_type": "execute_result"
    }
   ],
   "source": [
    "lr = LinearRegression()\n",
    "lr.fit(X_train, y_train)\n",
    "fit.summary()"
   ]
  },
  {
   "cell_type": "code",
   "execution_count": 63,
   "metadata": {},
   "outputs": [],
   "source": [
    "test_set_pred = lr.predict(X_test)"
   ]
  },
  {
   "cell_type": "code",
   "execution_count": 77,
   "metadata": {},
   "outputs": [
    {
     "name": "stderr",
     "output_type": "stream",
     "text": [
      "/Users/baka_brooks/anaconda3/envs/metis/lib/python3.7/site-packages/ipykernel_launcher.py:1: RuntimeWarning: invalid value encountered in log\n",
      "  \"\"\"Entry point for launching an IPython kernel.\n"
     ]
    },
    {
     "data": {
      "image/png": "[encoded data removed]",
      "text/plain": [
       "<Figure size 432x288 with 1 Axes>"
      ]
     },
     "metadata": {},
     "output_type": "display_data"
    }
   ],
   "source": [
    "plt.scatter(np.log(test_set_pred), np.log(y_test), alpha=0.1, color='orange')\n",
    "plt.plot(np.linspace(0,20,1000), np.linspace(0,20,1000), color='red')\n",
    "plt.title('Predicted v. Actual Values')\n",
    "plt.xlabel('predict')\n",
    "plt.ylabel('actual values')\n",
    "plt.savefig('predicted_values.png', transparent=True);"
   ]
  },
  {
   "cell_type": "code",
   "execution_count": 72,
   "metadata": {},
   "outputs": [
    {
     "data": {
      "image/png": "[encoded data removed]",
      "text/plain": [
       "<Figure size 432x288 with 1 Axes>"
      ]
     },
     "metadata": {},
     "output_type": "display_data"
    }
   ],
   "source": [
    "sns.scatterplot(x=test_set_pred, y=y_test-test_set_pred, alpha=0.5)\n",
    "plt.xlim(0, 2000000)\n",
    "plt.title('Residual Plot');"
   ]
  },
  {
   "cell_type": "markdown",
   "metadata": {},
   "source": [
    "#### Lasso regression"
   ]
  },
  {
   "cell_type": "code",
   "execution_count": 57,
   "metadata": {},
   "outputs": [],
   "source": [
    "scaler = StandardScaler()\n",
    "\n",
    "X_train_scaled = X_train.copy()\n",
    "X_train_scaled[columns_to_scale] = scaler.fit_transform(X_train_scaled[columns_to_scale])\n",
    "X_train_scaled = np.array(X_train_scaled)\n",
    "\n",
    "X_test_scaled = X_test.copy()\n",
    "X_test_scaled[columns_to_scale] = scaler.fit_transform(X_test_scaled[columns_to_scale])\n",
    "X_test_scaled = np.array(X_test_scaled)"
   ]
  },
  {
   "cell_type": "code",
   "execution_count": 58,
   "metadata": {},
   "outputs": [
    {
     "data": {
      "text/plain": [
       "Lasso(alpha=1162.322468679852, copy_X=True, fit_intercept=True, max_iter=1000,\n",
       "      normalize=False, positive=False, precompute=False, random_state=None,\n",
       "      selection='cyclic', tol=0.0001, warm_start=False)"
      ]
     },
     "execution_count": 58,
     "metadata": {},
     "output_type": "execute_result"
    }
   ],
   "source": [
    "lr_model_lasso = Lasso(alpha=1162.322468679852)\n",
    "lr_model_lasso.fit(X_train_scaled, y_train)"
   ]
  },
  {
   "cell_type": "code",
   "execution_count": 59,
   "metadata": {},
   "outputs": [],
   "source": [
    "test_set_pred = lr_model_lasso.predict(X_test_scaled)"
   ]
  },
  {
   "cell_type": "code",
   "execution_count": 60,
   "metadata": {},
   "outputs": [
    {
     "name": "stderr",
     "output_type": "stream",
     "text": [
      "/Users/baka_brooks/anaconda3/envs/metis/lib/python3.7/site-packages/ipykernel_launcher.py:1: RuntimeWarning: invalid value encountered in log\n",
      "  \"\"\"Entry point for launching an IPython kernel.\n",
      "/Users/baka_brooks/anaconda3/envs/metis/lib/python3.7/site-packages/pandas/core/series.py:856: RuntimeWarning: divide by zero encountered in log\n",
      "  result = getattr(ufunc, method)(*inputs, **kwargs)\n"
     ]
    },
    {
     "data": {
      "image/png": "[encoded data removed]",
      "text/plain": [
       "<Figure size 432x288 with 1 Axes>"
      ]
     },
     "metadata": {},
     "output_type": "display_data"
    }
   ],
   "source": [
    "plt.scatter(np.log(test_set_pred), np.log(y_test), alpha=0.1)\n",
    "plt.plot(np.linspace(0,20,1000), np.linspace(0,20,1000), color='red');"
   ]
  },
  {
   "cell_type": "code",
   "execution_count": 61,
   "metadata": {},
   "outputs": [
    {
     "data": {
      "text/plain": [
       "<matplotlib.axes._subplots.AxesSubplot at 0x232bfe0ed0>"
      ]
     },
     "execution_count": 61,
     "metadata": {},
     "output_type": "execute_result"
    },
    {
     "data": {
      "image/png": "[encoded data removed]",
      "text/plain": [
       "<Figure size 432x288 with 1 Axes>"
      ]
     },
     "metadata": {},
     "output_type": "display_data"
    }
   ],
   "source": [
    "sns.scatterplot(x=test_set_pred, y=y_test-test_set_pred, alpha=0.5)"
   ]
  }
 ],
 "metadata": {
  "kernelspec": {
   "display_name": "Python [conda env:metis] *",
   "language": "python",
   "name": "conda-env-metis-py"
  },
  "language_info": {
   "codemirror_mode": {
    "name": "ipython",
    "version": 3
   },
   "file_extension": ".py",
   "mimetype": "text/x-python",
   "name": "python",
   "nbconvert_exporter": "python",
   "pygments_lexer": "ipython3",
   "version": "3.7.4"
  },
  "pycharm": {
   "stem_cell": {
    "cell_type": "raw",
    "metadata": {
     "collapsed": false
    },
    "source": []
   }
  },
  "toc-autonumbering": false,
  "toc-showmarkdowntxt": false,
  "toc-showtags": false
 },
 "nbformat": 4,
 "nbformat_minor": 4
}
