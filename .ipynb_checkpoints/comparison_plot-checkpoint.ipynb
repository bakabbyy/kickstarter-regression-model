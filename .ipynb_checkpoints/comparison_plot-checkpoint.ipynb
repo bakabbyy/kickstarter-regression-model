{
 "cells": [
  {
   "cell_type": "code",
   "execution_count": 11,
   "metadata": {},
   "outputs": [],
   "source": [
    "import matplotlib.pyplot as plt\n",
    "import seaborn as sns\n",
    "import pandas as pd\n",
    "%matplotlib inline"
   ]
  },
  {
   "cell_type": "code",
   "execution_count": 3,
   "metadata": {},
   "outputs": [],
   "source": [
    "# Set styles for plots \n",
    "sns.set('notebook')\n",
    "sns.set_style('ticks')\n",
    "sns.set_palette('pastel')\n",
    "\n",
    "# Extract RGB codes from color_palette to style plots\n",
    "color_list = sns.color_palette('pastel')"
   ]
  },
  {
   "cell_type": "code",
   "execution_count": 24,
   "metadata": {},
   "outputs": [],
   "source": [
    "x = [0, 1]\n",
    "vals = [[0.544], [0.575]]\n",
    "\n",
    "cols = ['Model 1', 'Model 2']\n",
    "\n",
    "df = pd.DataFrame(vals)"
   ]
  },
  {
   "cell_type": "code",
   "execution_count": 26,
   "metadata": {},
   "outputs": [],
   "source": [
    "df.index = ['Model 1', 'Model 2']"
   ]
  },
  {
   "cell_type": "code",
   "execution_count": 29,
   "metadata": {},
   "outputs": [],
   "source": [
    "df = df.rename(columns={0: 'R^2'})"
   ]
  },
  {
   "cell_type": "code",
   "execution_count": 54,
   "metadata": {},
   "outputs": [],
   "source": [
    "df = df.reset_index()"
   ]
  },
  {
   "cell_type": "code",
   "execution_count": 62,
   "metadata": {},
   "outputs": [
    {
     "data": {
      "image/png": "[encoded data removed]",
      "text/plain": [
       "<Figure size 360x216 with 1 Axes>"
      ]
     },
     "metadata": {
      "needs_background": "light"
     },
     "output_type": "display_data"
    }
   ],
   "source": [
    "plt.figure(figsize=[5, 3])\n",
    "#df['R^2'].plot(kind='bar', color=(1.0, 0.7058823529411765, 0.5098039215686274))\n",
    "plot = sns.barplot(x='R^2', y='index', data=df, color=(1.0, 0.7058823529411765, 0.5098039215686274))\n",
    "for index, row in df.iterrows():\n",
    "    plot.text(row['R^2'], row.name, row['R^2'], color='black', ha=\"right\")\n",
    "plt.xticks(rotation=0)\n",
    "plt.title('Model Comparison')\n",
    "plt.xlabel('R-Squared Values')\n",
    "plt.ylabel('')\n",
    "plt.savefig('model_compare.svg', transparent=True, bbox_inches='tight');"
   ]
  },
  {
   "cell_type": "code",
   "execution_count": null,
   "metadata": {},
   "outputs": [],
   "source": []
  }
 ],
 "metadata": {
  "kernelspec": {
   "display_name": "Python [conda env:metis] *",
   "language": "python",
   "name": "conda-env-metis-py"
  },
  "language_info": {
   "codemirror_mode": {
    "name": "ipython",
    "version": 3
   },
   "file_extension": ".py",
   "mimetype": "text/x-python",
   "name": "python",
   "nbconvert_exporter": "python",
   "pygments_lexer": "ipython3",
   "version": "3.7.4"
  }
 },
 "nbformat": 4,
 "nbformat_minor": 4
}
