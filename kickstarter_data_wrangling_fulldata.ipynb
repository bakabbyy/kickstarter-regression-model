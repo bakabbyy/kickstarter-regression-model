{
 "cells": [
  {
   "cell_type": "code",
   "execution_count": 1,
   "metadata": {
    "pycharm": {
     "is_executing": false
    }
   },
   "outputs": [],
   "source": [
    "import glob\n",
    "import pandas as pd\n",
    "import pickle\n",
    "import ast"
   ]
  },
  {
   "cell_type": "code",
   "execution_count": 2,
   "metadata": {
    "pycharm": {
     "is_executing": false
    }
   },
   "outputs": [],
   "source": [
    "# Grab all files witin data folder for each month in 2019\n",
    "extension = 'csv'\n",
    "directories = ['2019-01-01', '2019-02-01', '2019-03-01', '2019-04-01', '2019-05-01', '2019-06-01',\n",
    "              '2019-07-01', '2019-08-01', '2019-09-01', '2019-10-01', '2019-11-01', '2019-12-01']\n",
    "\n",
    "all_files_lists = []\n",
    "for folder in directories:\n",
    "    file_names = [i for i in glob.glob('data/Kickstarter_{}/*.{}'.format(folder, extension))]\n",
    "    all_files_lists.append(file_names)"
   ]
  },
  {
   "cell_type": "code",
   "execution_count": 3,
   "metadata": {
    "pycharm": {
     "is_executing": false
    }
   },
   "outputs": [],
   "source": [
    "# Flatten the resulting list to create a list of all file paths\n",
    "all_files = [item for sublist in all_files_lists for item in sublist]"
   ]
  },
  {
   "cell_type": "markdown",
   "metadata": {
    "pycharm": {
     "name": "#%% md\n"
    }
   },
   "source": [
    "# Dataframe concatenation and loading"
   ]
  },
  {
   "cell_type": "code",
   "execution_count": 4,
   "metadata": {
    "pycharm": {
     "is_executing": false
    }
   },
   "outputs": [],
   "source": [
    "def load_data_into_dataframe(file_names):\n",
    "    \"\"\"\n",
    "    Takes in a list of file names and creates dataframes from each element. Then each dataframe is filtered and\n",
    "    cleaned, then all dataframes are concatenated along columns.\n",
    "\n",
    "    :param file_names (list): List of file names as strings\n",
    "    :return: Pandas dataframe\n",
    "    \"\"\"\n",
    "\n",
    "    # Set dataframe filters and parameters\n",
    "    columns_to_keep = ['backers_count', 'creator', 'category', 'converted_pledged_amount', 'country',\n",
    "        'created_at', 'deadline', 'goal', 'id', 'launched_at', 'name', 'pledged', 'source_url', 'spotlight',\n",
    "        'staff_pick', 'state', 'state_changed_at', 'urls', 'usd_pledged']\n",
    "    \n",
    "    data_frames = []\n",
    "    for file in file_names:\n",
    "        df = pd.read_csv(file)\n",
    "\n",
    "        # Filter based on specified criteria\n",
    "        df = df.loc[:, columns_to_keep]\n",
    "\n",
    "        # Convert dates from unix to datetime\n",
    "        date_cols = ['created_at', 'deadline', 'launched_at', 'state_changed_at']\n",
    "        for col in date_cols:\n",
    "            df[col] = pd.to_datetime(df[col], origin='unix', unit='s')\n",
    "\n",
    "        # Clean rows\n",
    "        df.drop_duplicates('name', keep=False, inplace=True)\n",
    "\n",
    "        data_frames.append(df)\n",
    "        \n",
    "    combined_df = pd.concat(data_frames)\n",
    "    combined_df.reset_index(inplace=True, drop=True)\n",
    "    return combined_df"
   ]
  },
  {
   "cell_type": "code",
   "execution_count": 5,
   "metadata": {
    "pycharm": {
     "is_executing": true
    }
   },
   "outputs": [],
   "source": [
    "df = load_data_into_dataframe(all_files)"
   ]
  },
  {
   "cell_type": "code",
   "execution_count": 6,
   "metadata": {
    "pycharm": {
     "is_executing": true
    }
   },
   "outputs": [
    {
     "name": "stdout",
     "output_type": "stream",
     "text": [
      "(2512270, 19)\n"
     ]
    },
    {
     "data": {
      "text/html": [
       "<div>\n",
       "<style scoped>\n",
       "    .dataframe tbody tr th:only-of-type {\n",
       "        vertical-align: middle;\n",
       "    }\n",
       "\n",
       "    .dataframe tbody tr th {\n",
       "        vertical-align: top;\n",
       "    }\n",
       "\n",
       "    .dataframe thead th {\n",
       "        text-align: right;\n",
       "    }\n",
       "</style>\n",
       "<table border=\"1\" class=\"dataframe\">\n",
       "  <thead>\n",
       "    <tr style=\"text-align: right;\">\n",
       "      <th></th>\n",
       "      <th>backers_count</th>\n",
       "      <th>creator</th>\n",
       "      <th>category</th>\n",
       "      <th>converted_pledged_amount</th>\n",
       "      <th>country</th>\n",
       "      <th>created_at</th>\n",
       "      <th>deadline</th>\n",
       "      <th>goal</th>\n",
       "      <th>id</th>\n",
       "      <th>launched_at</th>\n",
       "      <th>name</th>\n",
       "      <th>pledged</th>\n",
       "      <th>source_url</th>\n",
       "      <th>spotlight</th>\n",
       "      <th>staff_pick</th>\n",
       "      <th>state</th>\n",
       "      <th>state_changed_at</th>\n",
       "      <th>urls</th>\n",
       "      <th>usd_pledged</th>\n",
       "    </tr>\n",
       "  </thead>\n",
       "  <tbody>\n",
       "    <tr>\n",
       "      <th>0</th>\n",
       "      <td>1</td>\n",
       "      <td>{\"id\":983022919,\"name\":\"Rhys Kucharski\",\"is_re...</td>\n",
       "      <td>{\"id\":356,\"name\":\"Woodworking\",\"slug\":\"crafts/...</td>\n",
       "      <td>240</td>\n",
       "      <td>US</td>\n",
       "      <td>2016-09-11 22:05:51</td>\n",
       "      <td>2016-12-05 19:42:23</td>\n",
       "      <td>5000.0</td>\n",
       "      <td>1504859185</td>\n",
       "      <td>2016-11-05 18:42:23</td>\n",
       "      <td>Industrial Bamboo Table</td>\n",
       "      <td>240.0</td>\n",
       "      <td>https://www.kickstarter.com/discover/categorie...</td>\n",
       "      <td>False</td>\n",
       "      <td>False</td>\n",
       "      <td>failed</td>\n",
       "      <td>2016-12-05 19:42:23</td>\n",
       "      <td>{\"web\":{\"project\":\"https://www.kickstarter.com...</td>\n",
       "      <td>240.000000</td>\n",
       "    </tr>\n",
       "    <tr>\n",
       "      <th>1</th>\n",
       "      <td>3</td>\n",
       "      <td>{\"id\":101531536,\"name\":\"Picadoo Custom Art\",\"i...</td>\n",
       "      <td>{\"id\":23,\"name\":\"Painting\",\"slug\":\"art/paintin...</td>\n",
       "      <td>243</td>\n",
       "      <td>CA</td>\n",
       "      <td>2015-07-10 14:59:32</td>\n",
       "      <td>2015-08-24 12:00:34</td>\n",
       "      <td>1000.0</td>\n",
       "      <td>49266114</td>\n",
       "      <td>2015-07-21 12:00:34</td>\n",
       "      <td>Custom Pet Portraits on Canvas- \"From Pixels t...</td>\n",
       "      <td>322.0</td>\n",
       "      <td>https://www.kickstarter.com/discover/categorie...</td>\n",
       "      <td>False</td>\n",
       "      <td>False</td>\n",
       "      <td>failed</td>\n",
       "      <td>2015-08-24 12:00:34</td>\n",
       "      <td>{\"web\":{\"project\":\"https://www.kickstarter.com...</td>\n",
       "      <td>247.950175</td>\n",
       "    </tr>\n",
       "    <tr>\n",
       "      <th>2</th>\n",
       "      <td>243</td>\n",
       "      <td>{\"id\":372111659,\"name\":\"Kevin, Domingo &amp; Suzie...</td>\n",
       "      <td>{\"id\":311,\"name\":\"Food Trucks\",\"slug\":\"food/fo...</td>\n",
       "      <td>41738</td>\n",
       "      <td>US</td>\n",
       "      <td>2015-03-24 17:41:14</td>\n",
       "      <td>2015-05-15 16:22:34</td>\n",
       "      <td>35000.0</td>\n",
       "      <td>1228074690</td>\n",
       "      <td>2015-04-15 16:22:34</td>\n",
       "      <td>The Barmobile: Boston's Mobile Cocktail Cateri...</td>\n",
       "      <td>41738.0</td>\n",
       "      <td>https://www.kickstarter.com/discover/categorie...</td>\n",
       "      <td>True</td>\n",
       "      <td>True</td>\n",
       "      <td>successful</td>\n",
       "      <td>2015-05-15 16:22:34</td>\n",
       "      <td>{\"web\":{\"project\":\"https://www.kickstarter.com...</td>\n",
       "      <td>41738.000000</td>\n",
       "    </tr>\n",
       "    <tr>\n",
       "      <th>3</th>\n",
       "      <td>27</td>\n",
       "      <td>{\"id\":1336552462,\"name\":\"Christine Almstrom\",\"...</td>\n",
       "      <td>{\"id\":46,\"name\":\"Children's Books\",\"slug\":\"pub...</td>\n",
       "      <td>3115</td>\n",
       "      <td>US</td>\n",
       "      <td>2017-05-18 12:30:32</td>\n",
       "      <td>2017-07-16 15:03:03</td>\n",
       "      <td>3000.0</td>\n",
       "      <td>330962986</td>\n",
       "      <td>2017-06-01 15:03:03</td>\n",
       "      <td>Grandfather Thunder &amp; The Night Horses</td>\n",
       "      <td>3115.0</td>\n",
       "      <td>https://www.kickstarter.com/discover/categorie...</td>\n",
       "      <td>True</td>\n",
       "      <td>False</td>\n",
       "      <td>successful</td>\n",
       "      <td>2017-07-16 15:03:04</td>\n",
       "      <td>{\"web\":{\"project\":\"https://www.kickstarter.com...</td>\n",
       "      <td>3115.000000</td>\n",
       "    </tr>\n",
       "    <tr>\n",
       "      <th>4</th>\n",
       "      <td>3</td>\n",
       "      <td>{\"id\":2032403632,\"name\":\"David Russell\",\"is_re...</td>\n",
       "      <td>{\"id\":298,\"name\":\"Movie Theaters\",\"slug\":\"film...</td>\n",
       "      <td>674</td>\n",
       "      <td>IE</td>\n",
       "      <td>2015-12-14 19:38:41</td>\n",
       "      <td>2016-02-13 01:56:30</td>\n",
       "      <td>15000.0</td>\n",
       "      <td>1657821447</td>\n",
       "      <td>2015-12-15 01:56:30</td>\n",
       "      <td>Save Me-A film to hightlight depression (Cance...</td>\n",
       "      <td>601.0</td>\n",
       "      <td>https://www.kickstarter.com/discover/categorie...</td>\n",
       "      <td>False</td>\n",
       "      <td>False</td>\n",
       "      <td>canceled</td>\n",
       "      <td>2016-02-10 00:54:26</td>\n",
       "      <td>{\"web\":{\"project\":\"https://www.kickstarter.com...</td>\n",
       "      <td>660.680598</td>\n",
       "    </tr>\n",
       "  </tbody>\n",
       "</table>\n",
       "</div>"
      ],
      "text/plain": [
       "   backers_count                                            creator  \\\n",
       "0              1  {\"id\":983022919,\"name\":\"Rhys Kucharski\",\"is_re...   \n",
       "1              3  {\"id\":101531536,\"name\":\"Picadoo Custom Art\",\"i...   \n",
       "2            243  {\"id\":372111659,\"name\":\"Kevin, Domingo & Suzie...   \n",
       "3             27  {\"id\":1336552462,\"name\":\"Christine Almstrom\",\"...   \n",
       "4              3  {\"id\":2032403632,\"name\":\"David Russell\",\"is_re...   \n",
       "\n",
       "                                            category  \\\n",
       "0  {\"id\":356,\"name\":\"Woodworking\",\"slug\":\"crafts/...   \n",
       "1  {\"id\":23,\"name\":\"Painting\",\"slug\":\"art/paintin...   \n",
       "2  {\"id\":311,\"name\":\"Food Trucks\",\"slug\":\"food/fo...   \n",
       "3  {\"id\":46,\"name\":\"Children's Books\",\"slug\":\"pub...   \n",
       "4  {\"id\":298,\"name\":\"Movie Theaters\",\"slug\":\"film...   \n",
       "\n",
       "   converted_pledged_amount country          created_at            deadline  \\\n",
       "0                       240      US 2016-09-11 22:05:51 2016-12-05 19:42:23   \n",
       "1                       243      CA 2015-07-10 14:59:32 2015-08-24 12:00:34   \n",
       "2                     41738      US 2015-03-24 17:41:14 2015-05-15 16:22:34   \n",
       "3                      3115      US 2017-05-18 12:30:32 2017-07-16 15:03:03   \n",
       "4                       674      IE 2015-12-14 19:38:41 2016-02-13 01:56:30   \n",
       "\n",
       "      goal          id         launched_at  \\\n",
       "0   5000.0  1504859185 2016-11-05 18:42:23   \n",
       "1   1000.0    49266114 2015-07-21 12:00:34   \n",
       "2  35000.0  1228074690 2015-04-15 16:22:34   \n",
       "3   3000.0   330962986 2017-06-01 15:03:03   \n",
       "4  15000.0  1657821447 2015-12-15 01:56:30   \n",
       "\n",
       "                                                name  pledged  \\\n",
       "0                            Industrial Bamboo Table    240.0   \n",
       "1  Custom Pet Portraits on Canvas- \"From Pixels t...    322.0   \n",
       "2  The Barmobile: Boston's Mobile Cocktail Cateri...  41738.0   \n",
       "3             Grandfather Thunder & The Night Horses   3115.0   \n",
       "4  Save Me-A film to hightlight depression (Cance...    601.0   \n",
       "\n",
       "                                          source_url  spotlight  staff_pick  \\\n",
       "0  https://www.kickstarter.com/discover/categorie...      False       False   \n",
       "1  https://www.kickstarter.com/discover/categorie...      False       False   \n",
       "2  https://www.kickstarter.com/discover/categorie...       True        True   \n",
       "3  https://www.kickstarter.com/discover/categorie...       True       False   \n",
       "4  https://www.kickstarter.com/discover/categorie...      False       False   \n",
       "\n",
       "        state    state_changed_at  \\\n",
       "0      failed 2016-12-05 19:42:23   \n",
       "1      failed 2015-08-24 12:00:34   \n",
       "2  successful 2015-05-15 16:22:34   \n",
       "3  successful 2017-07-16 15:03:04   \n",
       "4    canceled 2016-02-10 00:54:26   \n",
       "\n",
       "                                                urls   usd_pledged  \n",
       "0  {\"web\":{\"project\":\"https://www.kickstarter.com...    240.000000  \n",
       "1  {\"web\":{\"project\":\"https://www.kickstarter.com...    247.950175  \n",
       "2  {\"web\":{\"project\":\"https://www.kickstarter.com...  41738.000000  \n",
       "3  {\"web\":{\"project\":\"https://www.kickstarter.com...   3115.000000  \n",
       "4  {\"web\":{\"project\":\"https://www.kickstarter.com...    660.680598  "
      ]
     },
     "execution_count": 6,
     "metadata": {},
     "output_type": "execute_result"
    }
   ],
   "source": [
    "print(df.shape)\n",
    "df.head()"
   ]
  },
  {
   "cell_type": "markdown",
   "metadata": {},
   "source": [
    "## Include only completed projects"
   ]
  },
  {
   "cell_type": "code",
   "execution_count": 7,
   "metadata": {
    "pycharm": {
     "is_executing": true
    }
   },
   "outputs": [],
   "source": [
    "df = df.loc[df['state'].isin(['successful', 'failed'])]"
   ]
  },
  {
   "cell_type": "markdown",
   "metadata": {
    "pycharm": {
     "name": "#%% md\n"
    }
   },
   "source": [
    "## Cleaning columns read in as JSON"
   ]
  },
  {
   "cell_type": "code",
   "execution_count": 8,
   "metadata": {
    "pycharm": {
     "is_executing": true
    }
   },
   "outputs": [],
   "source": [
    "# Convert all 'category' and 'urls' JSON columns to dictionaries\n",
    "for col in ['category', 'urls']:\n",
    "    df[col] = df[col].apply(ast.literal_eval)"
   ]
  },
  {
   "cell_type": "code",
   "execution_count": 9,
   "metadata": {
    "pycharm": {
     "is_executing": true
    }
   },
   "outputs": [],
   "source": [
    "def split_dict_columns(row):\n",
    "    \"\"\"\n",
    "    Takes in a dictionary and returns the value at specific keys. this function deals with extracting\n",
    "    the category names and project urls from converted JSON columns\n",
    "\n",
    "    :param row (dict): A standard dictionary\n",
    "    :return: Any object\n",
    "    \"\"\"\n",
    "\n",
    "    if 'slug' in row.keys():\n",
    "        return row['slug']\n",
    "    elif 'web' in row.keys():\n",
    "        return row['web']['project']"
   ]
  },
  {
   "cell_type": "code",
   "execution_count": 10,
   "metadata": {
    "pycharm": {
     "is_executing": true
    }
   },
   "outputs": [
    {
     "data": {
      "text/plain": [
       "0              crafts\n",
       "1                 art\n",
       "2                food\n",
       "3          publishing\n",
       "5                food\n",
       "              ...    \n",
       "2512264        design\n",
       "2512265          food\n",
       "2512266         dance\n",
       "2512267          food\n",
       "2512268    publishing\n",
       "Name: new_category, Length: 2321752, dtype: object"
      ]
     },
     "execution_count": 10,
     "metadata": {},
     "output_type": "execute_result"
    }
   ],
   "source": [
    "# Create a new column for categories\n",
    "category_lists = df['category'].apply(split_dict_columns).map(lambda x: x.split('/'))\n",
    "df['new_category'] = category_lists.map(lambda x: x[0])\n",
    "df['new_category']"
   ]
  },
  {
   "cell_type": "code",
   "execution_count": 11,
   "metadata": {
    "pycharm": {
     "is_executing": true
    }
   },
   "outputs": [
    {
     "data": {
      "text/plain": [
       "0               woodworking\n",
       "1                  painting\n",
       "2               food trucks\n",
       "3          children's books\n",
       "5                    drinks\n",
       "                 ...       \n",
       "2512264        architecture\n",
       "2512265              drinks\n",
       "2512266               dance\n",
       "2512267              drinks\n",
       "2512268          nonfiction\n",
       "Name: subcategory, Length: 2321752, dtype: object"
      ]
     },
     "execution_count": 11,
     "metadata": {},
     "output_type": "execute_result"
    }
   ],
   "source": [
    "# Create a new column for subcategories\n",
    "df['subcategory'] = category_lists.map(lambda x: x[-1])\n",
    "df['subcategory']"
   ]
  },
  {
   "cell_type": "code",
   "execution_count": 12,
   "metadata": {
    "pycharm": {
     "is_executing": true
    }
   },
   "outputs": [
    {
     "data": {
      "text/plain": [
       "0          https://www.kickstarter.com/projects/983022919...\n",
       "1          https://www.kickstarter.com/projects/101531536...\n",
       "2          https://www.kickstarter.com/projects/372111659...\n",
       "3          https://www.kickstarter.com/projects/133655246...\n",
       "5          https://www.kickstarter.com/projects/107038669...\n",
       "                                 ...                        \n",
       "2512264    https://www.kickstarter.com/projects/862442095...\n",
       "2512265    https://www.kickstarter.com/projects/128955704...\n",
       "2512266    https://www.kickstarter.com/projects/126176310...\n",
       "2512267    https://www.kickstarter.com/projects/730281381...\n",
       "2512268    https://www.kickstarter.com/projects/louisvill...\n",
       "Name: project_url, Length: 2321752, dtype: object"
      ]
     },
     "execution_count": 12,
     "metadata": {},
     "output_type": "execute_result"
    }
   ],
   "source": [
    "# Create a new column for project urls\n",
    "df['project_url'] = df['urls'].apply(split_dict_columns)\n",
    "df['project_url']"
   ]
  },
  {
   "cell_type": "code",
   "execution_count": 13,
   "metadata": {
    "pycharm": {
     "is_executing": true
    }
   },
   "outputs": [],
   "source": [
    "# Drop extra columns\n",
    "df.drop(['creator', 'id', 'pledged', 'category', 'urls', 'converted_pledged_amount', 'source_url'], axis=1, inplace=True)"
   ]
  },
  {
   "cell_type": "code",
   "execution_count": 14,
   "metadata": {
    "pycharm": {
     "is_executing": true
    }
   },
   "outputs": [],
   "source": [
    "# Rename category column\n",
    "df.rename(columns={'new_category': 'category'}, inplace=True)"
   ]
  },
  {
   "cell_type": "code",
   "execution_count": 15,
   "metadata": {
    "pycharm": {
     "is_executing": true
    }
   },
   "outputs": [
    {
     "data": {
      "text/plain": [
       "(2321752, 15)"
      ]
     },
     "execution_count": 15,
     "metadata": {},
     "output_type": "execute_result"
    }
   ],
   "source": [
    "df.shape"
   ]
  },
  {
   "cell_type": "code",
   "execution_count": 16,
   "metadata": {
    "pycharm": {
     "is_executing": true
    }
   },
   "outputs": [],
   "source": [
    "df.reset_index(drop=True, inplace=True)"
   ]
  },
  {
   "cell_type": "markdown",
   "metadata": {},
   "source": [
    "## Create time-based columns"
   ]
  },
  {
   "cell_type": "code",
   "execution_count": 17,
   "metadata": {
    "pycharm": {
     "is_executing": true
    }
   },
   "outputs": [],
   "source": [
    "# \"Project lifetime\" --> creation date to funding deadline (rounded to the nearest day)\n",
    "df['project_life'] = (df['deadline'] - df['created_at']).dt.days\n",
    "df['project_life'] = round(df['project_life'], 0)\n",
    "\n",
    "# Length of the campaign (rounded to the nearest day)\n",
    "df['campaign_length'] = (df['deadline'] - df['launched_at']).dt.days\n",
    "df['campaign_length'] = round(df['campaign_length'], 0)\n",
    "\n",
    "# Year and month of launch\n",
    "df['launch_month'] = pd.to_datetime(df['launched_at']).dt.to_period('M')\n",
    "\n",
    "# year and month of deadline\n",
    "df['deadline_month'] = pd.to_datetime(df['deadline']).dt.to_period('M')"
   ]
  },
  {
   "cell_type": "markdown",
   "metadata": {},
   "source": [
    "## Aggregate monthly data to get averages and totals"
   ]
  },
  {
   "cell_type": "code",
   "execution_count": 18,
   "metadata": {
    "pycharm": {
     "is_executing": true
    }
   },
   "outputs": [
    {
     "data": {
      "text/html": [
       "<div>\n",
       "<style scoped>\n",
       "    .dataframe tbody tr th:only-of-type {\n",
       "        vertical-align: middle;\n",
       "    }\n",
       "\n",
       "    .dataframe tbody tr th {\n",
       "        vertical-align: top;\n",
       "    }\n",
       "\n",
       "    .dataframe thead th {\n",
       "        text-align: right;\n",
       "    }\n",
       "</style>\n",
       "<table border=\"1\" class=\"dataframe\">\n",
       "  <thead>\n",
       "    <tr style=\"text-align: right;\">\n",
       "      <th></th>\n",
       "      <th>backers_count</th>\n",
       "      <th>country</th>\n",
       "      <th>created_at</th>\n",
       "      <th>deadline</th>\n",
       "      <th>goal</th>\n",
       "      <th>launched_at</th>\n",
       "      <th>name</th>\n",
       "      <th>spotlight</th>\n",
       "      <th>staff_pick</th>\n",
       "      <th>state</th>\n",
       "      <th>state_changed_at</th>\n",
       "      <th>usd_pledged</th>\n",
       "      <th>category</th>\n",
       "      <th>subcategory</th>\n",
       "      <th>project_url</th>\n",
       "      <th>project_life</th>\n",
       "      <th>campaign_length</th>\n",
       "      <th>launch_month</th>\n",
       "      <th>deadline_month</th>\n",
       "    </tr>\n",
       "  </thead>\n",
       "  <tbody>\n",
       "    <tr>\n",
       "      <th>0</th>\n",
       "      <td>1</td>\n",
       "      <td>US</td>\n",
       "      <td>2016-09-11 22:05:51</td>\n",
       "      <td>2016-12-05 19:42:23</td>\n",
       "      <td>5000.0</td>\n",
       "      <td>2016-11-05 18:42:23</td>\n",
       "      <td>Industrial Bamboo Table</td>\n",
       "      <td>False</td>\n",
       "      <td>False</td>\n",
       "      <td>failed</td>\n",
       "      <td>2016-12-05 19:42:23</td>\n",
       "      <td>240.000000</td>\n",
       "      <td>crafts</td>\n",
       "      <td>woodworking</td>\n",
       "      <td>https://www.kickstarter.com/projects/983022919...</td>\n",
       "      <td>84</td>\n",
       "      <td>30</td>\n",
       "      <td>2016-11</td>\n",
       "      <td>2016-12</td>\n",
       "    </tr>\n",
       "    <tr>\n",
       "      <th>1</th>\n",
       "      <td>3</td>\n",
       "      <td>CA</td>\n",
       "      <td>2015-07-10 14:59:32</td>\n",
       "      <td>2015-08-24 12:00:34</td>\n",
       "      <td>1000.0</td>\n",
       "      <td>2015-07-21 12:00:34</td>\n",
       "      <td>Custom Pet Portraits on Canvas- \"From Pixels t...</td>\n",
       "      <td>False</td>\n",
       "      <td>False</td>\n",
       "      <td>failed</td>\n",
       "      <td>2015-08-24 12:00:34</td>\n",
       "      <td>247.950175</td>\n",
       "      <td>art</td>\n",
       "      <td>painting</td>\n",
       "      <td>https://www.kickstarter.com/projects/101531536...</td>\n",
       "      <td>44</td>\n",
       "      <td>34</td>\n",
       "      <td>2015-07</td>\n",
       "      <td>2015-08</td>\n",
       "    </tr>\n",
       "    <tr>\n",
       "      <th>2</th>\n",
       "      <td>243</td>\n",
       "      <td>US</td>\n",
       "      <td>2015-03-24 17:41:14</td>\n",
       "      <td>2015-05-15 16:22:34</td>\n",
       "      <td>35000.0</td>\n",
       "      <td>2015-04-15 16:22:34</td>\n",
       "      <td>The Barmobile: Boston's Mobile Cocktail Cateri...</td>\n",
       "      <td>True</td>\n",
       "      <td>True</td>\n",
       "      <td>successful</td>\n",
       "      <td>2015-05-15 16:22:34</td>\n",
       "      <td>41738.000000</td>\n",
       "      <td>food</td>\n",
       "      <td>food trucks</td>\n",
       "      <td>https://www.kickstarter.com/projects/372111659...</td>\n",
       "      <td>51</td>\n",
       "      <td>30</td>\n",
       "      <td>2015-04</td>\n",
       "      <td>2015-05</td>\n",
       "    </tr>\n",
       "    <tr>\n",
       "      <th>3</th>\n",
       "      <td>27</td>\n",
       "      <td>US</td>\n",
       "      <td>2017-05-18 12:30:32</td>\n",
       "      <td>2017-07-16 15:03:03</td>\n",
       "      <td>3000.0</td>\n",
       "      <td>2017-06-01 15:03:03</td>\n",
       "      <td>Grandfather Thunder &amp; The Night Horses</td>\n",
       "      <td>True</td>\n",
       "      <td>False</td>\n",
       "      <td>successful</td>\n",
       "      <td>2017-07-16 15:03:04</td>\n",
       "      <td>3115.000000</td>\n",
       "      <td>publishing</td>\n",
       "      <td>children's books</td>\n",
       "      <td>https://www.kickstarter.com/projects/133655246...</td>\n",
       "      <td>59</td>\n",
       "      <td>45</td>\n",
       "      <td>2017-06</td>\n",
       "      <td>2017-07</td>\n",
       "    </tr>\n",
       "    <tr>\n",
       "      <th>4</th>\n",
       "      <td>3</td>\n",
       "      <td>US</td>\n",
       "      <td>2017-06-11 02:02:05</td>\n",
       "      <td>2017-09-09 19:17:10</td>\n",
       "      <td>250000.0</td>\n",
       "      <td>2017-08-10 19:17:10</td>\n",
       "      <td>Parker's Cup Coffee &amp; Tea</td>\n",
       "      <td>False</td>\n",
       "      <td>False</td>\n",
       "      <td>failed</td>\n",
       "      <td>2017-09-09 19:17:10</td>\n",
       "      <td>61.000000</td>\n",
       "      <td>food</td>\n",
       "      <td>drinks</td>\n",
       "      <td>https://www.kickstarter.com/projects/107038669...</td>\n",
       "      <td>90</td>\n",
       "      <td>30</td>\n",
       "      <td>2017-08</td>\n",
       "      <td>2017-09</td>\n",
       "    </tr>\n",
       "  </tbody>\n",
       "</table>\n",
       "</div>"
      ],
      "text/plain": [
       "   backers_count country          created_at            deadline      goal  \\\n",
       "0              1      US 2016-09-11 22:05:51 2016-12-05 19:42:23    5000.0   \n",
       "1              3      CA 2015-07-10 14:59:32 2015-08-24 12:00:34    1000.0   \n",
       "2            243      US 2015-03-24 17:41:14 2015-05-15 16:22:34   35000.0   \n",
       "3             27      US 2017-05-18 12:30:32 2017-07-16 15:03:03    3000.0   \n",
       "4              3      US 2017-06-11 02:02:05 2017-09-09 19:17:10  250000.0   \n",
       "\n",
       "          launched_at                                               name  \\\n",
       "0 2016-11-05 18:42:23                            Industrial Bamboo Table   \n",
       "1 2015-07-21 12:00:34  Custom Pet Portraits on Canvas- \"From Pixels t...   \n",
       "2 2015-04-15 16:22:34  The Barmobile: Boston's Mobile Cocktail Cateri...   \n",
       "3 2017-06-01 15:03:03             Grandfather Thunder & The Night Horses   \n",
       "4 2017-08-10 19:17:10                          Parker's Cup Coffee & Tea   \n",
       "\n",
       "   spotlight  staff_pick       state    state_changed_at   usd_pledged  \\\n",
       "0      False       False      failed 2016-12-05 19:42:23    240.000000   \n",
       "1      False       False      failed 2015-08-24 12:00:34    247.950175   \n",
       "2       True        True  successful 2015-05-15 16:22:34  41738.000000   \n",
       "3       True       False  successful 2017-07-16 15:03:04   3115.000000   \n",
       "4      False       False      failed 2017-09-09 19:17:10     61.000000   \n",
       "\n",
       "     category       subcategory  \\\n",
       "0      crafts       woodworking   \n",
       "1         art          painting   \n",
       "2        food       food trucks   \n",
       "3  publishing  children's books   \n",
       "4        food            drinks   \n",
       "\n",
       "                                         project_url  project_life  \\\n",
       "0  https://www.kickstarter.com/projects/983022919...            84   \n",
       "1  https://www.kickstarter.com/projects/101531536...            44   \n",
       "2  https://www.kickstarter.com/projects/372111659...            51   \n",
       "3  https://www.kickstarter.com/projects/133655246...            59   \n",
       "4  https://www.kickstarter.com/projects/107038669...            90   \n",
       "\n",
       "   campaign_length launch_month deadline_month  \n",
       "0               30      2016-11        2016-12  \n",
       "1               34      2015-07        2015-08  \n",
       "2               30      2015-04        2015-05  \n",
       "3               45      2017-06        2017-07  \n",
       "4               30      2017-08        2017-09  "
      ]
     },
     "execution_count": 18,
     "metadata": {},
     "output_type": "execute_result"
    }
   ],
   "source": [
    "df.head(5)"
   ]
  },
  {
   "cell_type": "code",
   "execution_count": 19,
   "metadata": {
    "pycharm": {
     "is_executing": true
    }
   },
   "outputs": [],
   "source": [
    "# Group the data by name and find the latest data (maximum pledge amounts)\n",
    "max_amounts = df.groupby('name', as_index=False).usd_pledged.max()"
   ]
  },
  {
   "cell_type": "code",
   "execution_count": 20,
   "metadata": {
    "pycharm": {
     "is_executing": true
    }
   },
   "outputs": [],
   "source": [
    "# Inner join the data to the original dataset to filter for unique projects\n",
    "kickstarter_df = pd.merge(df, max_amounts, how='inner', left_on=['name', 'usd_pledged'], right_on=['name', 'usd_pledged'])\n",
    "kickstarter_df.drop_duplicates('name', inplace=True)"
   ]
  },
  {
   "cell_type": "code",
   "execution_count": 21,
   "metadata": {
    "pycharm": {
     "is_executing": true
    }
   },
   "outputs": [
    {
     "name": "stdout",
     "output_type": "stream",
     "text": [
      "(194318, 19)\n"
     ]
    },
    {
     "data": {
      "text/html": [
       "<div>\n",
       "<style scoped>\n",
       "    .dataframe tbody tr th:only-of-type {\n",
       "        vertical-align: middle;\n",
       "    }\n",
       "\n",
       "    .dataframe tbody tr th {\n",
       "        vertical-align: top;\n",
       "    }\n",
       "\n",
       "    .dataframe thead th {\n",
       "        text-align: right;\n",
       "    }\n",
       "</style>\n",
       "<table border=\"1\" class=\"dataframe\">\n",
       "  <thead>\n",
       "    <tr style=\"text-align: right;\">\n",
       "      <th></th>\n",
       "      <th>backers_count</th>\n",
       "      <th>country</th>\n",
       "      <th>created_at</th>\n",
       "      <th>deadline</th>\n",
       "      <th>goal</th>\n",
       "      <th>launched_at</th>\n",
       "      <th>name</th>\n",
       "      <th>spotlight</th>\n",
       "      <th>staff_pick</th>\n",
       "      <th>state</th>\n",
       "      <th>state_changed_at</th>\n",
       "      <th>usd_pledged</th>\n",
       "      <th>category</th>\n",
       "      <th>subcategory</th>\n",
       "      <th>project_url</th>\n",
       "      <th>project_life</th>\n",
       "      <th>campaign_length</th>\n",
       "      <th>launch_month</th>\n",
       "      <th>deadline_month</th>\n",
       "    </tr>\n",
       "  </thead>\n",
       "  <tbody>\n",
       "    <tr>\n",
       "      <th>0</th>\n",
       "      <td>1</td>\n",
       "      <td>US</td>\n",
       "      <td>2016-09-11 22:05:51</td>\n",
       "      <td>2016-12-05 19:42:23</td>\n",
       "      <td>5000.0</td>\n",
       "      <td>2016-11-05 18:42:23</td>\n",
       "      <td>Industrial Bamboo Table</td>\n",
       "      <td>False</td>\n",
       "      <td>False</td>\n",
       "      <td>failed</td>\n",
       "      <td>2016-12-05 19:42:23</td>\n",
       "      <td>240.000000</td>\n",
       "      <td>crafts</td>\n",
       "      <td>woodworking</td>\n",
       "      <td>https://www.kickstarter.com/projects/983022919...</td>\n",
       "      <td>84</td>\n",
       "      <td>30</td>\n",
       "      <td>2016-11</td>\n",
       "      <td>2016-12</td>\n",
       "    </tr>\n",
       "    <tr>\n",
       "      <th>12</th>\n",
       "      <td>3</td>\n",
       "      <td>CA</td>\n",
       "      <td>2015-07-10 14:59:32</td>\n",
       "      <td>2015-08-24 12:00:34</td>\n",
       "      <td>1000.0</td>\n",
       "      <td>2015-07-21 12:00:34</td>\n",
       "      <td>Custom Pet Portraits on Canvas- \"From Pixels t...</td>\n",
       "      <td>False</td>\n",
       "      <td>False</td>\n",
       "      <td>failed</td>\n",
       "      <td>2015-08-24 12:00:34</td>\n",
       "      <td>247.950175</td>\n",
       "      <td>art</td>\n",
       "      <td>painting</td>\n",
       "      <td>https://www.kickstarter.com/projects/101531536...</td>\n",
       "      <td>44</td>\n",
       "      <td>34</td>\n",
       "      <td>2015-07</td>\n",
       "      <td>2015-08</td>\n",
       "    </tr>\n",
       "    <tr>\n",
       "      <th>24</th>\n",
       "      <td>243</td>\n",
       "      <td>US</td>\n",
       "      <td>2015-03-24 17:41:14</td>\n",
       "      <td>2015-05-15 16:22:34</td>\n",
       "      <td>35000.0</td>\n",
       "      <td>2015-04-15 16:22:34</td>\n",
       "      <td>The Barmobile: Boston's Mobile Cocktail Cateri...</td>\n",
       "      <td>True</td>\n",
       "      <td>True</td>\n",
       "      <td>successful</td>\n",
       "      <td>2015-05-15 16:22:34</td>\n",
       "      <td>41738.000000</td>\n",
       "      <td>food</td>\n",
       "      <td>food trucks</td>\n",
       "      <td>https://www.kickstarter.com/projects/372111659...</td>\n",
       "      <td>51</td>\n",
       "      <td>30</td>\n",
       "      <td>2015-04</td>\n",
       "      <td>2015-05</td>\n",
       "    </tr>\n",
       "    <tr>\n",
       "      <th>36</th>\n",
       "      <td>27</td>\n",
       "      <td>US</td>\n",
       "      <td>2017-05-18 12:30:32</td>\n",
       "      <td>2017-07-16 15:03:03</td>\n",
       "      <td>3000.0</td>\n",
       "      <td>2017-06-01 15:03:03</td>\n",
       "      <td>Grandfather Thunder &amp; The Night Horses</td>\n",
       "      <td>True</td>\n",
       "      <td>False</td>\n",
       "      <td>successful</td>\n",
       "      <td>2017-07-16 15:03:04</td>\n",
       "      <td>3115.000000</td>\n",
       "      <td>publishing</td>\n",
       "      <td>children's books</td>\n",
       "      <td>https://www.kickstarter.com/projects/133655246...</td>\n",
       "      <td>59</td>\n",
       "      <td>45</td>\n",
       "      <td>2017-06</td>\n",
       "      <td>2017-07</td>\n",
       "    </tr>\n",
       "    <tr>\n",
       "      <th>48</th>\n",
       "      <td>3</td>\n",
       "      <td>US</td>\n",
       "      <td>2017-06-11 02:02:05</td>\n",
       "      <td>2017-09-09 19:17:10</td>\n",
       "      <td>250000.0</td>\n",
       "      <td>2017-08-10 19:17:10</td>\n",
       "      <td>Parker's Cup Coffee &amp; Tea</td>\n",
       "      <td>False</td>\n",
       "      <td>False</td>\n",
       "      <td>failed</td>\n",
       "      <td>2017-09-09 19:17:10</td>\n",
       "      <td>61.000000</td>\n",
       "      <td>food</td>\n",
       "      <td>drinks</td>\n",
       "      <td>https://www.kickstarter.com/projects/107038669...</td>\n",
       "      <td>90</td>\n",
       "      <td>30</td>\n",
       "      <td>2017-08</td>\n",
       "      <td>2017-09</td>\n",
       "    </tr>\n",
       "  </tbody>\n",
       "</table>\n",
       "</div>"
      ],
      "text/plain": [
       "    backers_count country          created_at            deadline      goal  \\\n",
       "0               1      US 2016-09-11 22:05:51 2016-12-05 19:42:23    5000.0   \n",
       "12              3      CA 2015-07-10 14:59:32 2015-08-24 12:00:34    1000.0   \n",
       "24            243      US 2015-03-24 17:41:14 2015-05-15 16:22:34   35000.0   \n",
       "36             27      US 2017-05-18 12:30:32 2017-07-16 15:03:03    3000.0   \n",
       "48              3      US 2017-06-11 02:02:05 2017-09-09 19:17:10  250000.0   \n",
       "\n",
       "           launched_at                                               name  \\\n",
       "0  2016-11-05 18:42:23                            Industrial Bamboo Table   \n",
       "12 2015-07-21 12:00:34  Custom Pet Portraits on Canvas- \"From Pixels t...   \n",
       "24 2015-04-15 16:22:34  The Barmobile: Boston's Mobile Cocktail Cateri...   \n",
       "36 2017-06-01 15:03:03             Grandfather Thunder & The Night Horses   \n",
       "48 2017-08-10 19:17:10                          Parker's Cup Coffee & Tea   \n",
       "\n",
       "    spotlight  staff_pick       state    state_changed_at   usd_pledged  \\\n",
       "0       False       False      failed 2016-12-05 19:42:23    240.000000   \n",
       "12      False       False      failed 2015-08-24 12:00:34    247.950175   \n",
       "24       True        True  successful 2015-05-15 16:22:34  41738.000000   \n",
       "36       True       False  successful 2017-07-16 15:03:04   3115.000000   \n",
       "48      False       False      failed 2017-09-09 19:17:10     61.000000   \n",
       "\n",
       "      category       subcategory  \\\n",
       "0       crafts       woodworking   \n",
       "12         art          painting   \n",
       "24        food       food trucks   \n",
       "36  publishing  children's books   \n",
       "48        food            drinks   \n",
       "\n",
       "                                          project_url  project_life  \\\n",
       "0   https://www.kickstarter.com/projects/983022919...            84   \n",
       "12  https://www.kickstarter.com/projects/101531536...            44   \n",
       "24  https://www.kickstarter.com/projects/372111659...            51   \n",
       "36  https://www.kickstarter.com/projects/133655246...            59   \n",
       "48  https://www.kickstarter.com/projects/107038669...            90   \n",
       "\n",
       "    campaign_length launch_month deadline_month  \n",
       "0                30      2016-11        2016-12  \n",
       "12               34      2015-07        2015-08  \n",
       "24               30      2015-04        2015-05  \n",
       "36               45      2017-06        2017-07  \n",
       "48               30      2017-08        2017-09  "
      ]
     },
     "execution_count": 21,
     "metadata": {},
     "output_type": "execute_result"
    }
   ],
   "source": [
    "print(kickstarter_df.shape)\n",
    "kickstarter_df.head(5)"
   ]
  },
  {
   "cell_type": "code",
   "execution_count": 26,
   "metadata": {
    "pycharm": {
     "is_executing": true
    }
   },
   "outputs": [],
   "source": [
    "# Calculate daily backers and funding\n",
    "kickstarter_df['daily_amount_pledged'] = round(kickstarter_df['usd_pledged'] / kickstarter_df['campaign_length'], 0)\n",
    "kickstarter_df['daily_backers'] = round(kickstarter_df['backers_count'] / kickstarter_df['campaign_length'], 4)"
   ]
  },
  {
   "cell_type": "code",
   "execution_count": 27,
   "metadata": {
    "pycharm": {
     "is_executing": true
    }
   },
   "outputs": [
    {
     "name": "stdout",
     "output_type": "stream",
     "text": [
      "0.0 332646.0\n",
      "0.0 3052.8333\n"
     ]
    }
   ],
   "source": [
    "print(kickstarter_df.daily_amount_pledged.min(), kickstarter_df.daily_amount_pledged.max())\n",
    "print(kickstarter_df.daily_backers.min(), kickstarter_df.daily_backers.max())"
   ]
  },
  {
   "cell_type": "code",
   "execution_count": 29,
   "metadata": {
    "pycharm": {
     "is_executing": true
    }
   },
   "outputs": [
    {
     "name": "stdout",
     "output_type": "stream",
     "text": [
      "(194318, 21)\n"
     ]
    },
    {
     "data": {
      "text/html": [
       "<div>\n",
       "<style scoped>\n",
       "    .dataframe tbody tr th:only-of-type {\n",
       "        vertical-align: middle;\n",
       "    }\n",
       "\n",
       "    .dataframe tbody tr th {\n",
       "        vertical-align: top;\n",
       "    }\n",
       "\n",
       "    .dataframe thead th {\n",
       "        text-align: right;\n",
       "    }\n",
       "</style>\n",
       "<table border=\"1\" class=\"dataframe\">\n",
       "  <thead>\n",
       "    <tr style=\"text-align: right;\">\n",
       "      <th></th>\n",
       "      <th>backers_count</th>\n",
       "      <th>country</th>\n",
       "      <th>created_at</th>\n",
       "      <th>deadline</th>\n",
       "      <th>goal</th>\n",
       "      <th>launched_at</th>\n",
       "      <th>name</th>\n",
       "      <th>spotlight</th>\n",
       "      <th>staff_pick</th>\n",
       "      <th>state</th>\n",
       "      <th>...</th>\n",
       "      <th>usd_pledged</th>\n",
       "      <th>category</th>\n",
       "      <th>subcategory</th>\n",
       "      <th>project_url</th>\n",
       "      <th>project_life</th>\n",
       "      <th>campaign_length</th>\n",
       "      <th>launch_month</th>\n",
       "      <th>deadline_month</th>\n",
       "      <th>daily_amount_pledged</th>\n",
       "      <th>daily_backers</th>\n",
       "    </tr>\n",
       "  </thead>\n",
       "  <tbody>\n",
       "    <tr>\n",
       "      <th>0</th>\n",
       "      <td>1</td>\n",
       "      <td>US</td>\n",
       "      <td>2016-09-11 22:05:51</td>\n",
       "      <td>2016-12-05 19:42:23</td>\n",
       "      <td>5000.0</td>\n",
       "      <td>2016-11-05 18:42:23</td>\n",
       "      <td>Industrial Bamboo Table</td>\n",
       "      <td>False</td>\n",
       "      <td>False</td>\n",
       "      <td>failed</td>\n",
       "      <td>...</td>\n",
       "      <td>240.000000</td>\n",
       "      <td>crafts</td>\n",
       "      <td>woodworking</td>\n",
       "      <td>https://www.kickstarter.com/projects/983022919...</td>\n",
       "      <td>84</td>\n",
       "      <td>30</td>\n",
       "      <td>2016-11</td>\n",
       "      <td>2016-12</td>\n",
       "      <td>8.0</td>\n",
       "      <td>0.0333</td>\n",
       "    </tr>\n",
       "    <tr>\n",
       "      <th>1</th>\n",
       "      <td>3</td>\n",
       "      <td>CA</td>\n",
       "      <td>2015-07-10 14:59:32</td>\n",
       "      <td>2015-08-24 12:00:34</td>\n",
       "      <td>1000.0</td>\n",
       "      <td>2015-07-21 12:00:34</td>\n",
       "      <td>Custom Pet Portraits on Canvas- \"From Pixels t...</td>\n",
       "      <td>False</td>\n",
       "      <td>False</td>\n",
       "      <td>failed</td>\n",
       "      <td>...</td>\n",
       "      <td>247.950175</td>\n",
       "      <td>art</td>\n",
       "      <td>painting</td>\n",
       "      <td>https://www.kickstarter.com/projects/101531536...</td>\n",
       "      <td>44</td>\n",
       "      <td>34</td>\n",
       "      <td>2015-07</td>\n",
       "      <td>2015-08</td>\n",
       "      <td>7.0</td>\n",
       "      <td>0.0882</td>\n",
       "    </tr>\n",
       "    <tr>\n",
       "      <th>2</th>\n",
       "      <td>243</td>\n",
       "      <td>US</td>\n",
       "      <td>2015-03-24 17:41:14</td>\n",
       "      <td>2015-05-15 16:22:34</td>\n",
       "      <td>35000.0</td>\n",
       "      <td>2015-04-15 16:22:34</td>\n",
       "      <td>The Barmobile: Boston's Mobile Cocktail Cateri...</td>\n",
       "      <td>True</td>\n",
       "      <td>True</td>\n",
       "      <td>successful</td>\n",
       "      <td>...</td>\n",
       "      <td>41738.000000</td>\n",
       "      <td>food</td>\n",
       "      <td>food trucks</td>\n",
       "      <td>https://www.kickstarter.com/projects/372111659...</td>\n",
       "      <td>51</td>\n",
       "      <td>30</td>\n",
       "      <td>2015-04</td>\n",
       "      <td>2015-05</td>\n",
       "      <td>1391.0</td>\n",
       "      <td>8.1000</td>\n",
       "    </tr>\n",
       "    <tr>\n",
       "      <th>3</th>\n",
       "      <td>27</td>\n",
       "      <td>US</td>\n",
       "      <td>2017-05-18 12:30:32</td>\n",
       "      <td>2017-07-16 15:03:03</td>\n",
       "      <td>3000.0</td>\n",
       "      <td>2017-06-01 15:03:03</td>\n",
       "      <td>Grandfather Thunder &amp; The Night Horses</td>\n",
       "      <td>True</td>\n",
       "      <td>False</td>\n",
       "      <td>successful</td>\n",
       "      <td>...</td>\n",
       "      <td>3115.000000</td>\n",
       "      <td>publishing</td>\n",
       "      <td>children's books</td>\n",
       "      <td>https://www.kickstarter.com/projects/133655246...</td>\n",
       "      <td>59</td>\n",
       "      <td>45</td>\n",
       "      <td>2017-06</td>\n",
       "      <td>2017-07</td>\n",
       "      <td>69.0</td>\n",
       "      <td>0.6000</td>\n",
       "    </tr>\n",
       "    <tr>\n",
       "      <th>4</th>\n",
       "      <td>3</td>\n",
       "      <td>US</td>\n",
       "      <td>2017-06-11 02:02:05</td>\n",
       "      <td>2017-09-09 19:17:10</td>\n",
       "      <td>250000.0</td>\n",
       "      <td>2017-08-10 19:17:10</td>\n",
       "      <td>Parker's Cup Coffee &amp; Tea</td>\n",
       "      <td>False</td>\n",
       "      <td>False</td>\n",
       "      <td>failed</td>\n",
       "      <td>...</td>\n",
       "      <td>61.000000</td>\n",
       "      <td>food</td>\n",
       "      <td>drinks</td>\n",
       "      <td>https://www.kickstarter.com/projects/107038669...</td>\n",
       "      <td>90</td>\n",
       "      <td>30</td>\n",
       "      <td>2017-08</td>\n",
       "      <td>2017-09</td>\n",
       "      <td>2.0</td>\n",
       "      <td>0.1000</td>\n",
       "    </tr>\n",
       "  </tbody>\n",
       "</table>\n",
       "<p>5 rows × 21 columns</p>\n",
       "</div>"
      ],
      "text/plain": [
       "   backers_count country          created_at            deadline      goal  \\\n",
       "0              1      US 2016-09-11 22:05:51 2016-12-05 19:42:23    5000.0   \n",
       "1              3      CA 2015-07-10 14:59:32 2015-08-24 12:00:34    1000.0   \n",
       "2            243      US 2015-03-24 17:41:14 2015-05-15 16:22:34   35000.0   \n",
       "3             27      US 2017-05-18 12:30:32 2017-07-16 15:03:03    3000.0   \n",
       "4              3      US 2017-06-11 02:02:05 2017-09-09 19:17:10  250000.0   \n",
       "\n",
       "          launched_at                                               name  \\\n",
       "0 2016-11-05 18:42:23                            Industrial Bamboo Table   \n",
       "1 2015-07-21 12:00:34  Custom Pet Portraits on Canvas- \"From Pixels t...   \n",
       "2 2015-04-15 16:22:34  The Barmobile: Boston's Mobile Cocktail Cateri...   \n",
       "3 2017-06-01 15:03:03             Grandfather Thunder & The Night Horses   \n",
       "4 2017-08-10 19:17:10                          Parker's Cup Coffee & Tea   \n",
       "\n",
       "   spotlight  staff_pick       state  ...   usd_pledged    category  \\\n",
       "0      False       False      failed  ...    240.000000      crafts   \n",
       "1      False       False      failed  ...    247.950175         art   \n",
       "2       True        True  successful  ...  41738.000000        food   \n",
       "3       True       False  successful  ...   3115.000000  publishing   \n",
       "4      False       False      failed  ...     61.000000        food   \n",
       "\n",
       "        subcategory                                        project_url  \\\n",
       "0       woodworking  https://www.kickstarter.com/projects/983022919...   \n",
       "1          painting  https://www.kickstarter.com/projects/101531536...   \n",
       "2       food trucks  https://www.kickstarter.com/projects/372111659...   \n",
       "3  children's books  https://www.kickstarter.com/projects/133655246...   \n",
       "4            drinks  https://www.kickstarter.com/projects/107038669...   \n",
       "\n",
       "  project_life  campaign_length  launch_month deadline_month  \\\n",
       "0           84               30       2016-11        2016-12   \n",
       "1           44               34       2015-07        2015-08   \n",
       "2           51               30       2015-04        2015-05   \n",
       "3           59               45       2017-06        2017-07   \n",
       "4           90               30       2017-08        2017-09   \n",
       "\n",
       "  daily_amount_pledged  daily_backers  \n",
       "0                  8.0         0.0333  \n",
       "1                  7.0         0.0882  \n",
       "2               1391.0         8.1000  \n",
       "3                 69.0         0.6000  \n",
       "4                  2.0         0.1000  \n",
       "\n",
       "[5 rows x 21 columns]"
      ]
     },
     "execution_count": 29,
     "metadata": {},
     "output_type": "execute_result"
    }
   ],
   "source": [
    "kickstarter_df.reset_index(drop=True, inplace=True)\n",
    "print(kickstarter_df.shape)\n",
    "kickstarter_df.head()"
   ]
  },
  {
   "cell_type": "markdown",
   "metadata": {},
   "source": [
    "## Save DataFrame to pickle File"
   ]
  },
  {
   "cell_type": "code",
   "execution_count": 30,
   "metadata": {
    "pycharm": {
     "is_executing": true
    }
   },
   "outputs": [],
   "source": [
    "# Save dataframe to pickle file\n",
    "with open('kickstarter_datafull.pickle', 'wb') as outfile:\n",
    "    pickle.dump(kickstarter_df, outfile)"
   ]
  }
 ],
 "metadata": {
  "kernelspec": {
   "display_name": "Python 3.7.4 64-bit ('metis': conda)",
   "language": "python",
   "name": "python37464bitmetisconda6ec158bba95c452caae9ce18793916df"
  },
  "language_info": {
   "codemirror_mode": {
    "name": "ipython",
    "version": 3
   },
   "file_extension": ".py",
   "mimetype": "text/x-python",
   "name": "python",
   "nbconvert_exporter": "python",
   "pygments_lexer": "ipython3",
   "version": "3.7.4"
  },
  "pycharm": {
   "stem_cell": {
    "cell_type": "raw",
    "metadata": {
     "collapsed": false
    },
    "source": []
   }
  }
 },
 "nbformat": 4,
 "nbformat_minor": 4
}
